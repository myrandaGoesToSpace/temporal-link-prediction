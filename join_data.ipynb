{
 "cells": [
  {
   "cell_type": "code",
   "execution_count": 1,
   "id": "e35d464a",
   "metadata": {
    "ExecuteTime": {
     "end_time": "2022-04-15T15:46:34.696791Z",
     "start_time": "2022-04-15T15:46:33.396543Z"
    }
   },
   "outputs": [],
   "source": [
    "import pandas as pd\n",
    "import glob"
   ]
  },
  {
   "cell_type": "code",
   "execution_count": 115,
   "id": "7a70d21d",
   "metadata": {
    "ExecuteTime": {
     "end_time": "2022-04-16T14:48:46.759601Z",
     "start_time": "2022-04-16T14:48:45.847332Z"
    }
   },
   "outputs": [],
   "source": [
    "cols = ['Year', 'Reporter Code', 'Reporter', 'Partner Code', 'Partner', 'Trade Value (US$)']\n",
    "schema = {'Year': str, 'Reporter Code': str, 'Partner Code': str}\n",
    "def dfs():\n",
    "    for file in glob.glob('data/*.csv'):\n",
    "        yield pd.read_csv(file, encoding='latin-1', usecols=cols, \n",
    "                          dtype=schema)\n",
    "df = pd.concat(dfs())\n",
    "df.dropna(inplace=True)\n",
    "df.rename(columns={'Reporter Code': 'Reporter_Code', 'Partner Code': 'Partner_Code', 'Trade Value (US$)': 'Trade_Value'}, inplace=True)"
   ]
  },
  {
   "cell_type": "code",
   "execution_count": 132,
   "id": "accc4055",
   "metadata": {
    "ExecuteTime": {
     "end_time": "2022-04-16T15:04:46.913476Z",
     "start_time": "2022-04-16T15:04:46.857006Z"
    }
   },
   "outputs": [
    {
     "name": "stdout",
     "output_type": "stream",
     "text": [
      "143 Source nodes are present. (Some have invalid data so dropped)\n",
      "Filtere records from 74077 to 66316\n"
     ]
    }
   ],
   "source": [
    "reporters = set(df.Reporter_Code.unique())\n",
    "print(len(reporters), \"Source nodes are present. (Some have invalid data so dropped)\")\n",
    "df_ = df[df.Partner_Code.isin(reporters)]  #induced sub-graph creation\n",
    "print(\"Filtere records from\", len(df), \"to\", len(df_))"
   ]
  },
  {
   "cell_type": "code",
   "execution_count": 121,
   "id": "5cb1dd98",
   "metadata": {
    "ExecuteTime": {
     "end_time": "2022-04-16T14:51:17.487456Z",
     "start_time": "2022-04-16T14:51:17.016582Z"
    },
    "scrolled": true
   },
   "outputs": [],
   "source": [
    "# Filtered DF is essentially an induced graph now. Let's save this\n",
    "df_.to_csv('filtered_df.csv', header=True)"
   ]
  },
  {
   "cell_type": "code",
   "execution_count": null,
   "id": "82544b97",
   "metadata": {},
   "outputs": [],
   "source": [
    "countries = df_.Reporter.unique()\n",
    "country_to_index = dict(zip(countries, range(len(countries))))\n",
    "index_to_country = dict(map(reversed, country_to_index.items()));"
   ]
  },
  {
   "cell_type": "code",
   "execution_count": 173,
   "id": "2de02406",
   "metadata": {
    "ExecuteTime": {
     "end_time": "2022-04-16T18:43:38.560762Z",
     "start_time": "2022-04-16T18:43:38.540665Z"
    }
   },
   "outputs": [],
   "source": [
    "# We can now start creating tensors\n",
    "import numpy as np\n",
    "# First dimension is for time (10 years)\n",
    "# Second dimension is for TO\n",
    "tensor = np.zeros((10, N, N))"
   ]
  },
  {
   "cell_type": "code",
   "execution_count": 174,
   "id": "8378061d",
   "metadata": {
    "ExecuteTime": {
     "end_time": "2022-04-16T18:43:43.121118Z",
     "start_time": "2022-04-16T18:43:39.956021Z"
    }
   },
   "outputs": [],
   "source": [
    "for i, year in enumerate(['2012', '2013', '2014', '2015', '2016', '2017', '2018', '2019', '2020', '2021']):\n",
    "    # Data of that particular year\n",
    "    df__ = df_[df_.Year == year]\n",
    "    # For the scale of this data, I think we can just iterate over it.\n",
    "    for _, row in df__.iterrows():\n",
    "        country_from = row['Partner']\n",
    "        country_to = row['Reporter']\n",
    "        tensor[i, country_to_index[country_from], country_to_index[country_to]] = row['Trade_Value']"
   ]
  },
  {
   "cell_type": "code",
   "execution_count": 175,
   "id": "fd54b680",
   "metadata": {
    "ExecuteTime": {
     "end_time": "2022-04-16T18:43:43.869923Z",
     "start_time": "2022-04-16T18:43:43.848992Z"
    }
   },
   "outputs": [
    {
     "name": "stdout",
     "output_type": "stream",
     "text": [
      "67.58% of the tensor is sparse\n"
     ]
    }
   ],
   "source": [
    "sparsity = 1.0 - np.count_nonzero(tensor) / tensor.size\n",
    "print(f\"{sparsity*100:.2f}% of the tensor is sparse\")"
   ]
  },
  {
   "cell_type": "code",
   "execution_count": 176,
   "id": "e414c934",
   "metadata": {
    "ExecuteTime": {
     "end_time": "2022-04-16T18:43:46.104618Z",
     "start_time": "2022-04-16T18:43:46.082619Z"
    }
   },
   "outputs": [
    {
     "data": {
      "text/plain": [
       "array([[[0.0000000e+00, 0.0000000e+00, 0.0000000e+00, ...,\n",
       "         0.0000000e+00, 0.0000000e+00, 0.0000000e+00],\n",
       "        [0.0000000e+00, 0.0000000e+00, 0.0000000e+00, ...,\n",
       "         0.0000000e+00, 0.0000000e+00, 0.0000000e+00],\n",
       "        [0.0000000e+00, 2.2651200e+05, 0.0000000e+00, ...,\n",
       "         0.0000000e+00, 0.0000000e+00, 0.0000000e+00],\n",
       "        ...,\n",
       "        [0.0000000e+00, 0.0000000e+00, 0.0000000e+00, ...,\n",
       "         0.0000000e+00, 0.0000000e+00, 0.0000000e+00],\n",
       "        [0.0000000e+00, 0.0000000e+00, 0.0000000e+00, ...,\n",
       "         0.0000000e+00, 0.0000000e+00, 3.5345950e+06],\n",
       "        [0.0000000e+00, 0.0000000e+00, 0.0000000e+00, ...,\n",
       "         0.0000000e+00, 1.6782854e+07, 0.0000000e+00]],\n",
       "\n",
       "       [[0.0000000e+00, 0.0000000e+00, 0.0000000e+00, ...,\n",
       "         0.0000000e+00, 0.0000000e+00, 0.0000000e+00],\n",
       "        [0.0000000e+00, 0.0000000e+00, 0.0000000e+00, ...,\n",
       "         0.0000000e+00, 0.0000000e+00, 0.0000000e+00],\n",
       "        [0.0000000e+00, 1.5125220e+06, 0.0000000e+00, ...,\n",
       "         0.0000000e+00, 0.0000000e+00, 0.0000000e+00],\n",
       "        ...,\n",
       "        [0.0000000e+00, 0.0000000e+00, 0.0000000e+00, ...,\n",
       "         0.0000000e+00, 0.0000000e+00, 0.0000000e+00],\n",
       "        [0.0000000e+00, 0.0000000e+00, 0.0000000e+00, ...,\n",
       "         0.0000000e+00, 0.0000000e+00, 3.0578450e+06],\n",
       "        [0.0000000e+00, 0.0000000e+00, 0.0000000e+00, ...,\n",
       "         0.0000000e+00, 2.1992288e+07, 0.0000000e+00]],\n",
       "\n",
       "       [[0.0000000e+00, 0.0000000e+00, 0.0000000e+00, ...,\n",
       "         0.0000000e+00, 0.0000000e+00, 0.0000000e+00],\n",
       "        [0.0000000e+00, 0.0000000e+00, 3.5000000e+02, ...,\n",
       "         0.0000000e+00, 0.0000000e+00, 0.0000000e+00],\n",
       "        [0.0000000e+00, 3.7161740e+06, 0.0000000e+00, ...,\n",
       "         0.0000000e+00, 0.0000000e+00, 0.0000000e+00],\n",
       "        ...,\n",
       "        [0.0000000e+00, 0.0000000e+00, 0.0000000e+00, ...,\n",
       "         0.0000000e+00, 0.0000000e+00, 0.0000000e+00],\n",
       "        [0.0000000e+00, 0.0000000e+00, 0.0000000e+00, ...,\n",
       "         0.0000000e+00, 0.0000000e+00, 3.3386410e+06],\n",
       "        [0.0000000e+00, 0.0000000e+00, 0.0000000e+00, ...,\n",
       "         0.0000000e+00, 1.1694264e+07, 0.0000000e+00]],\n",
       "\n",
       "       ...,\n",
       "\n",
       "       [[0.0000000e+00, 0.0000000e+00, 0.0000000e+00, ...,\n",
       "         0.0000000e+00, 0.0000000e+00, 0.0000000e+00],\n",
       "        [0.0000000e+00, 0.0000000e+00, 0.0000000e+00, ...,\n",
       "         0.0000000e+00, 0.0000000e+00, 0.0000000e+00],\n",
       "        [0.0000000e+00, 4.2088630e+06, 0.0000000e+00, ...,\n",
       "         0.0000000e+00, 0.0000000e+00, 0.0000000e+00],\n",
       "        ...,\n",
       "        [0.0000000e+00, 0.0000000e+00, 0.0000000e+00, ...,\n",
       "         0.0000000e+00, 0.0000000e+00, 0.0000000e+00],\n",
       "        [0.0000000e+00, 0.0000000e+00, 0.0000000e+00, ...,\n",
       "         0.0000000e+00, 0.0000000e+00, 9.3708070e+06],\n",
       "        [0.0000000e+00, 0.0000000e+00, 0.0000000e+00, ...,\n",
       "         0.0000000e+00, 1.1520216e+07, 0.0000000e+00]],\n",
       "\n",
       "       [[0.0000000e+00, 0.0000000e+00, 0.0000000e+00, ...,\n",
       "         0.0000000e+00, 0.0000000e+00, 0.0000000e+00],\n",
       "        [0.0000000e+00, 0.0000000e+00, 0.0000000e+00, ...,\n",
       "         0.0000000e+00, 0.0000000e+00, 0.0000000e+00],\n",
       "        [0.0000000e+00, 1.9821344e+07, 0.0000000e+00, ...,\n",
       "         0.0000000e+00, 0.0000000e+00, 0.0000000e+00],\n",
       "        ...,\n",
       "        [0.0000000e+00, 0.0000000e+00, 0.0000000e+00, ...,\n",
       "         0.0000000e+00, 0.0000000e+00, 0.0000000e+00],\n",
       "        [0.0000000e+00, 0.0000000e+00, 0.0000000e+00, ...,\n",
       "         0.0000000e+00, 0.0000000e+00, 7.0322600e+05],\n",
       "        [0.0000000e+00, 0.0000000e+00, 0.0000000e+00, ...,\n",
       "         0.0000000e+00, 1.4449761e+07, 0.0000000e+00]],\n",
       "\n",
       "       [[0.0000000e+00, 0.0000000e+00, 0.0000000e+00, ...,\n",
       "         0.0000000e+00, 0.0000000e+00, 0.0000000e+00],\n",
       "        [0.0000000e+00, 0.0000000e+00, 0.0000000e+00, ...,\n",
       "         0.0000000e+00, 0.0000000e+00, 0.0000000e+00],\n",
       "        [0.0000000e+00, 0.0000000e+00, 0.0000000e+00, ...,\n",
       "         0.0000000e+00, 0.0000000e+00, 0.0000000e+00],\n",
       "        ...,\n",
       "        [0.0000000e+00, 0.0000000e+00, 0.0000000e+00, ...,\n",
       "         0.0000000e+00, 0.0000000e+00, 0.0000000e+00],\n",
       "        [0.0000000e+00, 0.0000000e+00, 0.0000000e+00, ...,\n",
       "         0.0000000e+00, 0.0000000e+00, 0.0000000e+00],\n",
       "        [0.0000000e+00, 0.0000000e+00, 0.0000000e+00, ...,\n",
       "         0.0000000e+00, 0.0000000e+00, 0.0000000e+00]]])"
      ]
     },
     "execution_count": 176,
     "metadata": {},
     "output_type": "execute_result"
    }
   ],
   "source": [
    "tensor"
   ]
  },
  {
   "cell_type": "code",
   "execution_count": 168,
   "id": "4ac9d3f7",
   "metadata": {
    "ExecuteTime": {
     "end_time": "2022-04-16T16:13:35.745378Z",
     "start_time": "2022-04-16T16:13:29.336094Z"
    }
   },
   "outputs": [
    {
     "name": "stdout",
     "output_type": "stream",
     "text": [
      "Collecting tensorly\n",
      "  Downloading tensorly-0.7.0-py3-none-any.whl (198 kB)\n",
      "Requirement already satisfied: scipy in c:\\programdata\\miniconda3\\lib\\site-packages (from tensorly) (1.7.3)\n",
      "Collecting nose\n",
      "  Downloading nose-1.3.7-py3-none-any.whl (154 kB)\n",
      "Requirement already satisfied: numpy in c:\\programdata\\miniconda3\\lib\\site-packages (from tensorly) (1.21.5)\n",
      "Installing collected packages: nose, tensorly\n",
      "Successfully installed nose-1.3.7 tensorly-0.7.0\n"
     ]
    }
   ],
   "source": [
    "!pip install tensorly"
   ]
  },
  {
   "cell_type": "code",
   "execution_count": 177,
   "id": "e7f3c7f2",
   "metadata": {
    "ExecuteTime": {
     "end_time": "2022-04-16T18:44:28.807341Z",
     "start_time": "2022-04-16T18:44:28.786354Z"
    },
    "scrolled": true
   },
   "outputs": [
    {
     "data": {
      "text/plain": [
       "array([[[ 0.        ,  0.        ,  0.        , ...,  0.        ,\n",
       "          0.        ,  0.        ],\n",
       "        [ 0.        ,  0.        ,  0.        , ...,  0.        ,\n",
       "          0.        ,  0.        ],\n",
       "        [ 0.        , 12.3305532 ,  0.        , ...,  0.        ,\n",
       "          0.        ,  0.        ],\n",
       "        ...,\n",
       "        [ 0.        ,  0.        ,  0.        , ...,  0.        ,\n",
       "          0.        ,  0.        ],\n",
       "        [ 0.        ,  0.        ,  0.        , ...,  0.        ,\n",
       "          0.        , 15.07810928],\n",
       "        [ 0.        ,  0.        ,  0.        , ...,  0.        ,\n",
       "         16.63586833,  0.        ]],\n",
       "\n",
       "       [[ 0.        ,  0.        ,  0.        , ...,  0.        ,\n",
       "          0.        ,  0.        ],\n",
       "        [ 0.        ,  0.        ,  0.        , ...,  0.        ,\n",
       "          0.        ,  0.        ],\n",
       "        [ 0.        , 14.22928901,  0.        , ...,  0.        ,\n",
       "          0.        ,  0.        ],\n",
       "        ...,\n",
       "        [ 0.        ,  0.        ,  0.        , ...,  0.        ,\n",
       "          0.        ,  0.        ],\n",
       "        [ 0.        ,  0.        ,  0.        , ...,  0.        ,\n",
       "          0.        , 14.93322098],\n",
       "        [ 0.        ,  0.        ,  0.        , ...,  0.        ,\n",
       "         16.9062024 ,  0.        ]],\n",
       "\n",
       "       [[ 0.        ,  0.        ,  0.        , ...,  0.        ,\n",
       "          0.        ,  0.        ],\n",
       "        [ 0.        ,  0.        ,  5.85793315, ...,  0.        ,\n",
       "          0.        ,  0.        ],\n",
       "        [ 0.        , 15.1282052 ,  0.        , ...,  0.        ,\n",
       "          0.        ,  0.        ],\n",
       "        ...,\n",
       "        [ 0.        ,  0.        ,  0.        , ...,  0.        ,\n",
       "          0.        ,  0.        ],\n",
       "        [ 0.        ,  0.        ,  0.        , ...,  0.        ,\n",
       "          0.        , 15.0210744 ],\n",
       "        [ 0.        ,  0.        ,  0.        , ...,  0.        ,\n",
       "         16.27460902,  0.        ]],\n",
       "\n",
       "       ...,\n",
       "\n",
       "       [[ 0.        ,  0.        ,  0.        , ...,  0.        ,\n",
       "          0.        ,  0.        ],\n",
       "        [ 0.        ,  0.        ,  0.        , ...,  0.        ,\n",
       "          0.        ,  0.        ],\n",
       "        [ 0.        , 15.2527031 ,  0.        , ...,  0.        ,\n",
       "          0.        ,  0.        ],\n",
       "        ...,\n",
       "        [ 0.        ,  0.        ,  0.        , ...,  0.        ,\n",
       "          0.        ,  0.        ],\n",
       "        [ 0.        ,  0.        ,  0.        , ...,  0.        ,\n",
       "          0.        , 16.05310978],\n",
       "        [ 0.        ,  0.        ,  0.        , ...,  0.        ,\n",
       "         16.25961396,  0.        ]],\n",
       "\n",
       "       [[ 0.        ,  0.        ,  0.        , ...,  0.        ,\n",
       "          0.        ,  0.        ],\n",
       "        [ 0.        ,  0.        ,  0.        , ...,  0.        ,\n",
       "          0.        ,  0.        ],\n",
       "        [ 0.        , 16.80226989,  0.        , ...,  0.        ,\n",
       "          0.        ,  0.        ],\n",
       "        ...,\n",
       "        [ 0.        ,  0.        ,  0.        , ...,  0.        ,\n",
       "          0.        ,  0.        ],\n",
       "        [ 0.        ,  0.        ,  0.        , ...,  0.        ,\n",
       "          0.        , 13.4634336 ],\n",
       "        [ 0.        ,  0.        ,  0.        , ...,  0.        ,\n",
       "         16.48618843,  0.        ]],\n",
       "\n",
       "       [[ 0.        ,  0.        ,  0.        , ...,  0.        ,\n",
       "          0.        ,  0.        ],\n",
       "        [ 0.        ,  0.        ,  0.        , ...,  0.        ,\n",
       "          0.        ,  0.        ],\n",
       "        [ 0.        ,  0.        ,  0.        , ...,  0.        ,\n",
       "          0.        ,  0.        ],\n",
       "        ...,\n",
       "        [ 0.        ,  0.        ,  0.        , ...,  0.        ,\n",
       "          0.        ,  0.        ],\n",
       "        [ 0.        ,  0.        ,  0.        , ...,  0.        ,\n",
       "          0.        ,  0.        ],\n",
       "        [ 0.        ,  0.        ,  0.        , ...,  0.        ,\n",
       "          0.        ,  0.        ]]])"
      ]
     },
     "execution_count": 177,
     "metadata": {},
     "output_type": "execute_result"
    }
   ],
   "source": [
    "# Normalizing our tensor. For the first version, let's just calculate the log\n",
    "non_zeros = (tensor!=0)\n",
    "tensor[non_zeros] = np.log(tensor[non_zeros])\n",
    "tensor"
   ]
  },
  {
   "cell_type": "code",
   "execution_count": 245,
   "id": "e84d286b",
   "metadata": {
    "ExecuteTime": {
     "end_time": "2022-04-16T20:10:11.722064Z",
     "start_time": "2022-04-16T20:09:15.457840Z"
    }
   },
   "outputs": [
    {
     "name": "stdout",
     "output_type": "stream",
     "text": [
      "Shape of A (143, 150)\n",
      "Shape of B (143, 150)\n",
      "Shape of T (150,)\n",
      "Shape of W (150,)\n",
      "Shape of np.diag(W*T) (150, 150)\n"
     ]
    },
    {
     "data": {
      "text/plain": [
       "array([ 6.03127935, 18.26250606, 12.36066673, ..., 16.11366776,\n",
       "        9.5186101 , 16.40344908])"
      ]
     },
     "execution_count": 245,
     "metadata": {},
     "output_type": "execute_result"
    }
   ],
   "source": [
    "from tensorly.decomposition import parafac\n",
    "\n",
    "# Can tinker with ranks\n",
    "# Mask has a special significance, we should really discuss and explore more about it\n",
    "weights, factors = parafac(tensor, rank=150, normalize_factors=True, mask=non_zeros, random_state=42)\n",
    "\n",
    "def get_slice(A, B, T, W):\n",
    "    # Given the two matrices, get the slice\n",
    "    print(\"Shape of A\", A.shape)\n",
    "    print(\"Shape of B\", B.shape)\n",
    "    print(\"Shape of T\", T.shape)\n",
    "    print(\"Shape of W\", W.shape)\n",
    "    print (\"Shape of np.diag(W*T)\", np.diag(W*T).shape)\n",
    "    return np.matmul(np.matmul(A, np.diag(W*T)), B.T)\n",
    "\n",
    "sl = get_slice(factors[1], factors[2], factors[0][0], weights)\n",
    "sl[non_zeros[0]]"
   ]
  },
  {
   "cell_type": "code",
   "execution_count": 247,
   "id": "f16fc695",
   "metadata": {
    "ExecuteTime": {
     "end_time": "2022-04-16T20:10:30.281674Z",
     "start_time": "2022-04-16T20:10:30.262711Z"
    },
    "scrolled": true
   },
   "outputs": [
    {
     "data": {
      "text/plain": [
       "array([0.05322007, 0.35896177, 0.03118399, ..., 0.57954401, 0.09017892,\n",
       "       0.23241925])"
      ]
     },
     "execution_count": 247,
     "metadata": {},
     "output_type": "execute_result"
    }
   ],
   "source": [
    "np.abs(tensor[0][non_zeros[0]] - sl[non_zeros[0]])"
   ]
  },
  {
   "cell_type": "code",
   "execution_count": 249,
   "id": "43598751",
   "metadata": {
    "ExecuteTime": {
     "end_time": "2022-04-16T22:09:17.812912Z",
     "start_time": "2022-04-16T22:09:17.793947Z"
    }
   },
   "outputs": [
    {
     "data": {
      "text/plain": [
       "[137.39251625468327,\n",
       " 161.67177631385053,\n",
       " 166.7337774454309,\n",
       " 179.1791473387217,\n",
       " 179.50554036489348,\n",
       " 181.39027839453132,\n",
       " 182.70012840535136,\n",
       " 189.14555475934338,\n",
       " 191.52911719434852,\n",
       " 193.66959994399187,\n",
       " 196.24818911704196,\n",
       " 197.80161868366523,\n",
       " 200.70945401253252,\n",
       " 201.11295879024217,\n",
       " 201.78149235802553,\n",
       " 202.1204402348674,\n",
       " 202.541241430834,\n",
       " 205.1790255626776,\n",
       " 205.80586062153264,\n",
       " 208.56791299820014,\n",
       " 210.64061369936255,\n",
       " 213.05286914525504,\n",
       " 213.61710743854434,\n",
       " 215.57384701906597,\n",
       " 218.49618490407275,\n",
       " 218.6661669950523,\n",
       " 219.277845852132,\n",
       " 220.11190359253047,\n",
       " 221.1104126330611,\n",
       " 222.3132436579153,\n",
       " 223.64219523890932,\n",
       " 227.30688430815886,\n",
       " 229.15663478372892,\n",
       " 230.7824504185294,\n",
       " 233.6050637590476,\n",
       " 236.08730048503884,\n",
       " 240.39019238098317,\n",
       " 240.83601482960458,\n",
       " 241.80773327069025,\n",
       " 243.5184396126036,\n",
       " 244.50528089797425,\n",
       " 245.04541880169873,\n",
       " 247.16420188073155,\n",
       " 247.30894563064123,\n",
       " 247.88151782000406,\n",
       " 250.44548171306826,\n",
       " 254.36430937149467,\n",
       " 255.1683344406849,\n",
       " 255.97930196560068,\n",
       " 257.7699037460697,\n",
       " 258.21559216586735,\n",
       " 258.5901264787153,\n",
       " 259.09320951223674,\n",
       " 259.35730594421176,\n",
       " 259.4732793006958,\n",
       " 261.13867584983586,\n",
       " 261.4927129913444,\n",
       " 262.0330649125942,\n",
       " 262.0659208106494,\n",
       " 263.465720306312,\n",
       " 264.46445317570914,\n",
       " 265.32695666315436,\n",
       " 265.8841518112758,\n",
       " 266.7274567059056,\n",
       " 268.6367840325421,\n",
       " 272.7606774116547,\n",
       " 274.18144710812925,\n",
       " 274.1857368215972,\n",
       " 277.3472281693348,\n",
       " 280.32099368695884,\n",
       " 280.34020636499804,\n",
       " 281.0428052947912,\n",
       " 282.0238190884576,\n",
       " 284.8057712633334,\n",
       " 286.81812767765143,\n",
       " 287.0291127402343,\n",
       " 289.2365456078945,\n",
       " 290.1838498793066,\n",
       " 292.345683889503,\n",
       " 292.5064412475343,\n",
       " 295.3169421346019,\n",
       " 295.70264827024994,\n",
       " 296.2557397321674,\n",
       " 296.4871324655943,\n",
       " 300.54562891288344,\n",
       " 302.45907333699313,\n",
       " 306.8910893410551,\n",
       " 308.1570459919691,\n",
       " 311.1651105067694,\n",
       " 311.468126772522,\n",
       " 314.7964508220254,\n",
       " 315.868414041669,\n",
       " 317.2071640522003,\n",
       " 318.18862577149605,\n",
       " 319.8239529499405,\n",
       " 319.91068695858394,\n",
       " 321.1272061684516,\n",
       " 321.6458530162557,\n",
       " 325.40310818551455,\n",
       " 328.52174919563316,\n",
       " 329.97614334850323,\n",
       " 329.9827129815571,\n",
       " 330.0376457285648,\n",
       " 330.09357753232365,\n",
       " 330.7839357382781,\n",
       " 331.51642669266045,\n",
       " 331.57443721446947,\n",
       " 332.59341146878063,\n",
       " 333.21510871483594,\n",
       " 333.32343883124554,\n",
       " 333.3285137425734,\n",
       " 333.34598751354673,\n",
       " 335.3913996331009,\n",
       " 336.09237751651375,\n",
       " 336.13682957969297,\n",
       " 338.8776794576873,\n",
       " 339.9804899831705,\n",
       " 340.3903894771196,\n",
       " 344.17002650367846,\n",
       " 344.22473378211464,\n",
       " 345.5536751647052,\n",
       " 346.307139338048,\n",
       " 351.9093732832728,\n",
       " 352.2804771925878,\n",
       " 352.38950225022955,\n",
       " 354.9587439904646,\n",
       " 356.02155201573413,\n",
       " 358.1533772249217,\n",
       " 358.8129514987958,\n",
       " 362.58810199716703,\n",
       " 364.5806870696662,\n",
       " 364.76662624744426,\n",
       " 368.6152498037882,\n",
       " 370.10768303987794,\n",
       " 377.0452664986083,\n",
       " 381.2492742536772,\n",
       " 390.41315525385374,\n",
       " 392.69769009592943,\n",
       " 404.0727906765466,\n",
       " 426.0558746787709,\n",
       " 429.3993119509169,\n",
       " 441.3532627663586,\n",
       " 453.62811860977115,\n",
       " 460.51521280653327,\n",
       " 557.0401932881886,\n",
       " 611.8609845783269,\n",
       " 723.7825683248118,\n",
       " 842.5729109243061,\n",
       " 1076.6942269307472,\n",
       " 3320.3580273158805]"
      ]
     },
     "execution_count": 249,
     "metadata": {},
     "output_type": "execute_result"
    }
   ],
   "source": [
    "sorted(weights)"
   ]
  },
  {
   "cell_type": "code",
   "execution_count": 229,
   "id": "7a9722dc",
   "metadata": {
    "ExecuteTime": {
     "end_time": "2022-04-16T19:56:42.307964Z",
     "start_time": "2022-04-16T19:56:42.289961Z"
    }
   },
   "outputs": [
    {
     "name": "stdout",
     "output_type": "stream",
     "text": [
      "Shape of A (143, 4)\n",
      "Shape of B (143, 4)\n",
      "Shape of T (4,)\n",
      "Shape of W (4,)\n",
      "Shape of np.diag(W*T) (4, 4)\n"
     ]
    },
    {
     "data": {
      "text/plain": [
       "array([13.04819786, 12.08905928,  7.82025492, ..., 16.10650448,\n",
       "       12.51119898, 13.90951056])"
      ]
     },
     "execution_count": 229,
     "metadata": {},
     "output_type": "execute_result"
    }
   ],
   "source": [
    "\n"
   ]
  },
  {
   "cell_type": "code",
   "execution_count": 230,
   "id": "18b05be1",
   "metadata": {
    "ExecuteTime": {
     "end_time": "2022-04-16T19:57:11.805002Z",
     "start_time": "2022-04-16T19:57:11.784998Z"
    }
   },
   "outputs": [
    {
     "data": {
      "text/plain": [
       "array([ 6.08449941, 17.9035443 , 12.39185072, ..., 16.69321177,\n",
       "        9.42843118, 16.63586833])"
      ]
     },
     "execution_count": 230,
     "metadata": {},
     "output_type": "execute_result"
    }
   ],
   "source": []
  },
  {
   "cell_type": "code",
   "execution_count": null,
   "id": "640cfe09",
   "metadata": {
    "ExecuteTime": {
     "end_time": "2022-04-15T16:46:44.680613Z",
     "start_time": "2022-04-15T16:46:44.655613Z"
    }
   },
   "outputs": [],
   "source": []
  },
  {
   "cell_type": "code",
   "execution_count": null,
   "id": "98defaea",
   "metadata": {
    "ExecuteTime": {
     "end_time": "2022-04-15T18:30:32.863836Z",
     "start_time": "2022-04-15T18:30:32.811313Z"
    }
   },
   "outputs": [],
   "source": []
  },
  {
   "cell_type": "code",
   "execution_count": null,
   "id": "5d1f48fe",
   "metadata": {
    "ExecuteTime": {
     "end_time": "2022-04-15T18:30:34.516483Z",
     "start_time": "2022-04-15T18:30:34.472057Z"
    },
    "scrolled": false
   },
   "outputs": [],
   "source": []
  },
  {
   "cell_type": "code",
   "execution_count": 106,
   "id": "199dc6e2",
   "metadata": {
    "ExecuteTime": {
     "end_time": "2022-04-15T18:51:12.809476Z",
     "start_time": "2022-04-15T18:51:12.767615Z"
    }
   },
   "outputs": [],
   "source": []
  },
  {
   "cell_type": "code",
   "execution_count": null,
   "id": "fb75350a",
   "metadata": {
    "ExecuteTime": {
     "end_time": "2022-04-16T14:51:38.135348Z",
     "start_time": "2022-04-16T14:51:33.806576Z"
    }
   },
   "outputs": [],
   "source": []
  },
  {
   "cell_type": "code",
   "execution_count": null,
   "id": "8459dbce",
   "metadata": {},
   "outputs": [],
   "source": []
  },
  {
   "cell_type": "code",
   "execution_count": null,
   "id": "f19d4faa",
   "metadata": {},
   "outputs": [],
   "source": []
  },
  {
   "cell_type": "code",
   "execution_count": null,
   "id": "124f2f14",
   "metadata": {},
   "outputs": [],
   "source": []
  },
  {
   "cell_type": "code",
   "execution_count": null,
   "id": "bbb3cb64",
   "metadata": {},
   "outputs": [],
   "source": []
  },
  {
   "cell_type": "code",
   "execution_count": null,
   "id": "f82249c5",
   "metadata": {},
   "outputs": [],
   "source": []
  },
  {
   "cell_type": "code",
   "execution_count": null,
   "id": "daf04f36",
   "metadata": {},
   "outputs": [],
   "source": []
  }
 ],
 "metadata": {
  "kernelspec": {
   "display_name": "Python 3 (ipykernel)",
   "language": "python",
   "name": "python3"
  },
  "language_info": {
   "codemirror_mode": {
    "name": "ipython",
    "version": 3
   },
   "file_extension": ".py",
   "mimetype": "text/x-python",
   "name": "python",
   "nbconvert_exporter": "python",
   "pygments_lexer": "ipython3",
   "version": "3.9.5"
  },
  "latex_envs": {
   "LaTeX_envs_menu_present": true,
   "autoclose": false,
   "autocomplete": true,
   "bibliofile": "biblio.bib",
   "cite_by": "apalike",
   "current_citInitial": 1,
   "eqLabelWithNumbers": true,
   "eqNumInitial": 1,
   "hotkeys": {
    "equation": "Ctrl-E",
    "itemize": "Ctrl-I"
   },
   "labels_anchors": false,
   "latex_user_defs": false,
   "report_style_numbering": false,
   "user_envs_cfg": false
  }
 },
 "nbformat": 4,
 "nbformat_minor": 5
}
