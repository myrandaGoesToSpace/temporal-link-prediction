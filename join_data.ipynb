{
 "cells": [
  {
   "cell_type": "code",
   "execution_count": 1,
   "id": "17e8f2cf",
   "metadata": {
    "ExecuteTime": {
     "end_time": "2022-04-15T15:46:34.696791Z",
     "start_time": "2022-04-15T15:46:33.396543Z"
    }
   },
   "outputs": [],
   "source": [
    "import pandas as pd\n",
    "import glob"
   ]
  },
  {
   "cell_type": "code",
   "execution_count": 115,
   "id": "390cb344",
   "metadata": {
    "ExecuteTime": {
     "end_time": "2022-04-16T14:48:46.759601Z",
     "start_time": "2022-04-16T14:48:45.847332Z"
    }
   },
   "outputs": [],
   "source": [
    "cols = ['Year', 'Reporter Code', 'Reporter', 'Partner Code', 'Partner', 'Trade Value (US$)']\n",
    "schema = {'Year': str, 'Reporter Code': str, 'Partner Code': str}\n",
    "def dfs():\n",
    "    for file in glob.glob('data/*.csv'):\n",
    "        yield pd.read_csv(file, encoding='latin-1', usecols=cols, \n",
    "                          dtype=schema)\n",
    "df = pd.concat(dfs())\n",
    "df.dropna(inplace=True)\n",
    "df.rename(columns={'Reporter Code': 'Reporter_Code', 'Partner Code': 'Partner_Code', 'Trade Value (US$)': 'Trade_Value'}, inplace=True)"
   ]
  },
  {
   "cell_type": "code",
   "execution_count": 132,
   "id": "43c920c7",
   "metadata": {
    "ExecuteTime": {
     "end_time": "2022-04-16T15:04:46.913476Z",
     "start_time": "2022-04-16T15:04:46.857006Z"
    }
   },
   "outputs": [
    {
     "name": "stdout",
     "output_type": "stream",
     "text": [
      "143 Source nodes are present. (Some have invalid data so dropped)\n",
      "Filtere records from 74077 to 66316\n"
     ]
    }
   ],
   "source": [
    "reporters = set(df.Reporter_Code.unique())\n",
    "print(len(reporters), \"Source nodes are present. (Some have invalid data so dropped)\")\n",
    "df_ = df[df.Partner_Code.isin(reporters)]  #induced sub-graph creation\n",
    "print(\"Filtere records from\", len(df), \"to\", len(df_))"
   ]
  },
  {
   "cell_type": "code",
   "execution_count": 121,
   "id": "11dd48cc",
   "metadata": {
    "ExecuteTime": {
     "end_time": "2022-04-16T14:51:17.487456Z",
     "start_time": "2022-04-16T14:51:17.016582Z"
    },
    "scrolled": true
   },
   "outputs": [],
   "source": [
    "# Filtered DF is essentially an induced graph now. Let's save this\n",
    "df_.to_csv('filtered_df.csv', header=True)"
   ]
  },
  {
   "cell_type": "code",
   "execution_count": null,
   "id": "f3752de4",
   "metadata": {},
   "outputs": [],
   "source": [
    "countries = df_.Reporter.unique()\n",
    "country_to_index = dict(zip(countries, range(len(countries))))\n",
    "index_to_country = dict(map(reversed, country_to_index.items()));"
   ]
  },
  {
   "cell_type": "code",
   "execution_count": 155,
   "id": "9452b0fc",
   "metadata": {
    "ExecuteTime": {
     "end_time": "2022-04-16T15:16:46.758273Z",
     "start_time": "2022-04-16T15:16:46.736958Z"
    }
   },
   "outputs": [],
   "source": [
    "# We can now start creating tensors\n",
    "import numpy as np\n",
    "# First dimension is for time (10 years)\n",
    "# Second dimension is for TO\n",
    "tensor = np.zeros((10, N, N))"
   ]
  },
  {
   "cell_type": "code",
   "execution_count": 161,
   "id": "1bcd285e",
   "metadata": {
    "ExecuteTime": {
     "end_time": "2022-04-16T15:23:02.766789Z",
     "start_time": "2022-04-16T15:22:59.221077Z"
    }
   },
   "outputs": [],
   "source": [
    "for i, year in enumerate(['2012', '2013', '2014', '2015', '2016', '2017', '2018', '2019', '2020', '2021']):\n",
    "    # Data of that particular year\n",
    "    df__ = df_[df_.Year == year]\n",
    "    # For the scale of this data, I think we can just iterate over it.\n",
    "    for _, row in df__.iterrows():\n",
    "        country_from = row['Partner']\n",
    "        country_to = row['Reporter']\n",
    "        tensor[i, country_to_index[country_from], country_to_index[country_to]] = row['Trade_Value']"
   ]
  },
  {
   "cell_type": "code",
   "execution_count": 166,
   "id": "1f613cb9",
   "metadata": {
    "ExecuteTime": {
     "end_time": "2022-04-16T15:25:52.290346Z",
     "start_time": "2022-04-16T15:25:52.275556Z"
    }
   },
   "outputs": [
    {
     "name": "stdout",
     "output_type": "stream",
     "text": [
      "67.58% of the tensor is sparse\n"
     ]
    }
   ],
   "source": [
    "sparsity = 1.0 - np.count_nonzero(tensor) / tensor.size\n",
    "print(f\"{sparsity*100:.2f}% of the tensor is sparse\")"
   ]
  },
  {
   "cell_type": "code",
   "execution_count": 167,
   "id": "69b10a8f",
   "metadata": {
    "ExecuteTime": {
     "end_time": "2022-04-16T15:26:52.410353Z",
     "start_time": "2022-04-16T15:26:52.357463Z"
    }
   },
   "outputs": [
    {
     "data": {
      "text/plain": [
       "array([[[0.0000000e+00, 0.0000000e+00, 0.0000000e+00, ...,\n",
       "         0.0000000e+00, 0.0000000e+00, 0.0000000e+00],\n",
       "        [0.0000000e+00, 0.0000000e+00, 0.0000000e+00, ...,\n",
       "         0.0000000e+00, 0.0000000e+00, 0.0000000e+00],\n",
       "        [0.0000000e+00, 2.2651200e+05, 0.0000000e+00, ...,\n",
       "         0.0000000e+00, 0.0000000e+00, 0.0000000e+00],\n",
       "        ...,\n",
       "        [0.0000000e+00, 0.0000000e+00, 0.0000000e+00, ...,\n",
       "         0.0000000e+00, 0.0000000e+00, 0.0000000e+00],\n",
       "        [0.0000000e+00, 0.0000000e+00, 0.0000000e+00, ...,\n",
       "         0.0000000e+00, 0.0000000e+00, 3.5345950e+06],\n",
       "        [0.0000000e+00, 0.0000000e+00, 0.0000000e+00, ...,\n",
       "         0.0000000e+00, 1.6782854e+07, 0.0000000e+00]],\n",
       "\n",
       "       [[0.0000000e+00, 0.0000000e+00, 0.0000000e+00, ...,\n",
       "         0.0000000e+00, 0.0000000e+00, 0.0000000e+00],\n",
       "        [0.0000000e+00, 0.0000000e+00, 0.0000000e+00, ...,\n",
       "         0.0000000e+00, 0.0000000e+00, 0.0000000e+00],\n",
       "        [0.0000000e+00, 1.5125220e+06, 0.0000000e+00, ...,\n",
       "         0.0000000e+00, 0.0000000e+00, 0.0000000e+00],\n",
       "        ...,\n",
       "        [0.0000000e+00, 0.0000000e+00, 0.0000000e+00, ...,\n",
       "         0.0000000e+00, 0.0000000e+00, 0.0000000e+00],\n",
       "        [0.0000000e+00, 0.0000000e+00, 0.0000000e+00, ...,\n",
       "         0.0000000e+00, 0.0000000e+00, 3.0578450e+06],\n",
       "        [0.0000000e+00, 0.0000000e+00, 0.0000000e+00, ...,\n",
       "         0.0000000e+00, 2.1992288e+07, 0.0000000e+00]],\n",
       "\n",
       "       [[0.0000000e+00, 0.0000000e+00, 0.0000000e+00, ...,\n",
       "         0.0000000e+00, 0.0000000e+00, 0.0000000e+00],\n",
       "        [0.0000000e+00, 0.0000000e+00, 3.5000000e+02, ...,\n",
       "         0.0000000e+00, 0.0000000e+00, 0.0000000e+00],\n",
       "        [0.0000000e+00, 3.7161740e+06, 0.0000000e+00, ...,\n",
       "         0.0000000e+00, 0.0000000e+00, 0.0000000e+00],\n",
       "        ...,\n",
       "        [0.0000000e+00, 0.0000000e+00, 0.0000000e+00, ...,\n",
       "         0.0000000e+00, 0.0000000e+00, 0.0000000e+00],\n",
       "        [0.0000000e+00, 0.0000000e+00, 0.0000000e+00, ...,\n",
       "         0.0000000e+00, 0.0000000e+00, 3.3386410e+06],\n",
       "        [0.0000000e+00, 0.0000000e+00, 0.0000000e+00, ...,\n",
       "         0.0000000e+00, 1.1694264e+07, 0.0000000e+00]],\n",
       "\n",
       "       ...,\n",
       "\n",
       "       [[0.0000000e+00, 0.0000000e+00, 0.0000000e+00, ...,\n",
       "         0.0000000e+00, 0.0000000e+00, 0.0000000e+00],\n",
       "        [0.0000000e+00, 0.0000000e+00, 0.0000000e+00, ...,\n",
       "         0.0000000e+00, 0.0000000e+00, 0.0000000e+00],\n",
       "        [0.0000000e+00, 4.2088630e+06, 0.0000000e+00, ...,\n",
       "         0.0000000e+00, 0.0000000e+00, 0.0000000e+00],\n",
       "        ...,\n",
       "        [0.0000000e+00, 0.0000000e+00, 0.0000000e+00, ...,\n",
       "         0.0000000e+00, 0.0000000e+00, 0.0000000e+00],\n",
       "        [0.0000000e+00, 0.0000000e+00, 0.0000000e+00, ...,\n",
       "         0.0000000e+00, 0.0000000e+00, 9.3708070e+06],\n",
       "        [0.0000000e+00, 0.0000000e+00, 0.0000000e+00, ...,\n",
       "         0.0000000e+00, 1.1520216e+07, 0.0000000e+00]],\n",
       "\n",
       "       [[0.0000000e+00, 0.0000000e+00, 0.0000000e+00, ...,\n",
       "         0.0000000e+00, 0.0000000e+00, 0.0000000e+00],\n",
       "        [0.0000000e+00, 0.0000000e+00, 0.0000000e+00, ...,\n",
       "         0.0000000e+00, 0.0000000e+00, 0.0000000e+00],\n",
       "        [0.0000000e+00, 1.9821344e+07, 0.0000000e+00, ...,\n",
       "         0.0000000e+00, 0.0000000e+00, 0.0000000e+00],\n",
       "        ...,\n",
       "        [0.0000000e+00, 0.0000000e+00, 0.0000000e+00, ...,\n",
       "         0.0000000e+00, 0.0000000e+00, 0.0000000e+00],\n",
       "        [0.0000000e+00, 0.0000000e+00, 0.0000000e+00, ...,\n",
       "         0.0000000e+00, 0.0000000e+00, 7.0322600e+05],\n",
       "        [0.0000000e+00, 0.0000000e+00, 0.0000000e+00, ...,\n",
       "         0.0000000e+00, 1.4449761e+07, 0.0000000e+00]],\n",
       "\n",
       "       [[0.0000000e+00, 0.0000000e+00, 0.0000000e+00, ...,\n",
       "         0.0000000e+00, 0.0000000e+00, 0.0000000e+00],\n",
       "        [0.0000000e+00, 0.0000000e+00, 0.0000000e+00, ...,\n",
       "         0.0000000e+00, 0.0000000e+00, 0.0000000e+00],\n",
       "        [0.0000000e+00, 0.0000000e+00, 0.0000000e+00, ...,\n",
       "         0.0000000e+00, 0.0000000e+00, 0.0000000e+00],\n",
       "        ...,\n",
       "        [0.0000000e+00, 0.0000000e+00, 0.0000000e+00, ...,\n",
       "         0.0000000e+00, 0.0000000e+00, 0.0000000e+00],\n",
       "        [0.0000000e+00, 0.0000000e+00, 0.0000000e+00, ...,\n",
       "         0.0000000e+00, 0.0000000e+00, 0.0000000e+00],\n",
       "        [0.0000000e+00, 0.0000000e+00, 0.0000000e+00, ...,\n",
       "         0.0000000e+00, 0.0000000e+00, 0.0000000e+00]]])"
      ]
     },
     "execution_count": 167,
     "metadata": {},
     "output_type": "execute_result"
    }
   ],
   "source": [
    "tensor"
   ]
  },
  {
   "cell_type": "code",
   "execution_count": null,
   "id": "2c8c4186",
   "metadata": {
    "ExecuteTime": {
     "end_time": "2022-04-16T15:20:23.055834Z",
     "start_time": "2022-04-16T15:20:23.016072Z"
    }
   },
   "outputs": [],
   "source": []
  },
  {
   "cell_type": "code",
   "execution_count": null,
   "id": "6bf0d9e4",
   "metadata": {
    "ExecuteTime": {
     "end_time": "2022-04-15T18:15:20.051975Z",
     "start_time": "2022-04-15T18:15:19.951507Z"
    },
    "scrolled": true
   },
   "outputs": [],
   "source": []
  },
  {
   "cell_type": "code",
   "execution_count": null,
   "id": "c0fdc07c",
   "metadata": {
    "ExecuteTime": {
     "end_time": "2022-04-16T14:50:49.045109Z",
     "start_time": "2022-04-16T14:50:48.997922Z"
    }
   },
   "outputs": [],
   "source": []
  },
  {
   "cell_type": "code",
   "execution_count": null,
   "id": "0017d4e3",
   "metadata": {
    "ExecuteTime": {
     "end_time": "2022-04-15T18:15:24.361712Z",
     "start_time": "2022-04-15T18:15:24.353715Z"
    }
   },
   "outputs": [],
   "source": []
  },
  {
   "cell_type": "code",
   "execution_count": null,
   "id": "d9baf9b5",
   "metadata": {
    "ExecuteTime": {
     "end_time": "2022-04-15T18:28:03.226892Z",
     "start_time": "2022-04-15T18:28:03.141161Z"
    }
   },
   "outputs": [],
   "source": []
  },
  {
   "cell_type": "code",
   "execution_count": 101,
   "id": "8ffbeeb9",
   "metadata": {
    "ExecuteTime": {
     "end_time": "2022-04-15T18:28:09.522131Z",
     "start_time": "2022-04-15T18:28:09.212910Z"
    }
   },
   "outputs": [],
   "source": []
  },
  {
   "cell_type": "code",
   "execution_count": null,
   "id": "4569c6aa",
   "metadata": {
    "ExecuteTime": {
     "end_time": "2022-04-15T16:46:44.680613Z",
     "start_time": "2022-04-15T16:46:44.655613Z"
    }
   },
   "outputs": [],
   "source": []
  },
  {
   "cell_type": "code",
   "execution_count": null,
   "id": "ab0fa51a",
   "metadata": {
    "ExecuteTime": {
     "end_time": "2022-04-15T18:30:32.863836Z",
     "start_time": "2022-04-15T18:30:32.811313Z"
    }
   },
   "outputs": [],
   "source": []
  },
  {
   "cell_type": "code",
   "execution_count": null,
   "id": "b8730752",
   "metadata": {
    "ExecuteTime": {
     "end_time": "2022-04-15T18:30:34.516483Z",
     "start_time": "2022-04-15T18:30:34.472057Z"
    },
    "scrolled": false
   },
   "outputs": [],
   "source": []
  },
  {
   "cell_type": "code",
   "execution_count": 106,
   "id": "63232a0d",
   "metadata": {
    "ExecuteTime": {
     "end_time": "2022-04-15T18:51:12.809476Z",
     "start_time": "2022-04-15T18:51:12.767615Z"
    }
   },
   "outputs": [],
   "source": []
  },
  {
   "cell_type": "code",
   "execution_count": null,
   "id": "f74cc532",
   "metadata": {
    "ExecuteTime": {
     "end_time": "2022-04-16T14:51:38.135348Z",
     "start_time": "2022-04-16T14:51:33.806576Z"
    }
   },
   "outputs": [],
   "source": []
  },
  {
   "cell_type": "code",
   "execution_count": null,
   "id": "0611415c",
   "metadata": {},
   "outputs": [],
   "source": []
  },
  {
   "cell_type": "code",
   "execution_count": null,
   "id": "7fbb062c",
   "metadata": {},
   "outputs": [],
   "source": []
  },
  {
   "cell_type": "code",
   "execution_count": null,
   "id": "9934d6fa",
   "metadata": {},
   "outputs": [],
   "source": []
  },
  {
   "cell_type": "code",
   "execution_count": null,
   "id": "48d93905",
   "metadata": {},
   "outputs": [],
   "source": []
  },
  {
   "cell_type": "code",
   "execution_count": null,
   "id": "155d4f92",
   "metadata": {},
   "outputs": [],
   "source": []
  },
  {
   "cell_type": "code",
   "execution_count": null,
   "id": "a3600e87",
   "metadata": {},
   "outputs": [],
   "source": []
  }
 ],
 "metadata": {
  "kernelspec": {
   "display_name": "Python 3 (ipykernel)",
   "language": "python",
   "name": "python3"
  },
  "language_info": {
   "codemirror_mode": {
    "name": "ipython",
    "version": 3
   },
   "file_extension": ".py",
   "mimetype": "text/x-python",
   "name": "python",
   "nbconvert_exporter": "python",
   "pygments_lexer": "ipython3",
   "version": "3.9.5"
  },
  "latex_envs": {
   "LaTeX_envs_menu_present": true,
   "autoclose": false,
   "autocomplete": true,
   "bibliofile": "biblio.bib",
   "cite_by": "apalike",
   "current_citInitial": 1,
   "eqLabelWithNumbers": true,
   "eqNumInitial": 1,
   "hotkeys": {
    "equation": "Ctrl-E",
    "itemize": "Ctrl-I"
   },
   "labels_anchors": false,
   "latex_user_defs": false,
   "report_style_numbering": false,
   "user_envs_cfg": false
  }
 },
 "nbformat": 4,
 "nbformat_minor": 5
}
