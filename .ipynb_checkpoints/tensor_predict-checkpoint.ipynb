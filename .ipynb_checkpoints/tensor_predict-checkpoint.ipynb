{
 "cells": [
  {
   "cell_type": "code",
   "execution_count": 4,
   "id": "82991216",
   "metadata": {
    "ExecuteTime": {
     "end_time": "2022-04-19T23:50:15.188097Z",
     "start_time": "2022-04-19T23:50:15.174520Z"
    }
   },
   "outputs": [],
   "source": [
    "import pandas as pd\n",
    "import glob\n",
    "# from statsmodels.tsa.api import SimpleExpSmoothing"
   ]
  },
  {
   "cell_type": "code",
   "execution_count": 5,
   "id": "ee52d8fb",
   "metadata": {
    "ExecuteTime": {
     "end_time": "2022-04-19T23:50:19.565792Z",
     "start_time": "2022-04-19T23:50:16.577273Z"
    }
   },
   "outputs": [],
   "source": [
    "cols = ['Year', 'Reporter Code', 'Reporter', 'Partner Code', 'Partner', 'Trade Value (US$)']\n",
    "schema = {'Year': str, 'Reporter Code': str, 'Partner Code': str}\n",
    "def dfs():\n",
    "    for file in glob.glob('data/*.csv'):\n",
    "        yield pd.read_csv(file, encoding='latin-1', usecols=cols, \n",
    "                          dtype=schema)\n",
    "df = pd.concat(dfs())\n",
    "df.dropna(inplace=True)\n",
    "df.rename(columns={'Reporter Code': 'Reporter_Code', 'Partner Code': 'Partner_Code', 'Trade Value (US$)': 'Trade_Value'}, inplace=True)"
   ]
  },
  {
   "cell_type": "code",
   "execution_count": 6,
   "id": "037633d7",
   "metadata": {
    "ExecuteTime": {
     "end_time": "2022-04-19T23:50:20.687932Z",
     "start_time": "2022-04-19T23:50:20.620349Z"
    }
   },
   "outputs": [
    {
     "name": "stdout",
     "output_type": "stream",
     "text": [
      "143 Source nodes are present. (Some have invalid data so dropped)\n",
      "Filtered records from 74077 to 66316\n"
     ]
    }
   ],
   "source": [
    "reporters = set(df.Reporter_Code.unique())\n",
    "print(len(reporters), \"Source nodes are present. (Some have invalid data so dropped)\")\n",
    "df_ = df[df.Partner_Code.isin(reporters)]  #induced sub-graph creation\n",
    "print(\"Filtered records from\", len(df), \"to\", len(df_))"
   ]
  },
  {
   "cell_type": "code",
   "execution_count": 7,
   "id": "c4342d3b",
   "metadata": {
    "ExecuteTime": {
     "end_time": "2022-04-19T23:50:23.887824Z",
     "start_time": "2022-04-19T23:50:23.598130Z"
    },
    "scrolled": true
   },
   "outputs": [],
   "source": [
    "# Filtered DF is essentially an induced graph now. Let's save this\n",
    "df_.to_csv('filtered_df.csv', header=True)"
   ]
  },
  {
   "cell_type": "code",
   "execution_count": 8,
   "id": "2e60107b",
   "metadata": {
    "ExecuteTime": {
     "end_time": "2022-04-19T23:50:26.226100Z",
     "start_time": "2022-04-19T23:50:26.187683Z"
    }
   },
   "outputs": [],
   "source": [
    "countries = df_.Reporter.unique()\n",
    "country_to_index = dict(zip(countries, range(len(countries))))\n",
    "index_to_country = dict(map(reversed, country_to_index.items()));"
   ]
  },
  {
   "cell_type": "code",
   "execution_count": 9,
   "id": "5f7fcd70",
   "metadata": {
    "ExecuteTime": {
     "end_time": "2022-04-19T23:50:28.032618Z",
     "start_time": "2022-04-19T23:50:28.008929Z"
    }
   },
   "outputs": [],
   "source": [
    "# We can now start creating tensors\n",
    "import numpy as np\n",
    "# First dimension is for time (10 years)\n",
    "# Second dimension is for TO\n",
    "N = len(countries)\n",
    "tensor = np.zeros((10, N, N))"
   ]
  },
  {
   "cell_type": "code",
   "execution_count": 11,
   "id": "d4aa7cd8",
   "metadata": {
    "ExecuteTime": {
     "end_time": "2022-04-19T23:52:11.443625Z",
     "start_time": "2022-04-19T23:52:08.421245Z"
    }
   },
   "outputs": [],
   "source": [
    "for i, year in enumerate(['2012', '2013', '2014', '2015', '2016', '2017', '2018', '2019', '2020', '2021']):\n",
    "    # Data of that particular year\n",
    "    df__ = df_[df_.Year == year]\n",
    "    # For the scale of this data, I think we can just iterate over it.\n",
    "    for _, row in df__.iterrows():\n",
    "        country_from = row['Partner']\n",
    "        country_to = row['Reporter']\n",
    "        tensor[i, country_to_index[country_from], country_to_index[country_to]] = row['Trade_Value']"
   ]
  },
  {
   "cell_type": "code",
   "execution_count": 12,
   "id": "f6a3081c",
   "metadata": {
    "ExecuteTime": {
     "end_time": "2022-04-19T23:52:17.617960Z",
     "start_time": "2022-04-19T23:52:17.595658Z"
    }
   },
   "outputs": [
    {
     "name": "stdout",
     "output_type": "stream",
     "text": [
      "67.58% of the tensor is sparse\n"
     ]
    }
   ],
   "source": [
    "sparsity = 1.0 - np.count_nonzero(tensor) / tensor.size\n",
    "print(f\"{sparsity*100:.2f}% of the tensor is sparse\")"
   ]
  },
  {
   "cell_type": "code",
   "execution_count": 13,
   "id": "93e9ec8e",
   "metadata": {
    "ExecuteTime": {
     "end_time": "2022-04-19T23:52:19.954837Z",
     "start_time": "2022-04-19T23:52:19.932766Z"
    }
   },
   "outputs": [
    {
     "data": {
      "text/plain": [
       "array([[[0.0000000e+00, 0.0000000e+00, 0.0000000e+00, ...,\n",
       "         0.0000000e+00, 0.0000000e+00, 0.0000000e+00],\n",
       "        [0.0000000e+00, 0.0000000e+00, 0.0000000e+00, ...,\n",
       "         0.0000000e+00, 0.0000000e+00, 0.0000000e+00],\n",
       "        [0.0000000e+00, 2.2651200e+05, 0.0000000e+00, ...,\n",
       "         0.0000000e+00, 0.0000000e+00, 0.0000000e+00],\n",
       "        ...,\n",
       "        [0.0000000e+00, 0.0000000e+00, 0.0000000e+00, ...,\n",
       "         0.0000000e+00, 0.0000000e+00, 0.0000000e+00],\n",
       "        [0.0000000e+00, 0.0000000e+00, 0.0000000e+00, ...,\n",
       "         0.0000000e+00, 0.0000000e+00, 3.5345950e+06],\n",
       "        [0.0000000e+00, 0.0000000e+00, 0.0000000e+00, ...,\n",
       "         0.0000000e+00, 1.6782854e+07, 0.0000000e+00]],\n",
       "\n",
       "       [[0.0000000e+00, 0.0000000e+00, 0.0000000e+00, ...,\n",
       "         0.0000000e+00, 0.0000000e+00, 0.0000000e+00],\n",
       "        [0.0000000e+00, 0.0000000e+00, 0.0000000e+00, ...,\n",
       "         0.0000000e+00, 0.0000000e+00, 0.0000000e+00],\n",
       "        [0.0000000e+00, 1.5125220e+06, 0.0000000e+00, ...,\n",
       "         0.0000000e+00, 0.0000000e+00, 0.0000000e+00],\n",
       "        ...,\n",
       "        [0.0000000e+00, 0.0000000e+00, 0.0000000e+00, ...,\n",
       "         0.0000000e+00, 0.0000000e+00, 0.0000000e+00],\n",
       "        [0.0000000e+00, 0.0000000e+00, 0.0000000e+00, ...,\n",
       "         0.0000000e+00, 0.0000000e+00, 3.0578450e+06],\n",
       "        [0.0000000e+00, 0.0000000e+00, 0.0000000e+00, ...,\n",
       "         0.0000000e+00, 2.1992288e+07, 0.0000000e+00]],\n",
       "\n",
       "       [[0.0000000e+00, 0.0000000e+00, 0.0000000e+00, ...,\n",
       "         0.0000000e+00, 0.0000000e+00, 0.0000000e+00],\n",
       "        [0.0000000e+00, 0.0000000e+00, 3.5000000e+02, ...,\n",
       "         0.0000000e+00, 0.0000000e+00, 0.0000000e+00],\n",
       "        [0.0000000e+00, 3.7161740e+06, 0.0000000e+00, ...,\n",
       "         0.0000000e+00, 0.0000000e+00, 0.0000000e+00],\n",
       "        ...,\n",
       "        [0.0000000e+00, 0.0000000e+00, 0.0000000e+00, ...,\n",
       "         0.0000000e+00, 0.0000000e+00, 0.0000000e+00],\n",
       "        [0.0000000e+00, 0.0000000e+00, 0.0000000e+00, ...,\n",
       "         0.0000000e+00, 0.0000000e+00, 3.3386410e+06],\n",
       "        [0.0000000e+00, 0.0000000e+00, 0.0000000e+00, ...,\n",
       "         0.0000000e+00, 1.1694264e+07, 0.0000000e+00]],\n",
       "\n",
       "       ...,\n",
       "\n",
       "       [[0.0000000e+00, 0.0000000e+00, 0.0000000e+00, ...,\n",
       "         0.0000000e+00, 0.0000000e+00, 0.0000000e+00],\n",
       "        [0.0000000e+00, 0.0000000e+00, 0.0000000e+00, ...,\n",
       "         0.0000000e+00, 0.0000000e+00, 0.0000000e+00],\n",
       "        [0.0000000e+00, 4.2088630e+06, 0.0000000e+00, ...,\n",
       "         0.0000000e+00, 0.0000000e+00, 0.0000000e+00],\n",
       "        ...,\n",
       "        [0.0000000e+00, 0.0000000e+00, 0.0000000e+00, ...,\n",
       "         0.0000000e+00, 0.0000000e+00, 0.0000000e+00],\n",
       "        [0.0000000e+00, 0.0000000e+00, 0.0000000e+00, ...,\n",
       "         0.0000000e+00, 0.0000000e+00, 9.3708070e+06],\n",
       "        [0.0000000e+00, 0.0000000e+00, 0.0000000e+00, ...,\n",
       "         0.0000000e+00, 1.1520216e+07, 0.0000000e+00]],\n",
       "\n",
       "       [[0.0000000e+00, 0.0000000e+00, 0.0000000e+00, ...,\n",
       "         0.0000000e+00, 0.0000000e+00, 0.0000000e+00],\n",
       "        [0.0000000e+00, 0.0000000e+00, 0.0000000e+00, ...,\n",
       "         0.0000000e+00, 0.0000000e+00, 0.0000000e+00],\n",
       "        [0.0000000e+00, 1.9821344e+07, 0.0000000e+00, ...,\n",
       "         0.0000000e+00, 0.0000000e+00, 0.0000000e+00],\n",
       "        ...,\n",
       "        [0.0000000e+00, 0.0000000e+00, 0.0000000e+00, ...,\n",
       "         0.0000000e+00, 0.0000000e+00, 0.0000000e+00],\n",
       "        [0.0000000e+00, 0.0000000e+00, 0.0000000e+00, ...,\n",
       "         0.0000000e+00, 0.0000000e+00, 7.0322600e+05],\n",
       "        [0.0000000e+00, 0.0000000e+00, 0.0000000e+00, ...,\n",
       "         0.0000000e+00, 1.4449761e+07, 0.0000000e+00]],\n",
       "\n",
       "       [[0.0000000e+00, 0.0000000e+00, 0.0000000e+00, ...,\n",
       "         0.0000000e+00, 0.0000000e+00, 0.0000000e+00],\n",
       "        [0.0000000e+00, 0.0000000e+00, 0.0000000e+00, ...,\n",
       "         0.0000000e+00, 0.0000000e+00, 0.0000000e+00],\n",
       "        [0.0000000e+00, 0.0000000e+00, 0.0000000e+00, ...,\n",
       "         0.0000000e+00, 0.0000000e+00, 0.0000000e+00],\n",
       "        ...,\n",
       "        [0.0000000e+00, 0.0000000e+00, 0.0000000e+00, ...,\n",
       "         0.0000000e+00, 0.0000000e+00, 0.0000000e+00],\n",
       "        [0.0000000e+00, 0.0000000e+00, 0.0000000e+00, ...,\n",
       "         0.0000000e+00, 0.0000000e+00, 0.0000000e+00],\n",
       "        [0.0000000e+00, 0.0000000e+00, 0.0000000e+00, ...,\n",
       "         0.0000000e+00, 0.0000000e+00, 0.0000000e+00]]])"
      ]
     },
     "execution_count": 13,
     "metadata": {},
     "output_type": "execute_result"
    }
   ],
   "source": [
    "tensor"
   ]
  },
  {
   "cell_type": "code",
   "execution_count": 168,
   "id": "880c5cb0",
   "metadata": {
    "ExecuteTime": {
     "end_time": "2022-04-16T16:13:35.745378Z",
     "start_time": "2022-04-16T16:13:29.336094Z"
    }
   },
   "outputs": [
    {
     "name": "stdout",
     "output_type": "stream",
     "text": [
      "Collecting tensorly\n",
      "  Downloading tensorly-0.7.0-py3-none-any.whl (198 kB)\n",
      "Requirement already satisfied: scipy in c:\\programdata\\miniconda3\\lib\\site-packages (from tensorly) (1.7.3)\n",
      "Collecting nose\n",
      "  Downloading nose-1.3.7-py3-none-any.whl (154 kB)\n",
      "Requirement already satisfied: numpy in c:\\programdata\\miniconda3\\lib\\site-packages (from tensorly) (1.21.5)\n",
      "Installing collected packages: nose, tensorly\n",
      "Successfully installed nose-1.3.7 tensorly-0.7.0\n"
     ]
    }
   ],
   "source": [
    "!pip install tensorly"
   ]
  },
  {
   "cell_type": "code",
   "execution_count": 14,
   "id": "6ccd0e30",
   "metadata": {
    "ExecuteTime": {
     "end_time": "2022-04-19T23:52:26.538720Z",
     "start_time": "2022-04-19T23:52:26.518616Z"
    },
    "scrolled": true
   },
   "outputs": [
    {
     "data": {
      "text/plain": [
       "array([[[ 0.        ,  0.        ,  0.        , ...,  0.        ,\n",
       "          0.        ,  0.        ],\n",
       "        [ 0.        ,  0.        ,  0.        , ...,  0.        ,\n",
       "          0.        ,  0.        ],\n",
       "        [ 0.        , 12.3305532 ,  0.        , ...,  0.        ,\n",
       "          0.        ,  0.        ],\n",
       "        ...,\n",
       "        [ 0.        ,  0.        ,  0.        , ...,  0.        ,\n",
       "          0.        ,  0.        ],\n",
       "        [ 0.        ,  0.        ,  0.        , ...,  0.        ,\n",
       "          0.        , 15.07810928],\n",
       "        [ 0.        ,  0.        ,  0.        , ...,  0.        ,\n",
       "         16.63586833,  0.        ]],\n",
       "\n",
       "       [[ 0.        ,  0.        ,  0.        , ...,  0.        ,\n",
       "          0.        ,  0.        ],\n",
       "        [ 0.        ,  0.        ,  0.        , ...,  0.        ,\n",
       "          0.        ,  0.        ],\n",
       "        [ 0.        , 14.22928901,  0.        , ...,  0.        ,\n",
       "          0.        ,  0.        ],\n",
       "        ...,\n",
       "        [ 0.        ,  0.        ,  0.        , ...,  0.        ,\n",
       "          0.        ,  0.        ],\n",
       "        [ 0.        ,  0.        ,  0.        , ...,  0.        ,\n",
       "          0.        , 14.93322098],\n",
       "        [ 0.        ,  0.        ,  0.        , ...,  0.        ,\n",
       "         16.9062024 ,  0.        ]],\n",
       "\n",
       "       [[ 0.        ,  0.        ,  0.        , ...,  0.        ,\n",
       "          0.        ,  0.        ],\n",
       "        [ 0.        ,  0.        ,  5.85793315, ...,  0.        ,\n",
       "          0.        ,  0.        ],\n",
       "        [ 0.        , 15.1282052 ,  0.        , ...,  0.        ,\n",
       "          0.        ,  0.        ],\n",
       "        ...,\n",
       "        [ 0.        ,  0.        ,  0.        , ...,  0.        ,\n",
       "          0.        ,  0.        ],\n",
       "        [ 0.        ,  0.        ,  0.        , ...,  0.        ,\n",
       "          0.        , 15.0210744 ],\n",
       "        [ 0.        ,  0.        ,  0.        , ...,  0.        ,\n",
       "         16.27460902,  0.        ]],\n",
       "\n",
       "       ...,\n",
       "\n",
       "       [[ 0.        ,  0.        ,  0.        , ...,  0.        ,\n",
       "          0.        ,  0.        ],\n",
       "        [ 0.        ,  0.        ,  0.        , ...,  0.        ,\n",
       "          0.        ,  0.        ],\n",
       "        [ 0.        , 15.2527031 ,  0.        , ...,  0.        ,\n",
       "          0.        ,  0.        ],\n",
       "        ...,\n",
       "        [ 0.        ,  0.        ,  0.        , ...,  0.        ,\n",
       "          0.        ,  0.        ],\n",
       "        [ 0.        ,  0.        ,  0.        , ...,  0.        ,\n",
       "          0.        , 16.05310978],\n",
       "        [ 0.        ,  0.        ,  0.        , ...,  0.        ,\n",
       "         16.25961396,  0.        ]],\n",
       "\n",
       "       [[ 0.        ,  0.        ,  0.        , ...,  0.        ,\n",
       "          0.        ,  0.        ],\n",
       "        [ 0.        ,  0.        ,  0.        , ...,  0.        ,\n",
       "          0.        ,  0.        ],\n",
       "        [ 0.        , 16.80226989,  0.        , ...,  0.        ,\n",
       "          0.        ,  0.        ],\n",
       "        ...,\n",
       "        [ 0.        ,  0.        ,  0.        , ...,  0.        ,\n",
       "          0.        ,  0.        ],\n",
       "        [ 0.        ,  0.        ,  0.        , ...,  0.        ,\n",
       "          0.        , 13.4634336 ],\n",
       "        [ 0.        ,  0.        ,  0.        , ...,  0.        ,\n",
       "         16.48618843,  0.        ]],\n",
       "\n",
       "       [[ 0.        ,  0.        ,  0.        , ...,  0.        ,\n",
       "          0.        ,  0.        ],\n",
       "        [ 0.        ,  0.        ,  0.        , ...,  0.        ,\n",
       "          0.        ,  0.        ],\n",
       "        [ 0.        ,  0.        ,  0.        , ...,  0.        ,\n",
       "          0.        ,  0.        ],\n",
       "        ...,\n",
       "        [ 0.        ,  0.        ,  0.        , ...,  0.        ,\n",
       "          0.        ,  0.        ],\n",
       "        [ 0.        ,  0.        ,  0.        , ...,  0.        ,\n",
       "          0.        ,  0.        ],\n",
       "        [ 0.        ,  0.        ,  0.        , ...,  0.        ,\n",
       "          0.        ,  0.        ]]])"
      ]
     },
     "execution_count": 14,
     "metadata": {},
     "output_type": "execute_result"
    }
   ],
   "source": [
    "# Normalizing our tensor. For the first version, let's just calculate the log\n",
    "non_zeros = (tensor!=0)\n",
    "tensor[non_zeros] = np.log(tensor[non_zeros])\n",
    "tensor"
   ]
  },
  {
   "cell_type": "code",
   "execution_count": 15,
   "id": "b3f36850",
   "metadata": {
    "ExecuteTime": {
     "end_time": "2022-04-19T23:53:24.706413Z",
     "start_time": "2022-04-19T23:52:32.399622Z"
    },
    "scrolled": true
   },
   "outputs": [
    {
     "name": "stdout",
     "output_type": "stream",
     "text": [
      "Shape of A (143, 150)\n",
      "Shape of B (143, 150)\n",
      "Shape of T (150,)\n",
      "Shape of W (150,)\n",
      "Shape of np.diag(W*T) (150, 150)\n"
     ]
    },
    {
     "data": {
      "text/plain": [
       "array([ 6.03127935, 18.26250606, 12.36066673, ..., 16.11366776,\n",
       "        9.5186101 , 16.40344908])"
      ]
     },
     "execution_count": 15,
     "metadata": {},
     "output_type": "execute_result"
    }
   ],
   "source": [
    "from tensorly.decomposition import parafac\n",
    "\n",
    "# Can tinker with ranks\n",
    "# Mask has a special significance, we should really discuss and explore more about it\n",
    "weights, factors = parafac(tensor, rank=150, normalize_factors=True, mask=non_zeros, random_state=42)\n"
   ]
  },
  {
   "cell_type": "code",
   "execution_count": 24,
   "id": "5c579532",
   "metadata": {
    "ExecuteTime": {
     "end_time": "2022-04-19T23:56:48.615965Z",
     "start_time": "2022-04-19T23:56:48.592967Z"
    }
   },
   "outputs": [
    {
     "name": "stdout",
     "output_type": "stream",
     "text": [
      "Shape of A (143, 150)\n",
      "Shape of B (143, 150)\n",
      "Shape of T (150,)\n",
      "Shape of W (150,)\n",
      "Shape of np.diag(W*T) (150, 150)\n"
     ]
    },
    {
     "data": {
      "text/plain": [
       "array([ 8.2407961 , 17.4379725 , 18.29482108, ..., 12.02849359,\n",
       "        2.70938954,  8.6371312 ])"
      ]
     },
     "execution_count": 24,
     "metadata": {},
     "output_type": "execute_result"
    }
   ],
   "source": [
    "def get_slice(A, B, T, W):\n",
    "    # Given the two matrices, get the slice\n",
    "    print(\"Shape of A\", A.shape)\n",
    "    print(\"Shape of B\", B.shape)\n",
    "    print(\"Shape of T\", T.shape)\n",
    "    print(\"Shape of W\", W.shape)\n",
    "    print (\"Shape of np.diag(W*T)\", np.diag(W*T).shape)\n",
    "    return np.matmul(np.matmul(A, np.diag(W*T)), B.T)\n",
    "\n",
    "sl = get_slice(factors[1], factors[2], factors[0][9], weights)\n",
    "sl[non_zeros[9]]"
   ]
  },
  {
   "cell_type": "code",
   "execution_count": 16,
   "id": "e036fcd5",
   "metadata": {
    "ExecuteTime": {
     "end_time": "2022-04-19T23:53:36.432674Z",
     "start_time": "2022-04-19T23:53:36.415666Z"
    }
   },
   "outputs": [
    {
     "data": {
      "text/plain": [
       "143"
      ]
     },
     "execution_count": 16,
     "metadata": {},
     "output_type": "execute_result"
    }
   ],
   "source": [
    "sl.shape[0]"
   ]
  },
  {
   "cell_type": "code",
   "execution_count": 17,
   "id": "1e77dcb5",
   "metadata": {
    "ExecuteTime": {
     "end_time": "2022-04-19T23:53:38.871566Z",
     "start_time": "2022-04-19T23:53:38.850565Z"
    }
   },
   "outputs": [
    {
     "data": {
      "text/plain": [
       "2.25"
      ]
     },
     "execution_count": 17,
     "metadata": {},
     "output_type": "execute_result"
    }
   ],
   "source": [
    "# recursive implementation of exponential smoothing\n",
    "# Input: list of vectors, alpha\n",
    "# Output: Next vector\n",
    "def exponential_smoothing_recursive(vectors, alpha, depth=-1):\n",
    "    if depth==-1:                          # -1 means the last one\n",
    "        depth = len(vectors)-1\n",
    "    if depth == 0:                        # For the first vector, return as is.\n",
    "        return vectors[0]\n",
    "    return alpha * vectors[depth] + \\\n",
    "            (1-alpha) * exponential_smoothing_recursive(vectors, alpha, depth-1)\n",
    "\n",
    "exponential_smoothing_recursive([1,2,3], .5)"
   ]
  },
  {
   "cell_type": "code",
   "execution_count": 19,
   "id": "d58d4510",
   "metadata": {
    "ExecuteTime": {
     "end_time": "2022-04-19T23:54:59.012306Z",
     "start_time": "2022-04-19T23:54:58.990316Z"
    },
    "scrolled": true
   },
   "outputs": [
    {
     "name": "stdout",
     "output_type": "stream",
     "text": [
      "Shape of A (143, 150)\n",
      "Shape of B (143, 150)\n",
      "Shape of T (150,)\n",
      "Shape of W (150,)\n",
      "Shape of np.diag(W*T) (150, 150)\n"
     ]
    }
   ],
   "source": [
    "next_C = exponential_smoothing_recursive(factors[0], alpha=0.5)\n",
    "forecast = get_slice(factors[1], factors[2], next_C, weights)"
   ]
  },
  {
   "cell_type": "code",
   "execution_count": 26,
   "id": "de9d6318",
   "metadata": {
    "ExecuteTime": {
     "end_time": "2022-04-19T23:57:23.991133Z",
     "start_time": "2022-04-19T23:57:23.984123Z"
    }
   },
   "outputs": [
    {
     "data": {
      "text/plain": [
       "array([[  9.82829926,   6.61673888,  -1.78462682, ...,   7.02907563,\n",
       "         -5.43188148,   1.78511954],\n",
       "       [  4.12806772,  -2.06278572,  -2.97944865, ...,   7.02575257,\n",
       "          6.29520915,  12.81436731],\n",
       "       [ -9.91431114,   7.66564336,  -6.18766149, ..., -10.25835763,\n",
       "        -14.22246397,  -7.10533903],\n",
       "       ...,\n",
       "       [  0.65855749,   6.08872709,   2.94974035, ...,  -3.33873051,\n",
       "         -3.62777346,  -1.32412016],\n",
       "       [  4.63556707,   0.68410393,  -1.24979029, ...,   4.21367018,\n",
       "         10.15100677,  13.03973923],\n",
       "       [  0.86817148,   0.01445498,   3.81983913, ...,  -1.68165606,\n",
       "         12.07075546,   2.62945647]])"
      ]
     },
     "execution_count": 26,
     "metadata": {},
     "output_type": "execute_result"
    }
   ],
   "source": [
    "forecast"
   ]
  },
  {
   "cell_type": "code",
   "execution_count": 52,
   "id": "9e5e09a8",
   "metadata": {
    "ExecuteTime": {
     "end_time": "2022-04-16T20:10:30.281674Z",
     "start_time": "2022-04-16T20:10:30.262711Z"
    },
    "scrolled": true
   },
   "outputs": [],
   "source": [
    "# based on paper\n",
    "# factor matrix C\n",
    "# predict same col in next time slice C(K+1)\n",
    "# takes in factors produced by parafac and years to forecast (default is 1) \n",
    "# returns list of forecasted vectors, last n in list is the forecasted n years\n",
    "\n",
    "# Looks like you are obtaining the forecasts f1, f2, f3, etc using the temporal fronts t1, t2, t3\n",
    "# and then smoothing the forecasts i.e. f_n+1\n",
    "# The correct approach here is to smooth the temporal fronts i.e. get t_n+1 and then\n",
    "# use it to generate the f_n+1.\n",
    "def exponential_smoothing(factors, weights, forecast = 1):\n",
    "    num_slices = len(factors[0])  # Temporal factors\n",
    "    alpha = 0.5\n",
    "    \n",
    "    sl = get_slice(factors[1], factors[2], factors[0][0], weights)  # slice_0\n",
    "    forecasts = [sl]\n",
    "    \n",
    "    for i in range(0, num_slices + forecast):\n",
    "        # get slice\n",
    "        s_t = forecasts[i]\n",
    "        s_t1 = np.zeros((s_t.shape[0], s_t.shape[1]))\n",
    "        \n",
    "        past_c_k_r = []\n",
    "        for k in range(0, s_t.shape[0]):\n",
    "            \n",
    "            for r in range(0, s_t.shape[1]):\n",
    "                c_k_r = s_t[k][r]\n",
    "                next_c_k_r = 0\n",
    "                           \n",
    "                for num in range(0, k):\n",
    "                    smooth = alpha * ((1-alpha) ** num)\n",
    "                    next_c_k_r += smooth * past_c_k_r[-num]\n",
    "                \n",
    "                past_c_k_r.append(next_c_k_r)\n",
    "                    \n",
    "                s_t1[k,r] = next_c_k_r\n",
    "                \n",
    "        forecasts.append(s_t1)\n",
    "        \n",
    "    return forecasts\n",
    "         \n",
    "        \n",
    "        "
   ]
  },
  {
   "cell_type": "code",
   "execution_count": 53,
   "id": "eebb3b2b",
   "metadata": {
    "ExecuteTime": {
     "end_time": "2022-04-16T22:09:17.812912Z",
     "start_time": "2022-04-16T22:09:17.793947Z"
    }
   },
   "outputs": [
    {
     "name": "stdout",
     "output_type": "stream",
     "text": [
      "Shape of A (143, 150)\n",
      "Shape of B (143, 150)\n",
      "Shape of T (150,)\n",
      "Shape of W (150,)\n",
      "Shape of np.diag(W*T) (150, 150)\n",
      "[[0. 0. 0. ... 0. 0. 0.]\n",
      " [0. 0. 0. ... 0. 0. 0.]\n",
      " [0. 0. 0. ... 0. 0. 0.]\n",
      " ...\n",
      " [0. 0. 0. ... 0. 0. 0.]\n",
      " [0. 0. 0. ... 0. 0. 0.]\n",
      " [0. 0. 0. ... 0. 0. 0.]]\n"
     ]
    }
   ],
   "source": [
    "# testing expo smoothing\n",
    "forecasts = exponential_smoothing(factors, weights)\n",
    "print(forecasts[-1])"
   ]
  },
  {
   "cell_type": "code",
   "execution_count": 54,
   "id": "47b40c29",
   "metadata": {
    "ExecuteTime": {
     "end_time": "2022-04-16T19:56:42.307964Z",
     "start_time": "2022-04-16T19:56:42.289961Z"
    }
   },
   "outputs": [
    {
     "data": {
      "text/plain": [
       "array([[0., 0., 0., ..., 0., 0., 0.],\n",
       "       [0., 0., 0., ..., 0., 0., 0.],\n",
       "       [0., 0., 0., ..., 0., 0., 0.],\n",
       "       ...,\n",
       "       [0., 0., 0., ..., 0., 0., 0.],\n",
       "       [0., 0., 0., ..., 0., 0., 0.],\n",
       "       [0., 0., 0., ..., 0., 0., 0.]])"
      ]
     },
     "execution_count": 54,
     "metadata": {},
     "output_type": "execute_result"
    }
   ],
   "source": [
    "forecasts[2]\n"
   ]
  },
  {
   "cell_type": "code",
   "execution_count": 230,
   "id": "adc3bb7c",
   "metadata": {
    "ExecuteTime": {
     "end_time": "2022-04-16T19:57:11.805002Z",
     "start_time": "2022-04-16T19:57:11.784998Z"
    }
   },
   "outputs": [
    {
     "data": {
      "text/plain": [
       "array([ 6.08449941, 17.9035443 , 12.39185072, ..., 16.69321177,\n",
       "        9.42843118, 16.63586833])"
      ]
     },
     "execution_count": 230,
     "metadata": {},
     "output_type": "execute_result"
    }
   ],
   "source": []
  },
  {
   "cell_type": "code",
   "execution_count": null,
   "id": "7b2d5774",
   "metadata": {
    "ExecuteTime": {
     "end_time": "2022-04-15T16:46:44.680613Z",
     "start_time": "2022-04-15T16:46:44.655613Z"
    }
   },
   "outputs": [],
   "source": []
  },
  {
   "cell_type": "code",
   "execution_count": null,
   "id": "8c00b9b0",
   "metadata": {
    "ExecuteTime": {
     "end_time": "2022-04-15T18:30:32.863836Z",
     "start_time": "2022-04-15T18:30:32.811313Z"
    }
   },
   "outputs": [],
   "source": []
  },
  {
   "cell_type": "code",
   "execution_count": null,
   "id": "79bdcd8f",
   "metadata": {
    "ExecuteTime": {
     "end_time": "2022-04-15T18:30:34.516483Z",
     "start_time": "2022-04-15T18:30:34.472057Z"
    },
    "scrolled": false
   },
   "outputs": [],
   "source": []
  },
  {
   "cell_type": "code",
   "execution_count": 106,
   "id": "370e3429",
   "metadata": {
    "ExecuteTime": {
     "end_time": "2022-04-15T18:51:12.809476Z",
     "start_time": "2022-04-15T18:51:12.767615Z"
    }
   },
   "outputs": [],
   "source": []
  },
  {
   "cell_type": "code",
   "execution_count": null,
   "id": "b61ec42e",
   "metadata": {
    "ExecuteTime": {
     "end_time": "2022-04-16T14:51:38.135348Z",
     "start_time": "2022-04-16T14:51:33.806576Z"
    }
   },
   "outputs": [],
   "source": []
  },
  {
   "cell_type": "code",
   "execution_count": null,
   "id": "81074fe9",
   "metadata": {},
   "outputs": [],
   "source": []
  },
  {
   "cell_type": "code",
   "execution_count": null,
   "id": "89bc806e",
   "metadata": {},
   "outputs": [],
   "source": []
  },
  {
   "cell_type": "code",
   "execution_count": null,
   "id": "8f0ea649",
   "metadata": {},
   "outputs": [],
   "source": []
  },
  {
   "cell_type": "code",
   "execution_count": null,
   "id": "fb6e95ca",
   "metadata": {},
   "outputs": [],
   "source": []
  },
  {
   "cell_type": "code",
   "execution_count": null,
   "id": "53228cfe",
   "metadata": {},
   "outputs": [],
   "source": []
  },
  {
   "cell_type": "code",
   "execution_count": null,
   "id": "9e2ad544",
   "metadata": {},
   "outputs": [],
   "source": []
  }
 ],
 "metadata": {
  "kernelspec": {
   "display_name": "Python 3 (ipykernel)",
   "language": "python",
   "name": "python3"
  },
  "language_info": {
   "codemirror_mode": {
    "name": "ipython",
    "version": 3
   },
   "file_extension": ".py",
   "mimetype": "text/x-python",
   "name": "python",
   "nbconvert_exporter": "python",
   "pygments_lexer": "ipython3",
   "version": "3.9.5"
  },
  "latex_envs": {
   "LaTeX_envs_menu_present": true,
   "autoclose": false,
   "autocomplete": true,
   "bibliofile": "biblio.bib",
   "cite_by": "apalike",
   "current_citInitial": 1,
   "eqLabelWithNumbers": true,
   "eqNumInitial": 1,
   "hotkeys": {
    "equation": "Ctrl-E",
    "itemize": "Ctrl-I"
   },
   "labels_anchors": false,
   "latex_user_defs": false,
   "report_style_numbering": false,
   "user_envs_cfg": false
  }
 },
 "nbformat": 4,
 "nbformat_minor": 5
}
