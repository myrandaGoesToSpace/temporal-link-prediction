{
 "cells": [
  {
   "cell_type": "markdown",
   "id": "6be8cd54",
   "metadata": {},
   "source": [
    "# Temporal Link Prediction Using Tensor Factorization"
   ]
  },
  {
   "cell_type": "markdown",
   "id": "eaabfaee",
   "metadata": {},
   "source": [
    "## Import Libraries"
   ]
  },
  {
   "cell_type": "code",
   "execution_count": 21,
   "id": "3766ad42",
   "metadata": {
    "ExecuteTime": {
     "end_time": "2022-04-19T23:50:15.188097Z",
     "start_time": "2022-04-19T23:50:15.174520Z"
    }
   },
   "outputs": [],
   "source": [
    "import pandas as pd\n",
    "import glob\n",
    "import numpy as np\n",
    "from sklearn.metrics import mean_squared_error\n",
    "from tensorly.decomposition import parafac\n",
    "from scipy.stats import spearmanr\n",
    "import matplotlib.pyplot as plt\n",
    "# from statsmodels.tsa.api import SimpleExpSmoothing"
   ]
  },
  {
   "cell_type": "markdown",
   "id": "a3fcc1d0",
   "metadata": {},
   "source": [
    "## Read in Data"
   ]
  },
  {
   "cell_type": "code",
   "execution_count": 2,
   "id": "fdf42b50",
   "metadata": {
    "ExecuteTime": {
     "end_time": "2022-04-19T23:50:19.565792Z",
     "start_time": "2022-04-19T23:50:16.577273Z"
    }
   },
   "outputs": [],
   "source": [
    "cols = ['Year', 'Reporter Code', 'Reporter', 'Partner Code', 'Partner', 'Trade Value (US$)']\n",
    "schema = {'Year': str, 'Reporter Code': str, 'Partner Code': str}\n",
    "def dfs():\n",
    "    for file in glob.glob('data/*.csv'):\n",
    "        yield pd.read_csv(file, encoding='latin-1', usecols=cols, \n",
    "                          dtype=schema)\n",
    "df = pd.concat(dfs())\n",
    "df.dropna(inplace=True)\n",
    "df.rename(columns={'Reporter Code': 'Reporter_Code', 'Partner Code': 'Partner_Code', 'Trade Value (US$)': 'Trade_Value'}, inplace=True)"
   ]
  },
  {
   "cell_type": "code",
   "execution_count": 3,
   "id": "bc701990",
   "metadata": {
    "ExecuteTime": {
     "end_time": "2022-04-19T23:50:20.687932Z",
     "start_time": "2022-04-19T23:50:20.620349Z"
    }
   },
   "outputs": [
    {
     "name": "stdout",
     "output_type": "stream",
     "text": [
      "143 Source nodes are present. (Some have invalid data so dropped)\n",
      "Filtered records from 74077 to 66316\n"
     ]
    }
   ],
   "source": [
    "reporters = set(df.Reporter_Code.unique())\n",
    "print(len(reporters), \"Source nodes are present. (Some have invalid data so dropped)\")\n",
    "df_ = df[df.Partner_Code.isin(reporters)]  #induced sub-graph creation\n",
    "print(\"Filtered records from\", len(df), \"to\", len(df_))"
   ]
  },
  {
   "cell_type": "code",
   "execution_count": 4,
   "id": "2783bfa2",
   "metadata": {
    "ExecuteTime": {
     "end_time": "2022-04-19T23:50:23.887824Z",
     "start_time": "2022-04-19T23:50:23.598130Z"
    },
    "scrolled": true
   },
   "outputs": [],
   "source": [
    "# Filtered DF is essentially an induced graph now\n",
    "# Uncomment to save file\n",
    "#df_.to_csv('filtered_df.csv', header=True)"
   ]
  },
  {
   "cell_type": "code",
   "execution_count": 5,
   "id": "94dc924c",
   "metadata": {
    "ExecuteTime": {
     "end_time": "2022-04-19T23:50:26.226100Z",
     "start_time": "2022-04-19T23:50:26.187683Z"
    }
   },
   "outputs": [],
   "source": [
    "# Get countries and their index\n",
    "countries = df_.Reporter.unique()\n",
    "country_to_index = dict(zip(countries, range(len(countries))))\n",
    "index_to_country = dict(map(reversed, country_to_index.items()));"
   ]
  },
  {
   "cell_type": "markdown",
   "id": "00aac2c3",
   "metadata": {},
   "source": [
    "## Create tensors"
   ]
  },
  {
   "cell_type": "code",
   "execution_count": 6,
   "id": "3a80da6b",
   "metadata": {
    "ExecuteTime": {
     "end_time": "2022-04-19T23:50:28.032618Z",
     "start_time": "2022-04-19T23:50:28.008929Z"
    }
   },
   "outputs": [],
   "source": [
    "# We can now start creating tensors\n",
    "# First dimension is for time (10 years)\n",
    "# Second dimension is for TO\n",
    "N = len(countries)\n",
    "tensor = np.zeros((10, N, N))"
   ]
  },
  {
   "cell_type": "code",
   "execution_count": 7,
   "id": "d7d7c9bd",
   "metadata": {
    "ExecuteTime": {
     "end_time": "2022-04-19T23:52:11.443625Z",
     "start_time": "2022-04-19T23:52:08.421245Z"
    }
   },
   "outputs": [],
   "source": [
    "# Create tensors for each year\n",
    "for i, year in enumerate(['2012', '2013', '2014', '2015', '2016', '2017', '2018', '2019', '2020', '2021']):\n",
    "    # Data of that particular year\n",
    "    df__ = df_[df_.Year == year]\n",
    "    # For the scale of this data, I think we can just iterate over it.\n",
    "    for _, row in df__.iterrows():\n",
    "        country_from = row['Partner']\n",
    "        country_to = row['Reporter']\n",
    "        tensor[i, country_to_index[country_from], country_to_index[country_to]] = row['Trade_Value']"
   ]
  },
  {
   "cell_type": "code",
   "execution_count": 8,
   "id": "759018ba",
   "metadata": {
    "ExecuteTime": {
     "end_time": "2022-04-19T23:52:17.617960Z",
     "start_time": "2022-04-19T23:52:17.595658Z"
    }
   },
   "outputs": [
    {
     "name": "stdout",
     "output_type": "stream",
     "text": [
      "67.58% of the tensor is sparse\n"
     ]
    }
   ],
   "source": [
    "# How much of the tensor is sparse?\n",
    "sparsity = 1.0 - np.count_nonzero(tensor) / tensor.size\n",
    "print(f\"{sparsity*100:.2f}% of the tensor is sparse\")"
   ]
  },
  {
   "cell_type": "code",
   "execution_count": 9,
   "id": "8796e097",
   "metadata": {
    "ExecuteTime": {
     "end_time": "2022-04-19T23:52:26.538720Z",
     "start_time": "2022-04-19T23:52:26.518616Z"
    },
    "scrolled": true
   },
   "outputs": [],
   "source": [
    "# Normalizing our tensor. For the first version, let's just calculate the log\n",
    "non_zeros = (tensor!=0)\n",
    "tensor[non_zeros] = np.log(tensor[non_zeros])"
   ]
  },
  {
   "cell_type": "markdown",
   "id": "7bc10135",
   "metadata": {},
   "source": [
    "## Tensor Factorization"
   ]
  },
  {
   "cell_type": "code",
   "execution_count": 10,
   "id": "7b053b37",
   "metadata": {
    "ExecuteTime": {
     "end_time": "2022-04-19T23:53:24.706413Z",
     "start_time": "2022-04-19T23:52:32.399622Z"
    },
    "scrolled": true
   },
   "outputs": [],
   "source": [
    "# Can tinker with ranks\n",
    "# Mask has a special significance, we should really discuss and explore more about it\n",
    "weights, factors = parafac(tensor, rank=150, normalize_factors=True, mask=non_zeros, random_state=42)\n"
   ]
  },
  {
   "cell_type": "code",
   "execution_count": 11,
   "id": "9356a2ef",
   "metadata": {
    "ExecuteTime": {
     "end_time": "2022-04-19T23:56:48.615965Z",
     "start_time": "2022-04-19T23:56:48.592967Z"
    }
   },
   "outputs": [
    {
     "name": "stdout",
     "output_type": "stream",
     "text": [
      "Shape of A (143, 150)\n",
      "Shape of B (143, 150)\n",
      "Shape of T (150,)\n",
      "Shape of W (150,)\n",
      "Shape of np.diag(W*T) (150, 150)\n"
     ]
    },
    {
     "data": {
      "text/plain": [
       "array([ 5.85512649, 12.46666417, 18.52192549, ..., 14.76686959,\n",
       "       15.63305322, 17.11343875])"
      ]
     },
     "execution_count": 11,
     "metadata": {},
     "output_type": "execute_result"
    }
   ],
   "source": [
    "# get one slice of the tensor\n",
    "def get_slice(A, B, T, W, suppress_output=False):\n",
    "    # Given the two matrices, get the slice\n",
    "    if not suppress_output:\n",
    "        print(\"Shape of A\", A.shape)\n",
    "        print(\"Shape of B\", B.shape)\n",
    "        print(\"Shape of T\", T.shape)\n",
    "        print(\"Shape of W\", W.shape)\n",
    "        print (\"Shape of np.diag(W*T)\", np.diag(W*T).shape)\n",
    "    return np.matmul(np.matmul(A, np.diag(W*T)), B.T)\n",
    "\n",
    "sl = get_slice(factors[1], factors[2], factors[0][9], weights)\n",
    "sl[non_zeros[9]]"
   ]
  },
  {
   "cell_type": "code",
   "execution_count": 12,
   "id": "a0e6c5cd",
   "metadata": {
    "ExecuteTime": {
     "end_time": "2022-04-19T23:53:38.871566Z",
     "start_time": "2022-04-19T23:53:38.850565Z"
    }
   },
   "outputs": [
    {
     "data": {
      "text/plain": [
       "2.25"
      ]
     },
     "execution_count": 12,
     "metadata": {},
     "output_type": "execute_result"
    }
   ],
   "source": [
    "# recursive implementation of exponential smoothing\n",
    "# Input: list of vectors, alpha\n",
    "# Output: Next vector\n",
    "def exponential_smoothing_recursive(vectors, alpha, depth=-1):\n",
    "    if depth==-1:                          # -1 means the last one\n",
    "        depth = len(vectors)-1\n",
    "    if depth == 0:                        # For the first vector, return as is.\n",
    "        return vectors[0]\n",
    "    return alpha * vectors[depth] + \\\n",
    "            (1-alpha) * exponential_smoothing_recursive(vectors, alpha, depth-1)\n",
    "\n",
    "exponential_smoothing_recursive([1,2,3], .5)"
   ]
  },
  {
   "cell_type": "code",
   "execution_count": 13,
   "id": "3ef0c652",
   "metadata": {
    "ExecuteTime": {
     "end_time": "2022-04-19T23:54:59.012306Z",
     "start_time": "2022-04-19T23:54:58.990316Z"
    },
    "scrolled": true
   },
   "outputs": [
    {
     "name": "stdout",
     "output_type": "stream",
     "text": [
      "Shape of A (143, 150)\n",
      "Shape of B (143, 150)\n",
      "Shape of T (150,)\n",
      "Shape of W (150,)\n",
      "Shape of np.diag(W*T) (150, 150)\n"
     ]
    }
   ],
   "source": [
    "# Get an example forecast\n",
    "next_C = exponential_smoothing_recursive(factors[0], alpha=0.5)\n",
    "forecast = get_slice(factors[1], factors[2], next_C, weights)"
   ]
  },
  {
   "cell_type": "code",
   "execution_count": 14,
   "id": "6f944af1",
   "metadata": {},
   "outputs": [
    {
     "name": "stdout",
     "output_type": "stream",
     "text": [
      "Shape of A (143, 150)\n",
      "Shape of B (143, 150)\n",
      "Shape of T (150,)\n",
      "Shape of W (150,)\n",
      "Shape of np.diag(W*T) (150, 150)\n"
     ]
    }
   ],
   "source": [
    "# test for slice at year 2019\n",
    "slice_2019 = get_slice(factors[1], factors[2], factors[0][7], weights)"
   ]
  },
  {
   "cell_type": "markdown",
   "id": "048a0c22",
   "metadata": {},
   "source": [
    "## Experimentation"
   ]
  },
  {
   "cell_type": "code",
   "execution_count": 15,
   "id": "6f03178d",
   "metadata": {},
   "outputs": [],
   "source": [
    "def RMSE(actual, pred):     \n",
    "    return (mean_squared_error(actual,pred))**0.5"
   ]
  },
  {
   "cell_type": "code",
   "execution_count": 16,
   "id": "ad790325",
   "metadata": {},
   "outputs": [],
   "source": [
    "# define experiment that loops through values of alpha\n",
    "def alpha_experiment(num_years):\n",
    "    rmse = []\n",
    "    for alpha in [0.1, 0.2, 0.3, 0.4, 0.5, 0.6, 0.7, 0.8, 0.9, 1.0]:\n",
    "        C = exponential_smoothing_recursive(factors[0][0:num_years], alpha = alpha)\n",
    "        forecast = get_slice(factors[1], factors[2], C, weights, suppress_output=True)\n",
    "        rmse.append(RMSE(slice_2019, forecast))\n",
    "        \n",
    "    return rmse"
   ]
  },
  {
   "cell_type": "code",
   "execution_count": 17,
   "id": "c496207c",
   "metadata": {},
   "outputs": [
    {
     "data": {
      "text/plain": [
       "[[7.9232881577398615,\n",
       "  7.9232881577398615,\n",
       "  7.9232881577398615,\n",
       "  7.9232881577398615,\n",
       "  7.9232881577398615,\n",
       "  7.9232881577398615,\n",
       "  7.9232881577398615,\n",
       "  7.9232881577398615,\n",
       "  7.9232881577398615,\n",
       "  7.9232881577398615],\n",
       " [7.623025531190928,\n",
       "  7.361509722052515,\n",
       "  7.14299773530943,\n",
       "  6.971534409688772,\n",
       "  6.850653364781381,\n",
       "  6.783059423548,\n",
       "  6.770348800649281,\n",
       "  6.812828688701924,\n",
       "  6.909481219369783,\n",
       "  7.058081242102878],\n",
       " [7.298189608274014,\n",
       "  6.847697055379872,\n",
       "  6.557019955559121,\n",
       "  6.402969476263094,\n",
       "  6.35729271430437,\n",
       "  6.391367291918184,\n",
       "  6.480336053119316,\n",
       "  6.605614648620121,\n",
       "  6.755819288286121,\n",
       "  6.926677947412208],\n",
       " [6.969955104764222,\n",
       "  6.376148494002814,\n",
       "  6.055861918772057,\n",
       "  5.92090054397157,\n",
       "  5.898967821489927,\n",
       "  5.941492293453789,\n",
       "  6.021485927021099,\n",
       "  6.127214784051347,\n",
       "  6.25598575423602,\n",
       "  6.409794521981719],\n",
       " [6.611541086362098,\n",
       "  5.904391862904516,\n",
       "  5.589243103987273,\n",
       "  5.488338328025537,\n",
       "  5.488023197440405,\n",
       "  5.529252803931952,\n",
       "  5.585667984432773,\n",
       "  5.646992000665381,\n",
       "  5.710357904523361,\n",
       "  5.776985307822486],\n",
       " [6.206075781913142,\n",
       "  5.312302583497985,\n",
       "  4.878771611759037,\n",
       "  4.663130901904095,\n",
       "  4.544072379308743,\n",
       "  4.472630305560135,\n",
       "  4.431360616373105,\n",
       "  4.413886393079383,\n",
       "  4.417234534841506,\n",
       "  4.439724264837508],\n",
       " [5.780328855597892,\n",
       "  4.717522033512287,\n",
       "  4.213490822019018,\n",
       "  3.9720804652145167,\n",
       "  3.8617856536043393,\n",
       "  3.8268002305384714,\n",
       "  3.838049932307209,\n",
       "  3.876712383369916,\n",
       "  3.930305180139127,\n",
       "  3.991582426186814]]"
      ]
     },
     "execution_count": 17,
     "metadata": {},
     "output_type": "execute_result"
    }
   ],
   "source": [
    "# Run experiments for different number of years included in prediction and different values for alpha\n",
    "experiments = []\n",
    "for i in range(1, 8):\n",
    "    experiments.append(alpha_experiment(i))\n",
    "    \n",
    "experiments"
   ]
  },
  {
   "cell_type": "code",
   "execution_count": 18,
   "id": "0062b5c1",
   "metadata": {},
   "outputs": [
    {
     "data": {
      "text/plain": [
       "[5.780328855597892,\n",
       " 4.717522033512287,\n",
       " 4.213490822019018,\n",
       " 3.9720804652145167,\n",
       " 3.8617856536043393,\n",
       " 3.8268002305384714,\n",
       " 3.838049932307209,\n",
       " 3.876712383369916,\n",
       " 3.930305180139127,\n",
       " 3.991582426186814]"
      ]
     },
     "execution_count": 18,
     "metadata": {},
     "output_type": "execute_result"
    }
   ],
   "source": [
    "# The best RMSE values are those using all years for prediction\n",
    "preds_all_years = experiments[-1]\n",
    "preds_all_years"
   ]
  },
  {
   "cell_type": "code",
   "execution_count": 19,
   "id": "f9a151f0",
   "metadata": {},
   "outputs": [
    {
     "data": {
      "text/plain": [
       "3.8268002305384714"
      ]
     },
     "execution_count": 19,
     "metadata": {},
     "output_type": "execute_result"
    }
   ],
   "source": [
    "# The optimum alpha value is 0.6\n",
    "preds_all_years[5]"
   ]
  },
  {
   "cell_type": "code",
   "execution_count": 29,
   "id": "8ce24203",
   "metadata": {},
   "outputs": [
    {
     "data": {
      "text/plain": [
       "Text(0, 0.5, 'RMSE')"
      ]
     },
     "execution_count": 29,
     "metadata": {},
     "output_type": "execute_result"
    },
    {
     "data": {
      "image/png": "[encoded data removed]",
      "text/plain": [
       "<Figure size 432x288 with 1 Axes>"
      ]
     },
     "metadata": {
      "needs_background": "light"
     },
     "output_type": "display_data"
    }
   ],
   "source": [
    "# Plots\n",
    "alphas = [0.1, 0.2, 0.3, 0.4, 0.5, 0.6, 0.7, 0.8, 0.9, 1.0]\n",
    "plt.plot(alphas, preds_all_years)\n",
    "plt.title(\"RMSE for Factorization of 2012-2018\")\n",
    "plt.xlabel(\"alpha\")\n",
    "plt.ylabel(\"RMSE\")"
   ]
  },
  {
   "cell_type": "code",
   "execution_count": 34,
   "id": "dcf28e7d",
   "metadata": {},
   "outputs": [
    {
     "data": {
      "text/plain": [
       "Text(0, 0.5, 'RMSE')"
      ]
     },
     "execution_count": 34,
     "metadata": {},
     "output_type": "execute_result"
    },
    {
     "data": {
      "image/png": "[encoded data removed]",
      "text/plain": [
       "<Figure size 432x288 with 1 Axes>"
      ]
     },
     "metadata": {
      "needs_background": "light"
     },
     "output_type": "display_data"
    }
   ],
   "source": [
    "# Plot the best RMSE for each run of the experiment\n",
    "best_runs = [min(rmse) for rmse in experiments]\n",
    "num_years = [num for num in range(1,8)]\n",
    "plt.plot(num_years, best_runs)\n",
    "plt.title(\"Minimum RMSE for each experiment\")\n",
    "plt.xlabel(\"Number of years considered in factorization\")\n",
    "plt.ylabel(\"RMSE\")"
   ]
  },
  {
   "cell_type": "code",
   "execution_count": 38,
   "id": "5b79b89a",
   "metadata": {},
   "outputs": [
    {
     "name": "stdout",
     "output_type": "stream",
     "text": [
      "Shape of A (143, 150)\n",
      "Shape of B (143, 150)\n",
      "Shape of T (150,)\n",
      "Shape of W (150,)\n",
      "Shape of np.diag(W*T) (150, 150)\n",
      "Shape of A (143, 150)\n",
      "Shape of B (143, 150)\n",
      "Shape of T (150,)\n",
      "Shape of W (150,)\n",
      "Shape of np.diag(W*T) (150, 150)\n"
     ]
    }
   ],
   "source": [
    "slice_2020 = get_slice(factors[1], factors[2], factors[0][8], weights)\n",
    "slice_2021 = get_slice(factors[1], factors[2], factors[0][9], weights)"
   ]
  },
  {
   "cell_type": "code",
   "execution_count": 39,
   "id": "2d80a407",
   "metadata": {},
   "outputs": [],
   "source": [
    "# define a function that predicts for a specific year (ie 2020 and 2021)\n",
    "def predict_year(num_years, slice_year):\n",
    "    rmse = []\n",
    "    for alpha in [0.1, 0.2, 0.3, 0.4, 0.5, 0.6, 0.7, 0.8, 0.9, 1.0]:\n",
    "        C = exponential_smoothing_recursive(factors[0][0:num_years], alpha = alpha)\n",
    "        forecast = get_slice(factors[1], factors[2], C, weights, suppress_output=True)\n",
    "        rmse.append(RMSE(slice_year, forecast))\n",
    "        \n",
    "    return rmse"
   ]
  },
  {
   "cell_type": "code",
   "execution_count": 42,
   "id": "333d2208",
   "metadata": {},
   "outputs": [
    {
     "data": {
      "text/plain": [
       "[[5.798378250277405,\n",
       "  4.735217542109554,\n",
       "  4.288174138159562,\n",
       "  4.089822157079424,\n",
       "  3.9939272792272438,\n",
       "  3.9428643851677094,\n",
       "  3.912879044925871,\n",
       "  3.896145724878991,\n",
       "  3.8935441264302395,\n",
       "  3.9104632810122357]]"
      ]
     },
     "execution_count": 42,
     "metadata": {},
     "output_type": "execute_result"
    }
   ],
   "source": [
    "# does it predict well on 2020/2021?\n",
    "prediction_2020 = []\n",
    "for i in range(8, 9):\n",
    "    prediction_2020.append(predict_year(i, slice_2020))\n",
    "prediction_2020"
   ]
  },
  {
   "cell_type": "code",
   "execution_count": 43,
   "id": "73afb67f",
   "metadata": {},
   "outputs": [
    {
     "data": {
      "text/plain": [
       "[[11.4852899380621,\n",
       "  11.12366484941069,\n",
       "  11.051707310653228,\n",
       "  11.065451625578056,\n",
       "  11.102831081610923,\n",
       "  11.144999815841143,\n",
       "  11.186918022866752,\n",
       "  11.228997317172658,\n",
       "  11.274125830854643,\n",
       "  11.326188585940034],\n",
       " [11.329847707526456,\n",
       "  10.988288747538533,\n",
       "  10.938398945713391,\n",
       "  10.96060107396161,\n",
       "  11.000084724131435,\n",
       "  11.044332651039666,\n",
       "  11.091597176715275,\n",
       "  11.142466595529044,\n",
       "  11.19741743715494,\n",
       "  11.256402507250334]]"
      ]
     },
     "execution_count": 43,
     "metadata": {},
     "output_type": "execute_result"
    }
   ],
   "source": [
    "prediction_2021 = []\n",
    "for i in range(8, 10):\n",
    "    prediction_2021.append(predict_year(i, slice_2021))\n",
    "prediction_2021"
   ]
  },
  {
   "cell_type": "code",
   "execution_count": 57,
   "id": "66c8383e",
   "metadata": {},
   "outputs": [
    {
     "data": {
      "text/plain": [
       "Text(0, 0.5, 'RMSE')"
      ]
     },
     "execution_count": 57,
     "metadata": {},
     "output_type": "execute_result"
    },
    {
     "data": {
      "image/png": "[encoded data removed]",
      "text/plain": [
       "<Figure size 432x288 with 1 Axes>"
      ]
     },
     "metadata": {
      "needs_background": "light"
     },
     "output_type": "display_data"
    }
   ],
   "source": [
    "plt.plot(alphas, preds_all_years, color=\"purple\")\n",
    "plt.plot(alphas, prediction_2020[-1], color=\"cyan\")\n",
    "plt.plot(alphas, prediction_2021[-1], color=\"olive\")\n",
    "\n",
    "\n",
    "plt.title(\"Comparison of RMSE for predicting 2019, 2020, and 2021\")\n",
    "plt.legend([\"2019\",\"2020\", \"2021\"])\n",
    "plt.xlabel(\"alpha\")\n",
    "plt.ylabel(\"RMSE\")"
   ]
  },
  {
   "cell_type": "code",
   "execution_count": 58,
   "id": "2b4da957",
   "metadata": {},
   "outputs": [
    {
     "data": {
      "text/plain": [
       "Text(0, 0.5, 'RMSE')"
      ]
     },
     "execution_count": 58,
     "metadata": {},
     "output_type": "execute_result"
    },
    {
     "data": {
      "image/png": "[encoded data removed]",
      "text/plain": [
       "<Figure size 432x288 with 1 Axes>"
      ]
     },
     "metadata": {
      "needs_background": "light"
     },
     "output_type": "display_data"
    }
   ],
   "source": [
    "# Take a closer look at 2021\n",
    "plt.plot(alphas, prediction_2021[-1])\n",
    "\n",
    "plt.title(\"RMSE for 2021 Prediction\")\n",
    "plt.xlabel(\"alpha\")\n",
    "plt.ylabel(\"RMSE\")"
   ]
  }
 ],
 "metadata": {
  "kernelspec": {
   "display_name": "Python 3",
   "language": "python",
   "name": "python3"
  },
  "language_info": {
   "codemirror_mode": {
    "name": "ipython",
    "version": 3
   },
   "file_extension": ".py",
   "mimetype": "text/x-python",
   "name": "python",
   "nbconvert_exporter": "python",
   "pygments_lexer": "ipython3",
   "version": "3.8.10"
  },
  "latex_envs": {
   "LaTeX_envs_menu_present": true,
   "autoclose": false,
   "autocomplete": true,
   "bibliofile": "biblio.bib",
   "cite_by": "apalike",
   "current_citInitial": 1,
   "eqLabelWithNumbers": true,
   "eqNumInitial": 1,
   "hotkeys": {
    "equation": "Ctrl-E",
    "itemize": "Ctrl-I"
   },
   "labels_anchors": false,
   "latex_user_defs": false,
   "report_style_numbering": false,
   "user_envs_cfg": false
  }
 },
 "nbformat": 4,
 "nbformat_minor": 5
}
