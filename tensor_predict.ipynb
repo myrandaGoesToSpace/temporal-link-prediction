{
 "cells": [
  {
   "cell_type": "code",
   "execution_count": 1,
   "metadata": {
    "ExecuteTime": {
     "end_time": "2022-04-15T15:46:34.696791Z",
     "start_time": "2022-04-15T15:46:33.396543Z"
    }
   },
   "outputs": [],
   "source": [
    "import pandas as pd\n",
    "import glob\n",
    "from statsmodels.tsa.api import SimpleExpSmoothing"
   ]
  },
  {
   "cell_type": "code",
   "execution_count": 2,
   "metadata": {
    "ExecuteTime": {
     "end_time": "2022-04-16T14:48:46.759601Z",
     "start_time": "2022-04-16T14:48:45.847332Z"
    }
   },
   "outputs": [],
   "source": [
    "cols = ['Year', 'Reporter Code', 'Reporter', 'Partner Code', 'Partner', 'Trade Value (US$)']\n",
    "schema = {'Year': str, 'Reporter Code': str, 'Partner Code': str}\n",
    "def dfs():\n",
    "    for file in glob.glob('data/*.csv'):\n",
    "        yield pd.read_csv(file, encoding='latin-1', usecols=cols, \n",
    "                          dtype=schema)\n",
    "df = pd.concat(dfs())\n",
    "df.dropna(inplace=True)\n",
    "df.rename(columns={'Reporter Code': 'Reporter_Code', 'Partner Code': 'Partner_Code', 'Trade Value (US$)': 'Trade_Value'}, inplace=True)"
   ]
  },
  {
   "cell_type": "code",
   "execution_count": 3,
   "metadata": {
    "ExecuteTime": {
     "end_time": "2022-04-16T15:04:46.913476Z",
     "start_time": "2022-04-16T15:04:46.857006Z"
    }
   },
   "outputs": [
    {
     "name": "stdout",
     "output_type": "stream",
     "text": [
      "143 Source nodes are present. (Some have invalid data so dropped)\n",
      "Filtered records from 74077 to 66316\n"
     ]
    }
   ],
   "source": [
    "reporters = set(df.Reporter_Code.unique())\n",
    "print(len(reporters), \"Source nodes are present. (Some have invalid data so dropped)\")\n",
    "df_ = df[df.Partner_Code.isin(reporters)]  #induced sub-graph creation\n",
    "print(\"Filtered records from\", len(df), \"to\", len(df_))"
   ]
  },
  {
   "cell_type": "code",
   "execution_count": 4,
   "metadata": {
    "ExecuteTime": {
     "end_time": "2022-04-16T14:51:17.487456Z",
     "start_time": "2022-04-16T14:51:17.016582Z"
    },
    "scrolled": true
   },
   "outputs": [],
   "source": [
    "# Filtered DF is essentially an induced graph now. Let's save this\n",
    "df_.to_csv('filtered_df.csv', header=True)"
   ]
  },
  {
   "cell_type": "code",
   "execution_count": 5,
   "metadata": {},
   "outputs": [],
   "source": [
    "countries = df_.Reporter.unique()\n",
    "country_to_index = dict(zip(countries, range(len(countries))))\n",
    "index_to_country = dict(map(reversed, country_to_index.items()));"
   ]
  },
  {
   "cell_type": "code",
   "execution_count": 7,
   "metadata": {
    "ExecuteTime": {
     "end_time": "2022-04-16T18:43:38.560762Z",
     "start_time": "2022-04-16T18:43:38.540665Z"
    }
   },
   "outputs": [],
   "source": [
    "# We can now start creating tensors\n",
    "import numpy as np\n",
    "# First dimension is for time (10 years)\n",
    "# Second dimension is for TO\n",
    "N = len(countries)\n",
    "tensor = np.zeros((10, N, N))"
   ]
  },
  {
   "cell_type": "code",
   "execution_count": 8,
   "metadata": {
    "ExecuteTime": {
     "end_time": "2022-04-16T18:43:43.121118Z",
     "start_time": "2022-04-16T18:43:39.956021Z"
    }
   },
   "outputs": [],
   "source": [
    "for i, year in enumerate(['2012', '2013', '2014', '2015', '2016', '2017', '2018', '2019', '2020', '2021']):\n",
    "    # Data of that particular year\n",
    "    df__ = df_[df_.Year == year]\n",
    "    # For the scale of this data, I think we can just iterate over it.\n",
    "    for _, row in df__.iterrows():\n",
    "        country_from = row['Partner']\n",
    "        country_to = row['Reporter']\n",
    "        tensor[i, country_to_index[country_from], country_to_index[country_to]] = row['Trade_Value']"
   ]
  },
  {
   "cell_type": "code",
   "execution_count": 9,
   "metadata": {
    "ExecuteTime": {
     "end_time": "2022-04-16T18:43:43.869923Z",
     "start_time": "2022-04-16T18:43:43.848992Z"
    }
   },
   "outputs": [
    {
     "name": "stdout",
     "output_type": "stream",
     "text": [
      "67.58% of the tensor is sparse\n"
     ]
    }
   ],
   "source": [
    "sparsity = 1.0 - np.count_nonzero(tensor) / tensor.size\n",
    "print(f\"{sparsity*100:.2f}% of the tensor is sparse\")"
   ]
  },
  {
   "cell_type": "code",
   "execution_count": 176,
   "metadata": {
    "ExecuteTime": {
     "end_time": "2022-04-16T18:43:46.104618Z",
     "start_time": "2022-04-16T18:43:46.082619Z"
    }
   },
   "outputs": [
    {
     "data": {
      "text/plain": [
       "array([[[0.0000000e+00, 0.0000000e+00, 0.0000000e+00, ...,\n",
       "         0.0000000e+00, 0.0000000e+00, 0.0000000e+00],\n",
       "        [0.0000000e+00, 0.0000000e+00, 0.0000000e+00, ...,\n",
       "         0.0000000e+00, 0.0000000e+00, 0.0000000e+00],\n",
       "        [0.0000000e+00, 2.2651200e+05, 0.0000000e+00, ...,\n",
       "         0.0000000e+00, 0.0000000e+00, 0.0000000e+00],\n",
       "        ...,\n",
       "        [0.0000000e+00, 0.0000000e+00, 0.0000000e+00, ...,\n",
       "         0.0000000e+00, 0.0000000e+00, 0.0000000e+00],\n",
       "        [0.0000000e+00, 0.0000000e+00, 0.0000000e+00, ...,\n",
       "         0.0000000e+00, 0.0000000e+00, 3.5345950e+06],\n",
       "        [0.0000000e+00, 0.0000000e+00, 0.0000000e+00, ...,\n",
       "         0.0000000e+00, 1.6782854e+07, 0.0000000e+00]],\n",
       "\n",
       "       [[0.0000000e+00, 0.0000000e+00, 0.0000000e+00, ...,\n",
       "         0.0000000e+00, 0.0000000e+00, 0.0000000e+00],\n",
       "        [0.0000000e+00, 0.0000000e+00, 0.0000000e+00, ...,\n",
       "         0.0000000e+00, 0.0000000e+00, 0.0000000e+00],\n",
       "        [0.0000000e+00, 1.5125220e+06, 0.0000000e+00, ...,\n",
       "         0.0000000e+00, 0.0000000e+00, 0.0000000e+00],\n",
       "        ...,\n",
       "        [0.0000000e+00, 0.0000000e+00, 0.0000000e+00, ...,\n",
       "         0.0000000e+00, 0.0000000e+00, 0.0000000e+00],\n",
       "        [0.0000000e+00, 0.0000000e+00, 0.0000000e+00, ...,\n",
       "         0.0000000e+00, 0.0000000e+00, 3.0578450e+06],\n",
       "        [0.0000000e+00, 0.0000000e+00, 0.0000000e+00, ...,\n",
       "         0.0000000e+00, 2.1992288e+07, 0.0000000e+00]],\n",
       "\n",
       "       [[0.0000000e+00, 0.0000000e+00, 0.0000000e+00, ...,\n",
       "         0.0000000e+00, 0.0000000e+00, 0.0000000e+00],\n",
       "        [0.0000000e+00, 0.0000000e+00, 3.5000000e+02, ...,\n",
       "         0.0000000e+00, 0.0000000e+00, 0.0000000e+00],\n",
       "        [0.0000000e+00, 3.7161740e+06, 0.0000000e+00, ...,\n",
       "         0.0000000e+00, 0.0000000e+00, 0.0000000e+00],\n",
       "        ...,\n",
       "        [0.0000000e+00, 0.0000000e+00, 0.0000000e+00, ...,\n",
       "         0.0000000e+00, 0.0000000e+00, 0.0000000e+00],\n",
       "        [0.0000000e+00, 0.0000000e+00, 0.0000000e+00, ...,\n",
       "         0.0000000e+00, 0.0000000e+00, 3.3386410e+06],\n",
       "        [0.0000000e+00, 0.0000000e+00, 0.0000000e+00, ...,\n",
       "         0.0000000e+00, 1.1694264e+07, 0.0000000e+00]],\n",
       "\n",
       "       ...,\n",
       "\n",
       "       [[0.0000000e+00, 0.0000000e+00, 0.0000000e+00, ...,\n",
       "         0.0000000e+00, 0.0000000e+00, 0.0000000e+00],\n",
       "        [0.0000000e+00, 0.0000000e+00, 0.0000000e+00, ...,\n",
       "         0.0000000e+00, 0.0000000e+00, 0.0000000e+00],\n",
       "        [0.0000000e+00, 4.2088630e+06, 0.0000000e+00, ...,\n",
       "         0.0000000e+00, 0.0000000e+00, 0.0000000e+00],\n",
       "        ...,\n",
       "        [0.0000000e+00, 0.0000000e+00, 0.0000000e+00, ...,\n",
       "         0.0000000e+00, 0.0000000e+00, 0.0000000e+00],\n",
       "        [0.0000000e+00, 0.0000000e+00, 0.0000000e+00, ...,\n",
       "         0.0000000e+00, 0.0000000e+00, 9.3708070e+06],\n",
       "        [0.0000000e+00, 0.0000000e+00, 0.0000000e+00, ...,\n",
       "         0.0000000e+00, 1.1520216e+07, 0.0000000e+00]],\n",
       "\n",
       "       [[0.0000000e+00, 0.0000000e+00, 0.0000000e+00, ...,\n",
       "         0.0000000e+00, 0.0000000e+00, 0.0000000e+00],\n",
       "        [0.0000000e+00, 0.0000000e+00, 0.0000000e+00, ...,\n",
       "         0.0000000e+00, 0.0000000e+00, 0.0000000e+00],\n",
       "        [0.0000000e+00, 1.9821344e+07, 0.0000000e+00, ...,\n",
       "         0.0000000e+00, 0.0000000e+00, 0.0000000e+00],\n",
       "        ...,\n",
       "        [0.0000000e+00, 0.0000000e+00, 0.0000000e+00, ...,\n",
       "         0.0000000e+00, 0.0000000e+00, 0.0000000e+00],\n",
       "        [0.0000000e+00, 0.0000000e+00, 0.0000000e+00, ...,\n",
       "         0.0000000e+00, 0.0000000e+00, 7.0322600e+05],\n",
       "        [0.0000000e+00, 0.0000000e+00, 0.0000000e+00, ...,\n",
       "         0.0000000e+00, 1.4449761e+07, 0.0000000e+00]],\n",
       "\n",
       "       [[0.0000000e+00, 0.0000000e+00, 0.0000000e+00, ...,\n",
       "         0.0000000e+00, 0.0000000e+00, 0.0000000e+00],\n",
       "        [0.0000000e+00, 0.0000000e+00, 0.0000000e+00, ...,\n",
       "         0.0000000e+00, 0.0000000e+00, 0.0000000e+00],\n",
       "        [0.0000000e+00, 0.0000000e+00, 0.0000000e+00, ...,\n",
       "         0.0000000e+00, 0.0000000e+00, 0.0000000e+00],\n",
       "        ...,\n",
       "        [0.0000000e+00, 0.0000000e+00, 0.0000000e+00, ...,\n",
       "         0.0000000e+00, 0.0000000e+00, 0.0000000e+00],\n",
       "        [0.0000000e+00, 0.0000000e+00, 0.0000000e+00, ...,\n",
       "         0.0000000e+00, 0.0000000e+00, 0.0000000e+00],\n",
       "        [0.0000000e+00, 0.0000000e+00, 0.0000000e+00, ...,\n",
       "         0.0000000e+00, 0.0000000e+00, 0.0000000e+00]]])"
      ]
     },
     "execution_count": 176,
     "metadata": {},
     "output_type": "execute_result"
    }
   ],
   "source": [
    "tensor"
   ]
  },
  {
   "cell_type": "code",
   "execution_count": 168,
   "metadata": {
    "ExecuteTime": {
     "end_time": "2022-04-16T16:13:35.745378Z",
     "start_time": "2022-04-16T16:13:29.336094Z"
    }
   },
   "outputs": [
    {
     "name": "stdout",
     "output_type": "stream",
     "text": [
      "Collecting tensorly\n",
      "  Downloading tensorly-0.7.0-py3-none-any.whl (198 kB)\n",
      "Requirement already satisfied: scipy in c:\\programdata\\miniconda3\\lib\\site-packages (from tensorly) (1.7.3)\n",
      "Collecting nose\n",
      "  Downloading nose-1.3.7-py3-none-any.whl (154 kB)\n",
      "Requirement already satisfied: numpy in c:\\programdata\\miniconda3\\lib\\site-packages (from tensorly) (1.21.5)\n",
      "Installing collected packages: nose, tensorly\n",
      "Successfully installed nose-1.3.7 tensorly-0.7.0\n"
     ]
    }
   ],
   "source": [
    "!pip install tensorly"
   ]
  },
  {
   "cell_type": "code",
   "execution_count": 11,
   "metadata": {
    "ExecuteTime": {
     "end_time": "2022-04-16T18:44:28.807341Z",
     "start_time": "2022-04-16T18:44:28.786354Z"
    },
    "scrolled": true
   },
   "outputs": [
    {
     "data": {
      "text/plain": [
       "array([[[16.53887063,  0.        , 12.35463919, ...,  0.        ,\n",
       "          4.76217393,  0.        ],\n",
       "        [ 0.        ,  0.        ,  0.        , ...,  0.        ,\n",
       "          0.        ,  0.        ],\n",
       "        [ 0.        ,  0.        ,  0.        , ...,  0.        ,\n",
       "          0.        ,  0.        ],\n",
       "        ...,\n",
       "        [11.60730794,  0.        ,  0.        , ...,  0.        ,\n",
       "          4.83628191,  0.        ],\n",
       "        [20.9365733 ,  0.        ,  0.        , ..., 18.05097911,\n",
       "          0.        ,  0.        ],\n",
       "        [13.00692559,  0.        , 11.15990099, ..., 13.50037369,\n",
       "         14.15336398,  0.        ]],\n",
       "\n",
       "       [[12.07779599,  0.        ,  9.23386157, ...,  0.        ,\n",
       "          0.        ,  0.        ],\n",
       "        [ 0.        ,  0.        ,  0.        , ...,  0.        ,\n",
       "          0.        ,  0.        ],\n",
       "        [ 0.        ,  0.        ,  0.        , ...,  0.        ,\n",
       "          0.        ,  0.        ],\n",
       "        ...,\n",
       "        [ 8.36706773,  0.        ,  0.        , ...,  0.        ,\n",
       "         12.47101435,  0.        ],\n",
       "        [21.37563528,  0.        ,  0.        , ..., 17.66647759,\n",
       "          0.        ,  0.        ],\n",
       "        [12.95372458,  0.        , 12.13724226, ...,  0.        ,\n",
       "         16.47333279,  0.        ]],\n",
       "\n",
       "       [[12.22057202,  6.1717006 ,  0.        , ...,  0.        ,\n",
       "          5.80513497,  8.247482  ],\n",
       "        [ 0.        ,  0.        , 11.80565478, ...,  5.83773045,\n",
       "          0.        ,  0.        ],\n",
       "        [ 0.        ,  0.        ,  0.        , ...,  0.        ,\n",
       "          0.        ,  0.        ],\n",
       "        ...,\n",
       "        [ 0.        ,  0.        ,  0.        , ...,  0.        ,\n",
       "         16.94619706,  0.        ],\n",
       "        [20.9336181 ,  0.        ,  0.        , ..., 18.02206051,\n",
       "          0.        ,  0.        ],\n",
       "        [13.25620872,  0.        , 12.19550703, ...,  0.        ,\n",
       "         15.04518766,  0.        ]],\n",
       "\n",
       "       ...,\n",
       "\n",
       "       [[13.13266018,  4.74493213,  5.85507192, ...,  0.        ,\n",
       "         11.03524444,  0.        ],\n",
       "        [ 0.        ,  0.        ,  0.        , ...,  0.        ,\n",
       "          0.        ,  0.        ],\n",
       "        [ 0.        ,  0.        ,  0.        , ...,  0.        ,\n",
       "          0.        ,  0.        ],\n",
       "        ...,\n",
       "        [11.5426493 ,  0.        ,  0.        , ...,  0.        ,\n",
       "         16.81066957,  0.        ],\n",
       "        [19.51751463, 10.05972177,  0.        , ..., 19.05661436,\n",
       "          0.        ,  0.        ],\n",
       "        [14.29669149,  0.        ,  0.        , ..., 14.89045598,\n",
       "         18.84914104,  0.        ]],\n",
       "\n",
       "       [[ 0.        ,  6.81783057,  9.02521489, ...,  0.        ,\n",
       "         11.7302119 ,  0.        ],\n",
       "        [ 0.        ,  0.        ,  0.        , ...,  0.        ,\n",
       "          0.        ,  0.        ],\n",
       "        [ 0.        ,  8.09681747,  0.        , ...,  0.        ,\n",
       "          0.        ,  0.        ],\n",
       "        ...,\n",
       "        [11.59729419,  0.        ,  0.        , ...,  0.        ,\n",
       "         16.84578193,  0.        ],\n",
       "        [19.04512143, 10.57551324,  0.        , ..., 18.59791192,\n",
       "          0.        ,  0.        ],\n",
       "        [14.24581786,  0.        ,  0.        , ..., 14.84764146,\n",
       "         15.9307833 ,  0.        ]],\n",
       "\n",
       "       [[ 0.        ,  5.71042702,  0.        , ...,  0.        ,\n",
       "         12.2534666 ,  0.        ],\n",
       "        [ 0.        ,  0.        ,  0.        , ...,  0.        ,\n",
       "          0.        ,  0.        ],\n",
       "        [ 0.        ,  0.        ,  0.        , ...,  0.        ,\n",
       "          0.        ,  0.        ],\n",
       "        ...,\n",
       "        [ 0.        ,  9.49544412,  0.        , ...,  0.        ,\n",
       "         17.77868623,  0.        ],\n",
       "        [ 0.        ,  0.        ,  0.        , ..., 17.32643936,\n",
       "          0.        ,  0.        ],\n",
       "        [ 0.        ,  5.19849703,  0.        , ..., 15.39955312,\n",
       "         17.02676461,  0.        ]]])"
      ]
     },
     "execution_count": 11,
     "metadata": {},
     "output_type": "execute_result"
    }
   ],
   "source": [
    "# Normalizing our tensor. For the first version, let's just calculate the log\n",
    "non_zeros = (tensor!=0)\n",
    "tensor[non_zeros] = np.log(tensor[non_zeros])\n",
    "tensor"
   ]
  },
  {
   "cell_type": "code",
   "execution_count": 12,
   "metadata": {
    "ExecuteTime": {
     "end_time": "2022-04-16T20:10:11.722064Z",
     "start_time": "2022-04-16T20:09:15.457840Z"
    }
   },
   "outputs": [
    {
     "name": "stdout",
     "output_type": "stream",
     "text": [
      "Shape of A (143, 150)\n",
      "Shape of B (143, 150)\n",
      "Shape of T (150,)\n",
      "Shape of W (150,)\n",
      "Shape of np.diag(W*T) (150, 150)\n"
     ]
    },
    {
     "data": {
      "text/plain": [
       "array([14.34832391, 11.78516321,  5.81129014, ..., 11.64427857,\n",
       "       13.20859964, 14.97849681])"
      ]
     },
     "execution_count": 12,
     "metadata": {},
     "output_type": "execute_result"
    }
   ],
   "source": [
    "from tensorly.decomposition import parafac\n",
    "\n",
    "# Can tinker with ranks\n",
    "# Mask has a special significance, we should really discuss and explore more about it\n",
    "weights, factors = parafac(tensor, rank=150, normalize_factors=True, mask=non_zeros, random_state=42)\n",
    "\n",
    "def get_slice(A, B, T, W):\n",
    "    # Given the two matrices, get the slice\n",
    "    print(\"Shape of A\", A.shape)\n",
    "    print(\"Shape of B\", B.shape)\n",
    "    print(\"Shape of T\", T.shape)\n",
    "    print(\"Shape of W\", W.shape)\n",
    "    print (\"Shape of np.diag(W*T)\", np.diag(W*T).shape)\n",
    "    return np.matmul(np.matmul(A, np.diag(W*T)), B.T)\n",
    "\n",
    "sl = get_slice(factors[1], factors[2], factors[0][0], weights)\n",
    "sl[non_zeros[0]]"
   ]
  },
  {
   "cell_type": "code",
   "execution_count": 34,
   "metadata": {},
   "outputs": [
    {
     "data": {
      "text/plain": [
       "143"
      ]
     },
     "execution_count": 34,
     "metadata": {},
     "output_type": "execute_result"
    }
   ],
   "source": [
    "sl.shape[0]"
   ]
  },
  {
   "cell_type": "code",
   "execution_count": 52,
   "metadata": {
    "ExecuteTime": {
     "end_time": "2022-04-16T20:10:30.281674Z",
     "start_time": "2022-04-16T20:10:30.262711Z"
    },
    "scrolled": true
   },
   "outputs": [],
   "source": [
    "# based on paper\n",
    "# factor matrix C\n",
    "# predict same col in next time slice C(K+1)\n",
    "# takes in factors produced by parafac and years to forecast (default is 1) \n",
    "# returns list of forecasted vectors, last n in list is the forecasted n years\n",
    "\n",
    "def exponential_smoothing(factors, weights, forecast = 1):\n",
    "    num_slices = len(factors[0])\n",
    "    alpha = 0.5\n",
    "    \n",
    "    sl = get_slice(factors[1], factors[2], factors[0][0], weights)\n",
    "    forecasts = [sl]\n",
    "    \n",
    "    for i in range(0, num_slices + forecast):\n",
    "        # get slice\n",
    "        s_t = forecasts[i]\n",
    "        s_t1 = np.zeros((s_t.shape[0], s_t.shape[1]))\n",
    "        \n",
    "        past_c_k_r = []\n",
    "        for k in range(0, s_t.shape[0]):\n",
    "            \n",
    "            for r in range(0, s_t.shape[1]):\n",
    "                c_k_r = s_t[k][r]\n",
    "                next_c_k_r = 0\n",
    "                           \n",
    "                for num in range(0, k):\n",
    "                    smooth = alpha * ((1-alpha) ** num)\n",
    "                    next_c_k_r += smooth * past_c_k_r[-num]\n",
    "                \n",
    "                past_c_k_r.append(next_c_k_r)\n",
    "                    \n",
    "                s_t1[k,r] = next_c_k_r\n",
    "                \n",
    "        forecasts.append(s_t1)\n",
    "        \n",
    "    return forecasts\n",
    "         \n",
    "        \n",
    "        "
   ]
  },
  {
   "cell_type": "code",
   "execution_count": 53,
   "metadata": {
    "ExecuteTime": {
     "end_time": "2022-04-16T22:09:17.812912Z",
     "start_time": "2022-04-16T22:09:17.793947Z"
    }
   },
   "outputs": [
    {
     "name": "stdout",
     "output_type": "stream",
     "text": [
      "Shape of A (143, 150)\n",
      "Shape of B (143, 150)\n",
      "Shape of T (150,)\n",
      "Shape of W (150,)\n",
      "Shape of np.diag(W*T) (150, 150)\n",
      "[[0. 0. 0. ... 0. 0. 0.]\n",
      " [0. 0. 0. ... 0. 0. 0.]\n",
      " [0. 0. 0. ... 0. 0. 0.]\n",
      " ...\n",
      " [0. 0. 0. ... 0. 0. 0.]\n",
      " [0. 0. 0. ... 0. 0. 0.]\n",
      " [0. 0. 0. ... 0. 0. 0.]]\n"
     ]
    }
   ],
   "source": [
    "# testing expo smoothing\n",
    "forecasts = exponential_smoothing(factors, weights)\n",
    "print(forecasts[-1])"
   ]
  },
  {
   "cell_type": "code",
   "execution_count": 54,
   "metadata": {
    "ExecuteTime": {
     "end_time": "2022-04-16T19:56:42.307964Z",
     "start_time": "2022-04-16T19:56:42.289961Z"
    }
   },
   "outputs": [
    {
     "data": {
      "text/plain": [
       "array([[0., 0., 0., ..., 0., 0., 0.],\n",
       "       [0., 0., 0., ..., 0., 0., 0.],\n",
       "       [0., 0., 0., ..., 0., 0., 0.],\n",
       "       ...,\n",
       "       [0., 0., 0., ..., 0., 0., 0.],\n",
       "       [0., 0., 0., ..., 0., 0., 0.],\n",
       "       [0., 0., 0., ..., 0., 0., 0.]])"
      ]
     },
     "execution_count": 54,
     "metadata": {},
     "output_type": "execute_result"
    }
   ],
   "source": [
    "forecasts[2]\n"
   ]
  },
  {
   "cell_type": "code",
   "execution_count": 230,
   "metadata": {
    "ExecuteTime": {
     "end_time": "2022-04-16T19:57:11.805002Z",
     "start_time": "2022-04-16T19:57:11.784998Z"
    }
   },
   "outputs": [
    {
     "data": {
      "text/plain": [
       "array([ 6.08449941, 17.9035443 , 12.39185072, ..., 16.69321177,\n",
       "        9.42843118, 16.63586833])"
      ]
     },
     "execution_count": 230,
     "metadata": {},
     "output_type": "execute_result"
    }
   ],
   "source": []
  },
  {
   "cell_type": "code",
   "execution_count": null,
   "metadata": {
    "ExecuteTime": {
     "end_time": "2022-04-15T16:46:44.680613Z",
     "start_time": "2022-04-15T16:46:44.655613Z"
    }
   },
   "outputs": [],
   "source": []
  },
  {
   "cell_type": "code",
   "execution_count": null,
   "metadata": {
    "ExecuteTime": {
     "end_time": "2022-04-15T18:30:32.863836Z",
     "start_time": "2022-04-15T18:30:32.811313Z"
    }
   },
   "outputs": [],
   "source": []
  },
  {
   "cell_type": "code",
   "execution_count": null,
   "metadata": {
    "ExecuteTime": {
     "end_time": "2022-04-15T18:30:34.516483Z",
     "start_time": "2022-04-15T18:30:34.472057Z"
    },
    "scrolled": false
   },
   "outputs": [],
   "source": []
  },
  {
   "cell_type": "code",
   "execution_count": 106,
   "metadata": {
    "ExecuteTime": {
     "end_time": "2022-04-15T18:51:12.809476Z",
     "start_time": "2022-04-15T18:51:12.767615Z"
    }
   },
   "outputs": [],
   "source": []
  },
  {
   "cell_type": "code",
   "execution_count": null,
   "metadata": {
    "ExecuteTime": {
     "end_time": "2022-04-16T14:51:38.135348Z",
     "start_time": "2022-04-16T14:51:33.806576Z"
    }
   },
   "outputs": [],
   "source": []
  },
  {
   "cell_type": "code",
   "execution_count": null,
   "metadata": {},
   "outputs": [],
   "source": []
  },
  {
   "cell_type": "code",
   "execution_count": null,
   "metadata": {},
   "outputs": [],
   "source": []
  },
  {
   "cell_type": "code",
   "execution_count": null,
   "metadata": {},
   "outputs": [],
   "source": []
  },
  {
   "cell_type": "code",
   "execution_count": null,
   "metadata": {},
   "outputs": [],
   "source": []
  },
  {
   "cell_type": "code",
   "execution_count": null,
   "metadata": {},
   "outputs": [],
   "source": []
  },
  {
   "cell_type": "code",
   "execution_count": null,
   "metadata": {},
   "outputs": [],
   "source": []
  }
 ],
 "metadata": {
  "kernelspec": {
   "display_name": "Python 3",
   "language": "python",
   "name": "python3"
  },
  "language_info": {
   "codemirror_mode": {
    "name": "ipython",
    "version": 3
   },
   "file_extension": ".py",
   "mimetype": "text/x-python",
   "name": "python",
   "nbconvert_exporter": "python",
   "pygments_lexer": "ipython3",
   "version": "3.8.10"
  },
  "latex_envs": {
   "LaTeX_envs_menu_present": true,
   "autoclose": false,
   "autocomplete": true,
   "bibliofile": "biblio.bib",
   "cite_by": "apalike",
   "current_citInitial": 1,
   "eqLabelWithNumbers": true,
   "eqNumInitial": 1,
   "hotkeys": {
    "equation": "Ctrl-E",
    "itemize": "Ctrl-I"
   },
   "labels_anchors": false,
   "latex_user_defs": false,
   "report_style_numbering": false,
   "user_envs_cfg": false
  }
 },
 "nbformat": 4,
 "nbformat_minor": 5
}
