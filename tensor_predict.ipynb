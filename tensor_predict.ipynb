{
 "cells": [
  {
   "cell_type": "code",
   "execution_count": 1,
   "metadata": {
    "ExecuteTime": {
     "end_time": "2022-04-19T23:50:15.188097Z",
     "start_time": "2022-04-19T23:50:15.174520Z"
    }
   },
   "outputs": [],
   "source": [
    "import pandas as pd\n",
    "import glob\n",
    "# from statsmodels.tsa.api import SimpleExpSmoothing"
   ]
  },
  {
   "cell_type": "code",
   "execution_count": 2,
   "metadata": {
    "ExecuteTime": {
     "end_time": "2022-04-19T23:50:19.565792Z",
     "start_time": "2022-04-19T23:50:16.577273Z"
    }
   },
   "outputs": [],
   "source": [
    "cols = ['Year', 'Reporter Code', 'Reporter', 'Partner Code', 'Partner', 'Trade Value (US$)']\n",
    "schema = {'Year': str, 'Reporter Code': str, 'Partner Code': str}\n",
    "def dfs():\n",
    "    for file in glob.glob('data/*.csv'):\n",
    "        yield pd.read_csv(file, encoding='latin-1', usecols=cols, \n",
    "                          dtype=schema)\n",
    "df = pd.concat(dfs())\n",
    "df.dropna(inplace=True)\n",
    "df.rename(columns={'Reporter Code': 'Reporter_Code', 'Partner Code': 'Partner_Code', 'Trade Value (US$)': 'Trade_Value'}, inplace=True)"
   ]
  },
  {
   "cell_type": "code",
   "execution_count": 3,
   "metadata": {
    "ExecuteTime": {
     "end_time": "2022-04-19T23:50:20.687932Z",
     "start_time": "2022-04-19T23:50:20.620349Z"
    }
   },
   "outputs": [
    {
     "name": "stdout",
     "output_type": "stream",
     "text": [
      "143 Source nodes are present. (Some have invalid data so dropped)\n",
      "Filtered records from 74077 to 66316\n"
     ]
    }
   ],
   "source": [
    "reporters = set(df.Reporter_Code.unique())\n",
    "print(len(reporters), \"Source nodes are present. (Some have invalid data so dropped)\")\n",
    "df_ = df[df.Partner_Code.isin(reporters)]  #induced sub-graph creation\n",
    "print(\"Filtered records from\", len(df), \"to\", len(df_))"
   ]
  },
  {
   "cell_type": "code",
   "execution_count": 4,
   "metadata": {
    "ExecuteTime": {
     "end_time": "2022-04-19T23:50:23.887824Z",
     "start_time": "2022-04-19T23:50:23.598130Z"
    },
    "scrolled": true
   },
   "outputs": [],
   "source": [
    "# Filtered DF is essentially an induced graph now. Let's save this\n",
    "df_.to_csv('filtered_df.csv', header=True)"
   ]
  },
  {
   "cell_type": "code",
   "execution_count": 5,
   "metadata": {
    "ExecuteTime": {
     "end_time": "2022-04-19T23:50:26.226100Z",
     "start_time": "2022-04-19T23:50:26.187683Z"
    }
   },
   "outputs": [],
   "source": [
    "countries = df_.Reporter.unique()\n",
    "country_to_index = dict(zip(countries, range(len(countries))))\n",
    "index_to_country = dict(map(reversed, country_to_index.items()));"
   ]
  },
  {
   "cell_type": "code",
   "execution_count": 6,
   "metadata": {
    "ExecuteTime": {
     "end_time": "2022-04-19T23:50:28.032618Z",
     "start_time": "2022-04-19T23:50:28.008929Z"
    }
   },
   "outputs": [],
   "source": [
    "# We can now start creating tensors\n",
    "import numpy as np\n",
    "# First dimension is for time (10 years)\n",
    "# Second dimension is for TO\n",
    "N = len(countries)\n",
    "tensor = np.zeros((10, N, N))"
   ]
  },
  {
   "cell_type": "code",
   "execution_count": 7,
   "metadata": {
    "ExecuteTime": {
     "end_time": "2022-04-19T23:52:11.443625Z",
     "start_time": "2022-04-19T23:52:08.421245Z"
    }
   },
   "outputs": [],
   "source": [
    "for i, year in enumerate(['2012', '2013', '2014', '2015', '2016', '2017', '2018', '2019', '2020', '2021']):\n",
    "    # Data of that particular year\n",
    "    df__ = df_[df_.Year == year]\n",
    "    # For the scale of this data, I think we can just iterate over it.\n",
    "    for _, row in df__.iterrows():\n",
    "        country_from = row['Partner']\n",
    "        country_to = row['Reporter']\n",
    "        tensor[i, country_to_index[country_from], country_to_index[country_to]] = row['Trade_Value']"
   ]
  },
  {
   "cell_type": "code",
   "execution_count": 8,
   "metadata": {
    "ExecuteTime": {
     "end_time": "2022-04-19T23:52:17.617960Z",
     "start_time": "2022-04-19T23:52:17.595658Z"
    }
   },
   "outputs": [
    {
     "name": "stdout",
     "output_type": "stream",
     "text": [
      "67.58% of the tensor is sparse\n"
     ]
    }
   ],
   "source": [
    "sparsity = 1.0 - np.count_nonzero(tensor) / tensor.size\n",
    "print(f\"{sparsity*100:.2f}% of the tensor is sparse\")"
   ]
  },
  {
   "cell_type": "code",
   "execution_count": 13,
   "metadata": {
    "ExecuteTime": {
     "end_time": "2022-04-19T23:52:19.954837Z",
     "start_time": "2022-04-19T23:52:19.932766Z"
    }
   },
   "outputs": [
    {
     "data": {
      "text/plain": [
       "array([[[0.0000000e+00, 0.0000000e+00, 0.0000000e+00, ...,\n",
       "         0.0000000e+00, 0.0000000e+00, 0.0000000e+00],\n",
       "        [0.0000000e+00, 0.0000000e+00, 0.0000000e+00, ...,\n",
       "         0.0000000e+00, 0.0000000e+00, 0.0000000e+00],\n",
       "        [0.0000000e+00, 2.2651200e+05, 0.0000000e+00, ...,\n",
       "         0.0000000e+00, 0.0000000e+00, 0.0000000e+00],\n",
       "        ...,\n",
       "        [0.0000000e+00, 0.0000000e+00, 0.0000000e+00, ...,\n",
       "         0.0000000e+00, 0.0000000e+00, 0.0000000e+00],\n",
       "        [0.0000000e+00, 0.0000000e+00, 0.0000000e+00, ...,\n",
       "         0.0000000e+00, 0.0000000e+00, 3.5345950e+06],\n",
       "        [0.0000000e+00, 0.0000000e+00, 0.0000000e+00, ...,\n",
       "         0.0000000e+00, 1.6782854e+07, 0.0000000e+00]],\n",
       "\n",
       "       [[0.0000000e+00, 0.0000000e+00, 0.0000000e+00, ...,\n",
       "         0.0000000e+00, 0.0000000e+00, 0.0000000e+00],\n",
       "        [0.0000000e+00, 0.0000000e+00, 0.0000000e+00, ...,\n",
       "         0.0000000e+00, 0.0000000e+00, 0.0000000e+00],\n",
       "        [0.0000000e+00, 1.5125220e+06, 0.0000000e+00, ...,\n",
       "         0.0000000e+00, 0.0000000e+00, 0.0000000e+00],\n",
       "        ...,\n",
       "        [0.0000000e+00, 0.0000000e+00, 0.0000000e+00, ...,\n",
       "         0.0000000e+00, 0.0000000e+00, 0.0000000e+00],\n",
       "        [0.0000000e+00, 0.0000000e+00, 0.0000000e+00, ...,\n",
       "         0.0000000e+00, 0.0000000e+00, 3.0578450e+06],\n",
       "        [0.0000000e+00, 0.0000000e+00, 0.0000000e+00, ...,\n",
       "         0.0000000e+00, 2.1992288e+07, 0.0000000e+00]],\n",
       "\n",
       "       [[0.0000000e+00, 0.0000000e+00, 0.0000000e+00, ...,\n",
       "         0.0000000e+00, 0.0000000e+00, 0.0000000e+00],\n",
       "        [0.0000000e+00, 0.0000000e+00, 3.5000000e+02, ...,\n",
       "         0.0000000e+00, 0.0000000e+00, 0.0000000e+00],\n",
       "        [0.0000000e+00, 3.7161740e+06, 0.0000000e+00, ...,\n",
       "         0.0000000e+00, 0.0000000e+00, 0.0000000e+00],\n",
       "        ...,\n",
       "        [0.0000000e+00, 0.0000000e+00, 0.0000000e+00, ...,\n",
       "         0.0000000e+00, 0.0000000e+00, 0.0000000e+00],\n",
       "        [0.0000000e+00, 0.0000000e+00, 0.0000000e+00, ...,\n",
       "         0.0000000e+00, 0.0000000e+00, 3.3386410e+06],\n",
       "        [0.0000000e+00, 0.0000000e+00, 0.0000000e+00, ...,\n",
       "         0.0000000e+00, 1.1694264e+07, 0.0000000e+00]],\n",
       "\n",
       "       ...,\n",
       "\n",
       "       [[0.0000000e+00, 0.0000000e+00, 0.0000000e+00, ...,\n",
       "         0.0000000e+00, 0.0000000e+00, 0.0000000e+00],\n",
       "        [0.0000000e+00, 0.0000000e+00, 0.0000000e+00, ...,\n",
       "         0.0000000e+00, 0.0000000e+00, 0.0000000e+00],\n",
       "        [0.0000000e+00, 4.2088630e+06, 0.0000000e+00, ...,\n",
       "         0.0000000e+00, 0.0000000e+00, 0.0000000e+00],\n",
       "        ...,\n",
       "        [0.0000000e+00, 0.0000000e+00, 0.0000000e+00, ...,\n",
       "         0.0000000e+00, 0.0000000e+00, 0.0000000e+00],\n",
       "        [0.0000000e+00, 0.0000000e+00, 0.0000000e+00, ...,\n",
       "         0.0000000e+00, 0.0000000e+00, 9.3708070e+06],\n",
       "        [0.0000000e+00, 0.0000000e+00, 0.0000000e+00, ...,\n",
       "         0.0000000e+00, 1.1520216e+07, 0.0000000e+00]],\n",
       "\n",
       "       [[0.0000000e+00, 0.0000000e+00, 0.0000000e+00, ...,\n",
       "         0.0000000e+00, 0.0000000e+00, 0.0000000e+00],\n",
       "        [0.0000000e+00, 0.0000000e+00, 0.0000000e+00, ...,\n",
       "         0.0000000e+00, 0.0000000e+00, 0.0000000e+00],\n",
       "        [0.0000000e+00, 1.9821344e+07, 0.0000000e+00, ...,\n",
       "         0.0000000e+00, 0.0000000e+00, 0.0000000e+00],\n",
       "        ...,\n",
       "        [0.0000000e+00, 0.0000000e+00, 0.0000000e+00, ...,\n",
       "         0.0000000e+00, 0.0000000e+00, 0.0000000e+00],\n",
       "        [0.0000000e+00, 0.0000000e+00, 0.0000000e+00, ...,\n",
       "         0.0000000e+00, 0.0000000e+00, 7.0322600e+05],\n",
       "        [0.0000000e+00, 0.0000000e+00, 0.0000000e+00, ...,\n",
       "         0.0000000e+00, 1.4449761e+07, 0.0000000e+00]],\n",
       "\n",
       "       [[0.0000000e+00, 0.0000000e+00, 0.0000000e+00, ...,\n",
       "         0.0000000e+00, 0.0000000e+00, 0.0000000e+00],\n",
       "        [0.0000000e+00, 0.0000000e+00, 0.0000000e+00, ...,\n",
       "         0.0000000e+00, 0.0000000e+00, 0.0000000e+00],\n",
       "        [0.0000000e+00, 0.0000000e+00, 0.0000000e+00, ...,\n",
       "         0.0000000e+00, 0.0000000e+00, 0.0000000e+00],\n",
       "        ...,\n",
       "        [0.0000000e+00, 0.0000000e+00, 0.0000000e+00, ...,\n",
       "         0.0000000e+00, 0.0000000e+00, 0.0000000e+00],\n",
       "        [0.0000000e+00, 0.0000000e+00, 0.0000000e+00, ...,\n",
       "         0.0000000e+00, 0.0000000e+00, 0.0000000e+00],\n",
       "        [0.0000000e+00, 0.0000000e+00, 0.0000000e+00, ...,\n",
       "         0.0000000e+00, 0.0000000e+00, 0.0000000e+00]]])"
      ]
     },
     "execution_count": 13,
     "metadata": {},
     "output_type": "execute_result"
    }
   ],
   "source": [
    "tensor"
   ]
  },
  {
   "cell_type": "code",
   "execution_count": 168,
   "metadata": {
    "ExecuteTime": {
     "end_time": "2022-04-16T16:13:35.745378Z",
     "start_time": "2022-04-16T16:13:29.336094Z"
    }
   },
   "outputs": [
    {
     "name": "stdout",
     "output_type": "stream",
     "text": [
      "Collecting tensorly\n",
      "  Downloading tensorly-0.7.0-py3-none-any.whl (198 kB)\n",
      "Requirement already satisfied: scipy in c:\\programdata\\miniconda3\\lib\\site-packages (from tensorly) (1.7.3)\n",
      "Collecting nose\n",
      "  Downloading nose-1.3.7-py3-none-any.whl (154 kB)\n",
      "Requirement already satisfied: numpy in c:\\programdata\\miniconda3\\lib\\site-packages (from tensorly) (1.21.5)\n",
      "Installing collected packages: nose, tensorly\n",
      "Successfully installed nose-1.3.7 tensorly-0.7.0\n"
     ]
    }
   ],
   "source": [
    "!pip install tensorly"
   ]
  },
  {
   "cell_type": "code",
   "execution_count": 9,
   "metadata": {
    "ExecuteTime": {
     "end_time": "2022-04-19T23:52:26.538720Z",
     "start_time": "2022-04-19T23:52:26.518616Z"
    },
    "scrolled": true
   },
   "outputs": [
    {
     "data": {
      "text/plain": [
       "array([[[16.53887063,  0.        , 12.35463919, ...,  0.        ,\n",
       "          4.76217393,  0.        ],\n",
       "        [ 0.        ,  0.        ,  0.        , ...,  0.        ,\n",
       "          0.        ,  0.        ],\n",
       "        [ 0.        ,  0.        ,  0.        , ...,  0.        ,\n",
       "          0.        ,  0.        ],\n",
       "        ...,\n",
       "        [11.60730794,  0.        ,  0.        , ...,  0.        ,\n",
       "          4.83628191,  0.        ],\n",
       "        [20.9365733 ,  0.        ,  0.        , ..., 18.05097911,\n",
       "          0.        ,  0.        ],\n",
       "        [13.00692559,  0.        , 11.15990099, ..., 13.50037369,\n",
       "         14.15336398,  0.        ]],\n",
       "\n",
       "       [[12.07779599,  0.        ,  9.23386157, ...,  0.        ,\n",
       "          0.        ,  0.        ],\n",
       "        [ 0.        ,  0.        ,  0.        , ...,  0.        ,\n",
       "          0.        ,  0.        ],\n",
       "        [ 0.        ,  0.        ,  0.        , ...,  0.        ,\n",
       "          0.        ,  0.        ],\n",
       "        ...,\n",
       "        [ 8.36706773,  0.        ,  0.        , ...,  0.        ,\n",
       "         12.47101435,  0.        ],\n",
       "        [21.37563528,  0.        ,  0.        , ..., 17.66647759,\n",
       "          0.        ,  0.        ],\n",
       "        [12.95372458,  0.        , 12.13724226, ...,  0.        ,\n",
       "         16.47333279,  0.        ]],\n",
       "\n",
       "       [[12.22057202,  6.1717006 ,  0.        , ...,  0.        ,\n",
       "          5.80513497,  8.247482  ],\n",
       "        [ 0.        ,  0.        , 11.80565478, ...,  5.83773045,\n",
       "          0.        ,  0.        ],\n",
       "        [ 0.        ,  0.        ,  0.        , ...,  0.        ,\n",
       "          0.        ,  0.        ],\n",
       "        ...,\n",
       "        [ 0.        ,  0.        ,  0.        , ...,  0.        ,\n",
       "         16.94619706,  0.        ],\n",
       "        [20.9336181 ,  0.        ,  0.        , ..., 18.02206051,\n",
       "          0.        ,  0.        ],\n",
       "        [13.25620872,  0.        , 12.19550703, ...,  0.        ,\n",
       "         15.04518766,  0.        ]],\n",
       "\n",
       "       ...,\n",
       "\n",
       "       [[13.13266018,  4.74493213,  5.85507192, ...,  0.        ,\n",
       "         11.03524444,  0.        ],\n",
       "        [ 0.        ,  0.        ,  0.        , ...,  0.        ,\n",
       "          0.        ,  0.        ],\n",
       "        [ 0.        ,  0.        ,  0.        , ...,  0.        ,\n",
       "          0.        ,  0.        ],\n",
       "        ...,\n",
       "        [11.5426493 ,  0.        ,  0.        , ...,  0.        ,\n",
       "         16.81066957,  0.        ],\n",
       "        [19.51751463, 10.05972177,  0.        , ..., 19.05661436,\n",
       "          0.        ,  0.        ],\n",
       "        [14.29669149,  0.        ,  0.        , ..., 14.89045598,\n",
       "         18.84914104,  0.        ]],\n",
       "\n",
       "       [[ 0.        ,  6.81783057,  9.02521489, ...,  0.        ,\n",
       "         11.7302119 ,  0.        ],\n",
       "        [ 0.        ,  0.        ,  0.        , ...,  0.        ,\n",
       "          0.        ,  0.        ],\n",
       "        [ 0.        ,  8.09681747,  0.        , ...,  0.        ,\n",
       "          0.        ,  0.        ],\n",
       "        ...,\n",
       "        [11.59729419,  0.        ,  0.        , ...,  0.        ,\n",
       "         16.84578193,  0.        ],\n",
       "        [19.04512143, 10.57551324,  0.        , ..., 18.59791192,\n",
       "          0.        ,  0.        ],\n",
       "        [14.24581786,  0.        ,  0.        , ..., 14.84764146,\n",
       "         15.9307833 ,  0.        ]],\n",
       "\n",
       "       [[ 0.        ,  5.71042702,  0.        , ...,  0.        ,\n",
       "         12.2534666 ,  0.        ],\n",
       "        [ 0.        ,  0.        ,  0.        , ...,  0.        ,\n",
       "          0.        ,  0.        ],\n",
       "        [ 0.        ,  0.        ,  0.        , ...,  0.        ,\n",
       "          0.        ,  0.        ],\n",
       "        ...,\n",
       "        [ 0.        ,  9.49544412,  0.        , ...,  0.        ,\n",
       "         17.77868623,  0.        ],\n",
       "        [ 0.        ,  0.        ,  0.        , ..., 17.32643936,\n",
       "          0.        ,  0.        ],\n",
       "        [ 0.        ,  5.19849703,  0.        , ..., 15.39955312,\n",
       "         17.02676461,  0.        ]]])"
      ]
     },
     "execution_count": 9,
     "metadata": {},
     "output_type": "execute_result"
    }
   ],
   "source": [
    "# Normalizing our tensor. For the first version, let's just calculate the log\n",
    "non_zeros = (tensor!=0)\n",
    "tensor[non_zeros] = np.log(tensor[non_zeros])\n",
    "tensor"
   ]
  },
  {
   "cell_type": "code",
   "execution_count": 10,
   "metadata": {
    "ExecuteTime": {
     "end_time": "2022-04-19T23:53:24.706413Z",
     "start_time": "2022-04-19T23:52:32.399622Z"
    },
    "scrolled": true
   },
   "outputs": [],
   "source": [
    "from tensorly.decomposition import parafac\n",
    "\n",
    "# Can tinker with ranks\n",
    "# Mask has a special significance, we should really discuss and explore more about it\n",
    "weights, factors = parafac(tensor, rank=150, normalize_factors=True, mask=non_zeros, random_state=42)\n"
   ]
  },
  {
   "cell_type": "code",
   "execution_count": 11,
   "metadata": {
    "ExecuteTime": {
     "end_time": "2022-04-19T23:56:48.615965Z",
     "start_time": "2022-04-19T23:56:48.592967Z"
    }
   },
   "outputs": [
    {
     "name": "stdout",
     "output_type": "stream",
     "text": [
      "Shape of A (143, 150)\n",
      "Shape of B (143, 150)\n",
      "Shape of T (150,)\n",
      "Shape of W (150,)\n",
      "Shape of np.diag(W*T) (150, 150)\n"
     ]
    },
    {
     "data": {
      "text/plain": [
       "array([ 5.85512649, 12.46666417, 18.52192549, ..., 14.76686959,\n",
       "       15.63305322, 17.11343875])"
      ]
     },
     "execution_count": 11,
     "metadata": {},
     "output_type": "execute_result"
    }
   ],
   "source": [
    "def get_slice(A, B, T, W):\n",
    "    # Given the two matrices, get the slice\n",
    "    print(\"Shape of A\", A.shape)\n",
    "    print(\"Shape of B\", B.shape)\n",
    "    print(\"Shape of T\", T.shape)\n",
    "    print(\"Shape of W\", W.shape)\n",
    "    print (\"Shape of np.diag(W*T)\", np.diag(W*T).shape)\n",
    "    return np.matmul(np.matmul(A, np.diag(W*T)), B.T)\n",
    "\n",
    "sl = get_slice(factors[1], factors[2], factors[0][9], weights)\n",
    "sl[non_zeros[9]]"
   ]
  },
  {
   "cell_type": "code",
   "execution_count": 16,
   "metadata": {
    "ExecuteTime": {
     "end_time": "2022-04-19T23:53:36.432674Z",
     "start_time": "2022-04-19T23:53:36.415666Z"
    }
   },
   "outputs": [
    {
     "data": {
      "text/plain": [
       "143"
      ]
     },
     "execution_count": 16,
     "metadata": {},
     "output_type": "execute_result"
    }
   ],
   "source": [
    "sl.shape[0]"
   ]
  },
  {
   "cell_type": "code",
   "execution_count": 12,
   "metadata": {
    "ExecuteTime": {
     "end_time": "2022-04-19T23:53:38.871566Z",
     "start_time": "2022-04-19T23:53:38.850565Z"
    }
   },
   "outputs": [
    {
     "data": {
      "text/plain": [
       "2.25"
      ]
     },
     "execution_count": 12,
     "metadata": {},
     "output_type": "execute_result"
    }
   ],
   "source": [
    "# recursive implementation of exponential smoothing\n",
    "# Input: list of vectors, alpha\n",
    "# Output: Next vector\n",
    "def exponential_smoothing_recursive(vectors, alpha, depth=-1):\n",
    "    if depth==-1:                          # -1 means the last one\n",
    "        depth = len(vectors)-1\n",
    "    if depth == 0:                        # For the first vector, return as is.\n",
    "        return vectors[0]\n",
    "    return alpha * vectors[depth] + \\\n",
    "            (1-alpha) * exponential_smoothing_recursive(vectors, alpha, depth-1)\n",
    "\n",
    "exponential_smoothing_recursive([1,2,3], .5)"
   ]
  },
  {
   "cell_type": "code",
   "execution_count": 14,
   "metadata": {
    "ExecuteTime": {
     "end_time": "2022-04-19T23:54:59.012306Z",
     "start_time": "2022-04-19T23:54:58.990316Z"
    },
    "scrolled": true
   },
   "outputs": [
    {
     "name": "stdout",
     "output_type": "stream",
     "text": [
      "Shape of A (143, 150)\n",
      "Shape of B (143, 150)\n",
      "Shape of T (150,)\n",
      "Shape of W (150,)\n",
      "Shape of np.diag(W*T) (150, 150)\n"
     ]
    }
   ],
   "source": [
    "next_C = exponential_smoothing_recursive(factors[0], alpha=0.5)\n",
    "forecast = get_slice(factors[1], factors[2], next_C, weights)"
   ]
  },
  {
   "cell_type": "code",
   "execution_count": 29,
   "metadata": {
    "ExecuteTime": {
     "end_time": "2022-04-19T23:57:23.991133Z",
     "start_time": "2022-04-19T23:57:23.984123Z"
    }
   },
   "outputs": [
    {
     "data": {
      "text/plain": [
       "array([ 0.32155375,  0.3036457 ,  0.47594147, -0.76559932,  0.25328463,\n",
       "        0.2806135 ,  0.50715998, -0.03426854, -0.07444104, -0.0497859 ,\n",
       "        0.33095308,  0.29773246, -0.17293837, -0.3994588 , -0.24057897,\n",
       "       -0.31647308,  0.19444822,  0.37852546,  0.255299  , -0.32420629,\n",
       "       -0.42051906,  0.39439336, -0.37478292,  0.61007152, -0.68752351,\n",
       "        0.45158501, -0.48343486,  0.24029969, -0.40710143, -0.27334294,\n",
       "        0.50698089, -0.28275666,  0.27159073, -0.26491024, -0.47924288,\n",
       "        0.39386158,  0.39700713, -0.20323859,  0.25083129, -0.4824738 ,\n",
       "        0.31811343,  0.45781293,  0.30480245,  0.17648065, -0.32171316,\n",
       "        0.50475516, -0.21867099,  0.44582014,  0.27159955,  0.41540045,\n",
       "       -0.03503163,  0.06221233,  0.34030015,  0.28816254,  0.27281064,\n",
       "       -0.54455755, -0.39309303,  0.15849018, -0.22168919, -0.81365902,\n",
       "       -0.03929048,  0.46012906, -0.42345557, -0.12600082, -0.02045431,\n",
       "        0.48607068,  0.38766723,  0.44050753,  0.27379869, -0.27966408,\n",
       "       -0.09885708, -0.47437032, -0.427726  , -0.4472922 , -0.01089418,\n",
       "       -0.07098023,  0.35336042,  0.37569582, -0.34277538,  0.4007135 ,\n",
       "       -0.21668414,  0.25068302,  0.19604558, -0.39772236,  0.64728203,\n",
       "       -0.49483555,  0.09598327,  0.39268742, -0.25647654, -0.0084609 ,\n",
       "       -0.67839632, -0.56861636,  0.33440013, -0.01436284,  0.27812593,\n",
       "        0.50083087, -0.08641438,  0.44183764,  0.43559904,  0.29870864,\n",
       "        0.17246922,  0.41735817, -0.23343904,  0.48908869, -0.40191224,\n",
       "       -0.52558676, -0.18840137,  0.12282351, -0.08364221, -0.32777486,\n",
       "        0.38957028, -0.32181057,  0.23052038,  0.42366372,  0.33792446,\n",
       "       -0.00283948, -0.1556428 , -0.12850541,  0.25899385, -0.01250728,\n",
       "        0.34151007, -0.33613676,  0.52677568, -0.35152173, -0.56758447,\n",
       "        0.56463399,  0.36619934,  0.10591827,  0.29630663,  0.40100742,\n",
       "        0.12219915,  0.20514677, -0.26775824, -0.52283669, -0.17028784,\n",
       "        0.27869618, -0.35202272, -0.08530766,  0.08908916, -0.27756545,\n",
       "        0.20285039,  0.79450993, -0.17539521, -0.27716563,  0.15353884,\n",
       "        0.23279148, -0.19701646, -0.34445324,  0.38603555, -0.01374757])"
      ]
     },
     "execution_count": 29,
     "metadata": {},
     "output_type": "execute_result"
    }
   ],
   "source": []
  },
  {
   "cell_type": "code",
   "execution_count": 33,
   "metadata": {},
   "outputs": [
    {
     "name": "stdout",
     "output_type": "stream",
     "text": [
      "Shape of A (143, 150)\n",
      "Shape of B (143, 150)\n",
      "Shape of T (150,)\n",
      "Shape of W (150,)\n",
      "Shape of np.diag(W*T) (150, 150)\n"
     ]
    },
    {
     "data": {
      "text/plain": [
       "array([[13.56496173,  5.95977704,  9.45067772, ...,  7.92337284,\n",
       "         9.57826687, 12.8690975 ],\n",
       "       [-0.71652088, -0.3957143 ,  4.80271444, ...,  8.49268168,\n",
       "         4.40794681,  3.45765197],\n",
       "       [-0.15352475,  7.74678302,  1.43551031, ..., -1.14648071,\n",
       "        -1.10237309,  1.97143428],\n",
       "       ...,\n",
       "       [ 9.64543058,  8.49627076, 11.16650981, ...,  7.01823251,\n",
       "        16.07565315,  7.81237962],\n",
       "       [18.86947164,  6.24123373,  2.32137891, ..., 19.10047807,\n",
       "         2.18271608, 10.22697383],\n",
       "       [14.5324087 ,  6.27102747, 13.78820273, ..., 15.10785511,\n",
       "        18.21928322, -0.78701545]])"
      ]
     },
     "execution_count": 33,
     "metadata": {},
     "output_type": "execute_result"
    }
   ],
   "source": [
    "# compare prediction\n",
    "num_years = 7 # 2012 - 2018, predict on 2019\n",
    "\n",
    "C_7_2019 = exponential_smoothing_recursive(factors[0][0:num_years], alpha = 0.5)\n",
    "forecast_7_2019 = get_slice(factors[1], factors[2], C_2019, weights)\n",
    "\n",
    "forecast_7_2019"
   ]
  },
  {
   "cell_type": "code",
   "execution_count": 34,
   "metadata": {},
   "outputs": [
    {
     "name": "stdout",
     "output_type": "stream",
     "text": [
      "Shape of A (143, 150)\n",
      "Shape of B (143, 150)\n",
      "Shape of T (150,)\n",
      "Shape of W (150,)\n",
      "Shape of np.diag(W*T) (150, 150)\n"
     ]
    },
    {
     "data": {
      "text/plain": [
       "array([[ 14.2161158 ,   4.85097181,  11.54241582, ...,   6.59800869,\n",
       "          5.20494006,   4.14311879],\n",
       "       [  1.15180471,  -5.64818569,  11.48218121, ...,   8.53524219,\n",
       "         -0.09558665,   4.31851863],\n",
       "       [ -1.18318998,   3.29845272,   1.031183  , ...,  -6.85988999,\n",
       "         -8.72211682,   2.81281705],\n",
       "       ...,\n",
       "       [ 10.67164471,   3.10622847,   8.49902233, ...,   5.7377506 ,\n",
       "          7.2254091 ,  -3.20400035],\n",
       "       [ 21.44634562,  -9.17935765, -23.60739746, ...,  17.82337319,\n",
       "         -0.51034787,   1.02112124],\n",
       "       [ 13.11501439,  -3.78519491,  10.39623173, ...,  13.47357325,\n",
       "         15.0627584 ,   3.21561584]])"
      ]
     },
     "execution_count": 34,
     "metadata": {},
     "output_type": "execute_result"
    }
   ],
   "source": [
    "num_years = 2\n",
    "C_2_2019 = exponential_smoothing_recursive(factors[0][0:num_years], alpha = 0.1)\n",
    "forecast_2_2019 = get_slice(factors[1], factors[2], C_2_2019, weights)\n",
    "forecast_2_2019"
   ]
  },
  {
   "cell_type": "code",
   "execution_count": 32,
   "metadata": {},
   "outputs": [
    {
     "name": "stdout",
     "output_type": "stream",
     "text": [
      "Shape of A (143, 150)\n",
      "Shape of B (143, 150)\n",
      "Shape of T (150,)\n",
      "Shape of W (150,)\n",
      "Shape of np.diag(W*T) (150, 150)\n"
     ]
    },
    {
     "data": {
      "text/plain": [
       "array([[13.30633683,  5.5326697 ,  7.52995913, ...,  9.56075062,\n",
       "        11.25729484, 10.18970417],\n",
       "       [ 0.11527099, -0.24504553, -1.83423466, ...,  8.62106182,\n",
       "         1.20227638, -5.44216975],\n",
       "       [ 0.84301926, 10.96239706,  1.9080343 , ..., -0.53442165,\n",
       "         2.36698039,  1.31886309],\n",
       "       ...,\n",
       "       [11.11094645,  1.99858824, 14.3433042 , ..., 10.17795111,\n",
       "        17.71218834,  2.41973141],\n",
       "       [19.53380403, 10.00993498, 31.41693133, ..., 19.90584848,\n",
       "         6.63587039, 19.34640838],\n",
       "       [15.96857207,  8.58107199, 17.09999153, ..., 14.36120922,\n",
       "        18.24203112,  0.51889749]])"
      ]
     },
     "execution_count": 32,
     "metadata": {},
     "output_type": "execute_result"
    }
   ],
   "source": [
    "slice_2019 = get_slice(factors[1], factors[2], factors[0][7], weights)\n",
    "\n",
    "slice_2019"
   ]
  },
  {
   "cell_type": "code",
   "execution_count": 38,
   "metadata": {},
   "outputs": [
    {
     "data": {
      "text/plain": [
       "20449"
      ]
     },
     "execution_count": 38,
     "metadata": {},
     "output_type": "execute_result"
    }
   ],
   "source": []
  },
  {
   "cell_type": "code",
   "execution_count": 39,
   "metadata": {},
   "outputs": [],
   "source": [
    "from sklearn.metrics import mean_squared_error\n",
    "def RMSE(actual, pred):     \n",
    "    return (mean_squared_error(actual,pred))**0.5"
   ]
  },
  {
   "cell_type": "code",
   "execution_count": 40,
   "metadata": {},
   "outputs": [
    {
     "data": {
      "text/plain": [
       "3.8617856536043393"
      ]
     },
     "execution_count": 40,
     "metadata": {},
     "output_type": "execute_result"
    }
   ],
   "source": [
    "# calculate rmse for predictions\n",
    "RMSE(slice_2019, forecast_7_2019)"
   ]
  },
  {
   "cell_type": "code",
   "execution_count": 41,
   "metadata": {},
   "outputs": [
    {
     "data": {
      "text/plain": [
       "7.623025531190928"
      ]
     },
     "execution_count": 41,
     "metadata": {},
     "output_type": "execute_result"
    }
   ],
   "source": [
    "RMSE(slice_2019, forecast_2_2019)"
   ]
  },
  {
   "cell_type": "code",
   "execution_count": 45,
   "metadata": {},
   "outputs": [],
   "source": [
    "def alpha_experiment(num_years):\n",
    "    rmse = []\n",
    "    for alpha in [0.1, 0.2, 0.3, 0.4, 0.5, 0.6, 0.7, 0.8, 0.9, 1.0]:\n",
    "        C = exponential_smoothing_recursive(factors[0][0:num_years], alpha = alpha)\n",
    "        forecast = get_slice(factors[1], factors[2], C, weights)\n",
    "        rmse.append(RMSE(slice_2019, forecast))\n",
    "        \n",
    "    return rmse"
   ]
  },
  {
   "cell_type": "code",
   "execution_count": 49,
   "metadata": {},
   "outputs": [
    {
     "name": "stdout",
     "output_type": "stream",
     "text": [
      "Shape of A (143, 150)\n",
      "Shape of B (143, 150)\n",
      "Shape of T (150,)\n",
      "Shape of W (150,)\n",
      "Shape of np.diag(W*T) (150, 150)\n",
      "Shape of A (143, 150)\n",
      "Shape of B (143, 150)\n",
      "Shape of T (150,)\n",
      "Shape of W (150,)\n",
      "Shape of np.diag(W*T) (150, 150)\n",
      "Shape of A (143, 150)\n",
      "Shape of B (143, 150)\n",
      "Shape of T (150,)\n",
      "Shape of W (150,)\n",
      "Shape of np.diag(W*T) (150, 150)\n",
      "Shape of A (143, 150)\n",
      "Shape of B (143, 150)\n",
      "Shape of T (150,)\n",
      "Shape of W (150,)\n",
      "Shape of np.diag(W*T) (150, 150)\n",
      "Shape of A (143, 150)\n",
      "Shape of B (143, 150)\n",
      "Shape of T (150,)\n",
      "Shape of W (150,)\n",
      "Shape of np.diag(W*T) (150, 150)\n",
      "Shape of A (143, 150)\n",
      "Shape of B (143, 150)\n",
      "Shape of T (150,)\n",
      "Shape of W (150,)\n",
      "Shape of np.diag(W*T) (150, 150)\n",
      "Shape of A (143, 150)\n",
      "Shape of B (143, 150)\n",
      "Shape of T (150,)\n",
      "Shape of W (150,)\n",
      "Shape of np.diag(W*T) (150, 150)\n",
      "Shape of A (143, 150)\n",
      "Shape of B (143, 150)\n",
      "Shape of T (150,)\n",
      "Shape of W (150,)\n",
      "Shape of np.diag(W*T) (150, 150)\n",
      "Shape of A (143, 150)\n",
      "Shape of B (143, 150)\n",
      "Shape of T (150,)\n",
      "Shape of W (150,)\n",
      "Shape of np.diag(W*T) (150, 150)\n",
      "Shape of A (143, 150)\n",
      "Shape of B (143, 150)\n",
      "Shape of T (150,)\n",
      "Shape of W (150,)\n",
      "Shape of np.diag(W*T) (150, 150)\n",
      "Shape of A (143, 150)\n",
      "Shape of B (143, 150)\n",
      "Shape of T (150,)\n",
      "Shape of W (150,)\n",
      "Shape of np.diag(W*T) (150, 150)\n",
      "Shape of A (143, 150)\n",
      "Shape of B (143, 150)\n",
      "Shape of T (150,)\n",
      "Shape of W (150,)\n",
      "Shape of np.diag(W*T) (150, 150)\n",
      "Shape of A (143, 150)\n",
      "Shape of B (143, 150)\n",
      "Shape of T (150,)\n",
      "Shape of W (150,)\n",
      "Shape of np.diag(W*T) (150, 150)\n",
      "Shape of A (143, 150)\n",
      "Shape of B (143, 150)\n",
      "Shape of T (150,)\n",
      "Shape of W (150,)\n",
      "Shape of np.diag(W*T) (150, 150)\n",
      "Shape of A (143, 150)\n",
      "Shape of B (143, 150)\n",
      "Shape of T (150,)\n",
      "Shape of W (150,)\n",
      "Shape of np.diag(W*T) (150, 150)\n",
      "Shape of A (143, 150)\n",
      "Shape of B (143, 150)\n",
      "Shape of T (150,)\n",
      "Shape of W (150,)\n",
      "Shape of np.diag(W*T) (150, 150)\n",
      "Shape of A (143, 150)\n",
      "Shape of B (143, 150)\n",
      "Shape of T (150,)\n",
      "Shape of W (150,)\n",
      "Shape of np.diag(W*T) (150, 150)\n",
      "Shape of A (143, 150)\n",
      "Shape of B (143, 150)\n",
      "Shape of T (150,)\n",
      "Shape of W (150,)\n",
      "Shape of np.diag(W*T) (150, 150)\n",
      "Shape of A (143, 150)\n",
      "Shape of B (143, 150)\n",
      "Shape of T (150,)\n",
      "Shape of W (150,)\n",
      "Shape of np.diag(W*T) (150, 150)\n",
      "Shape of A (143, 150)\n",
      "Shape of B (143, 150)\n",
      "Shape of T (150,)\n",
      "Shape of W (150,)\n",
      "Shape of np.diag(W*T) (150, 150)\n",
      "Shape of A (143, 150)\n",
      "Shape of B (143, 150)\n",
      "Shape of T (150,)\n",
      "Shape of W (150,)\n",
      "Shape of np.diag(W*T) (150, 150)\n",
      "Shape of A (143, 150)\n",
      "Shape of B (143, 150)\n",
      "Shape of T (150,)\n",
      "Shape of W (150,)\n",
      "Shape of np.diag(W*T) (150, 150)\n",
      "Shape of A (143, 150)\n",
      "Shape of B (143, 150)\n",
      "Shape of T (150,)\n",
      "Shape of W (150,)\n",
      "Shape of np.diag(W*T) (150, 150)\n",
      "Shape of A (143, 150)\n",
      "Shape of B (143, 150)\n",
      "Shape of T (150,)\n",
      "Shape of W (150,)\n",
      "Shape of np.diag(W*T) (150, 150)\n",
      "Shape of A (143, 150)\n",
      "Shape of B (143, 150)\n",
      "Shape of T (150,)\n",
      "Shape of W (150,)\n",
      "Shape of np.diag(W*T) (150, 150)\n",
      "Shape of A (143, 150)\n",
      "Shape of B (143, 150)\n",
      "Shape of T (150,)\n",
      "Shape of W (150,)\n",
      "Shape of np.diag(W*T) (150, 150)\n",
      "Shape of A (143, 150)\n",
      "Shape of B (143, 150)\n",
      "Shape of T (150,)\n",
      "Shape of W (150,)\n",
      "Shape of np.diag(W*T) (150, 150)\n",
      "Shape of A (143, 150)\n",
      "Shape of B (143, 150)\n",
      "Shape of T (150,)\n",
      "Shape of W (150,)\n",
      "Shape of np.diag(W*T) (150, 150)\n",
      "Shape of A (143, 150)\n",
      "Shape of B (143, 150)\n",
      "Shape of T (150,)\n",
      "Shape of W (150,)\n",
      "Shape of np.diag(W*T) (150, 150)\n",
      "Shape of A (143, 150)\n",
      "Shape of B (143, 150)\n",
      "Shape of T (150,)\n",
      "Shape of W (150,)\n",
      "Shape of np.diag(W*T) (150, 150)\n",
      "Shape of A (143, 150)\n",
      "Shape of B (143, 150)\n",
      "Shape of T (150,)\n",
      "Shape of W (150,)\n",
      "Shape of np.diag(W*T) (150, 150)\n",
      "Shape of A (143, 150)\n",
      "Shape of B (143, 150)\n",
      "Shape of T (150,)\n",
      "Shape of W (150,)\n",
      "Shape of np.diag(W*T) (150, 150)\n",
      "Shape of A (143, 150)\n",
      "Shape of B (143, 150)\n",
      "Shape of T (150,)\n",
      "Shape of W (150,)\n",
      "Shape of np.diag(W*T) (150, 150)\n",
      "Shape of A (143, 150)\n",
      "Shape of B (143, 150)\n",
      "Shape of T (150,)\n",
      "Shape of W (150,)\n",
      "Shape of np.diag(W*T) (150, 150)\n",
      "Shape of A (143, 150)\n",
      "Shape of B (143, 150)\n",
      "Shape of T (150,)\n",
      "Shape of W (150,)\n",
      "Shape of np.diag(W*T) (150, 150)\n",
      "Shape of A (143, 150)\n",
      "Shape of B (143, 150)\n",
      "Shape of T (150,)\n",
      "Shape of W (150,)\n",
      "Shape of np.diag(W*T) (150, 150)\n",
      "Shape of A (143, 150)\n",
      "Shape of B (143, 150)\n",
      "Shape of T (150,)\n",
      "Shape of W (150,)\n",
      "Shape of np.diag(W*T) (150, 150)\n",
      "Shape of A (143, 150)\n",
      "Shape of B (143, 150)\n",
      "Shape of T (150,)\n",
      "Shape of W (150,)\n",
      "Shape of np.diag(W*T) (150, 150)\n",
      "Shape of A (143, 150)\n",
      "Shape of B (143, 150)\n",
      "Shape of T (150,)\n",
      "Shape of W (150,)\n",
      "Shape of np.diag(W*T) (150, 150)\n",
      "Shape of A (143, 150)\n",
      "Shape of B (143, 150)\n",
      "Shape of T (150,)\n",
      "Shape of W (150,)\n",
      "Shape of np.diag(W*T) (150, 150)\n",
      "Shape of A (143, 150)\n",
      "Shape of B (143, 150)\n",
      "Shape of T (150,)\n",
      "Shape of W (150,)\n",
      "Shape of np.diag(W*T) (150, 150)\n",
      "Shape of A (143, 150)\n",
      "Shape of B (143, 150)\n",
      "Shape of T (150,)\n",
      "Shape of W (150,)\n",
      "Shape of np.diag(W*T) (150, 150)\n",
      "Shape of A (143, 150)\n",
      "Shape of B (143, 150)\n",
      "Shape of T (150,)\n",
      "Shape of W (150,)\n",
      "Shape of np.diag(W*T) (150, 150)\n",
      "Shape of A (143, 150)\n",
      "Shape of B (143, 150)\n",
      "Shape of T (150,)\n",
      "Shape of W (150,)\n",
      "Shape of np.diag(W*T) (150, 150)\n",
      "Shape of A (143, 150)\n",
      "Shape of B (143, 150)\n",
      "Shape of T (150,)\n",
      "Shape of W (150,)\n",
      "Shape of np.diag(W*T) (150, 150)\n",
      "Shape of A (143, 150)\n",
      "Shape of B (143, 150)\n",
      "Shape of T (150,)\n",
      "Shape of W (150,)\n",
      "Shape of np.diag(W*T) (150, 150)\n",
      "Shape of A (143, 150)\n",
      "Shape of B (143, 150)\n",
      "Shape of T (150,)\n",
      "Shape of W (150,)\n",
      "Shape of np.diag(W*T) (150, 150)\n",
      "Shape of A (143, 150)\n",
      "Shape of B (143, 150)\n",
      "Shape of T (150,)\n",
      "Shape of W (150,)\n",
      "Shape of np.diag(W*T) (150, 150)\n",
      "Shape of A (143, 150)\n",
      "Shape of B (143, 150)\n",
      "Shape of T (150,)\n",
      "Shape of W (150,)\n",
      "Shape of np.diag(W*T) (150, 150)\n",
      "Shape of A (143, 150)\n",
      "Shape of B (143, 150)\n",
      "Shape of T (150,)\n",
      "Shape of W (150,)\n",
      "Shape of np.diag(W*T) (150, 150)\n",
      "Shape of A (143, 150)\n",
      "Shape of B (143, 150)\n",
      "Shape of T (150,)\n",
      "Shape of W (150,)\n",
      "Shape of np.diag(W*T) (150, 150)\n",
      "Shape of A (143, 150)\n",
      "Shape of B (143, 150)\n",
      "Shape of T (150,)\n",
      "Shape of W (150,)\n",
      "Shape of np.diag(W*T) (150, 150)\n",
      "Shape of A (143, 150)\n",
      "Shape of B (143, 150)\n",
      "Shape of T (150,)\n",
      "Shape of W (150,)\n",
      "Shape of np.diag(W*T) (150, 150)\n",
      "Shape of A (143, 150)\n",
      "Shape of B (143, 150)\n",
      "Shape of T (150,)\n",
      "Shape of W (150,)\n",
      "Shape of np.diag(W*T) (150, 150)\n",
      "Shape of A (143, 150)\n",
      "Shape of B (143, 150)\n",
      "Shape of T (150,)\n",
      "Shape of W (150,)\n",
      "Shape of np.diag(W*T) (150, 150)\n",
      "Shape of A (143, 150)\n",
      "Shape of B (143, 150)\n",
      "Shape of T (150,)\n",
      "Shape of W (150,)\n",
      "Shape of np.diag(W*T) (150, 150)\n",
      "Shape of A (143, 150)\n",
      "Shape of B (143, 150)\n",
      "Shape of T (150,)\n",
      "Shape of W (150,)\n",
      "Shape of np.diag(W*T) (150, 150)\n",
      "Shape of A (143, 150)\n",
      "Shape of B (143, 150)\n",
      "Shape of T (150,)\n",
      "Shape of W (150,)\n",
      "Shape of np.diag(W*T) (150, 150)\n",
      "Shape of A (143, 150)\n",
      "Shape of B (143, 150)\n",
      "Shape of T (150,)\n",
      "Shape of W (150,)\n",
      "Shape of np.diag(W*T) (150, 150)\n",
      "Shape of A (143, 150)\n",
      "Shape of B (143, 150)\n",
      "Shape of T (150,)\n",
      "Shape of W (150,)\n",
      "Shape of np.diag(W*T) (150, 150)\n",
      "Shape of A (143, 150)\n",
      "Shape of B (143, 150)\n",
      "Shape of T (150,)\n",
      "Shape of W (150,)\n",
      "Shape of np.diag(W*T) (150, 150)\n",
      "Shape of A (143, 150)\n",
      "Shape of B (143, 150)\n",
      "Shape of T (150,)\n",
      "Shape of W (150,)\n",
      "Shape of np.diag(W*T) (150, 150)\n",
      "Shape of A (143, 150)\n",
      "Shape of B (143, 150)\n",
      "Shape of T (150,)\n",
      "Shape of W (150,)\n",
      "Shape of np.diag(W*T) (150, 150)\n",
      "Shape of A (143, 150)\n",
      "Shape of B (143, 150)\n",
      "Shape of T (150,)\n",
      "Shape of W (150,)\n",
      "Shape of np.diag(W*T) (150, 150)\n",
      "Shape of A (143, 150)\n",
      "Shape of B (143, 150)\n",
      "Shape of T (150,)\n",
      "Shape of W (150,)\n",
      "Shape of np.diag(W*T) (150, 150)\n",
      "Shape of A (143, 150)\n",
      "Shape of B (143, 150)\n",
      "Shape of T (150,)\n",
      "Shape of W (150,)\n",
      "Shape of np.diag(W*T) (150, 150)\n",
      "Shape of A (143, 150)\n",
      "Shape of B (143, 150)\n",
      "Shape of T (150,)\n",
      "Shape of W (150,)\n",
      "Shape of np.diag(W*T) (150, 150)\n",
      "Shape of A (143, 150)\n",
      "Shape of B (143, 150)\n",
      "Shape of T (150,)\n",
      "Shape of W (150,)\n",
      "Shape of np.diag(W*T) (150, 150)\n",
      "Shape of A (143, 150)\n",
      "Shape of B (143, 150)\n",
      "Shape of T (150,)\n",
      "Shape of W (150,)\n",
      "Shape of np.diag(W*T) (150, 150)\n",
      "Shape of A (143, 150)\n",
      "Shape of B (143, 150)\n",
      "Shape of T (150,)\n",
      "Shape of W (150,)\n",
      "Shape of np.diag(W*T) (150, 150)\n"
     ]
    },
    {
     "data": {
      "text/plain": [
       "[[7.9232881577398615,\n",
       "  7.9232881577398615,\n",
       "  7.9232881577398615,\n",
       "  7.9232881577398615,\n",
       "  7.9232881577398615,\n",
       "  7.9232881577398615,\n",
       "  7.9232881577398615,\n",
       "  7.9232881577398615,\n",
       "  7.9232881577398615,\n",
       "  7.9232881577398615],\n",
       " [7.623025531190928,\n",
       "  7.361509722052515,\n",
       "  7.14299773530943,\n",
       "  6.971534409688772,\n",
       "  6.850653364781381,\n",
       "  6.783059423548,\n",
       "  6.770348800649281,\n",
       "  6.812828688701924,\n",
       "  6.909481219369783,\n",
       "  7.058081242102878],\n",
       " [7.298189608274014,\n",
       "  6.847697055379872,\n",
       "  6.557019955559121,\n",
       "  6.402969476263094,\n",
       "  6.35729271430437,\n",
       "  6.391367291918184,\n",
       "  6.480336053119316,\n",
       "  6.605614648620121,\n",
       "  6.755819288286121,\n",
       "  6.926677947412208],\n",
       " [6.969955104764222,\n",
       "  6.376148494002814,\n",
       "  6.055861918772057,\n",
       "  5.92090054397157,\n",
       "  5.898967821489927,\n",
       "  5.941492293453789,\n",
       "  6.021485927021099,\n",
       "  6.127214784051347,\n",
       "  6.25598575423602,\n",
       "  6.409794521981719],\n",
       " [6.611541086362098,\n",
       "  5.904391862904516,\n",
       "  5.589243103987273,\n",
       "  5.488338328025537,\n",
       "  5.488023197440405,\n",
       "  5.529252803931952,\n",
       "  5.585667984432773,\n",
       "  5.646992000665381,\n",
       "  5.710357904523361,\n",
       "  5.776985307822486],\n",
       " [6.206075781913142,\n",
       "  5.312302583497985,\n",
       "  4.878771611759037,\n",
       "  4.663130901904095,\n",
       "  4.544072379308743,\n",
       "  4.472630305560135,\n",
       "  4.431360616373105,\n",
       "  4.413886393079383,\n",
       "  4.417234534841506,\n",
       "  4.439724264837508],\n",
       " [5.780328855597892,\n",
       "  4.717522033512287,\n",
       "  4.213490822019018,\n",
       "  3.9720804652145167,\n",
       "  3.8617856536043393,\n",
       "  3.8268002305384714,\n",
       "  3.838049932307209,\n",
       "  3.876712383369916,\n",
       "  3.930305180139127,\n",
       "  3.991582426186814]]"
      ]
     },
     "execution_count": 49,
     "metadata": {},
     "output_type": "execute_result"
    }
   ],
   "source": [
    "experiments = []\n",
    "for i in range(1, 8):\n",
    "    experiments.append(alpha_experiment(i))\n",
    "    \n",
    "experiments"
   ]
  },
  {
   "cell_type": "code",
   "execution_count": 43,
   "metadata": {},
   "outputs": [
    {
     "name": "stdout",
     "output_type": "stream",
     "text": [
      "Shape of A (143, 150)\n",
      "Shape of B (143, 150)\n",
      "Shape of T (150,)\n",
      "Shape of W (150,)\n",
      "Shape of np.diag(W*T) (150, 150)\n",
      "Shape of A (143, 150)\n",
      "Shape of B (143, 150)\n",
      "Shape of T (150,)\n",
      "Shape of W (150,)\n",
      "Shape of np.diag(W*T) (150, 150)\n",
      "Shape of A (143, 150)\n",
      "Shape of B (143, 150)\n",
      "Shape of T (150,)\n",
      "Shape of W (150,)\n",
      "Shape of np.diag(W*T) (150, 150)\n",
      "Shape of A (143, 150)\n",
      "Shape of B (143, 150)\n",
      "Shape of T (150,)\n",
      "Shape of W (150,)\n",
      "Shape of np.diag(W*T) (150, 150)\n",
      "Shape of A (143, 150)\n",
      "Shape of B (143, 150)\n",
      "Shape of T (150,)\n",
      "Shape of W (150,)\n",
      "Shape of np.diag(W*T) (150, 150)\n",
      "Shape of A (143, 150)\n",
      "Shape of B (143, 150)\n",
      "Shape of T (150,)\n",
      "Shape of W (150,)\n",
      "Shape of np.diag(W*T) (150, 150)\n",
      "Shape of A (143, 150)\n",
      "Shape of B (143, 150)\n",
      "Shape of T (150,)\n",
      "Shape of W (150,)\n",
      "Shape of np.diag(W*T) (150, 150)\n",
      "Shape of A (143, 150)\n",
      "Shape of B (143, 150)\n",
      "Shape of T (150,)\n",
      "Shape of W (150,)\n",
      "Shape of np.diag(W*T) (150, 150)\n",
      "Shape of A (143, 150)\n",
      "Shape of B (143, 150)\n",
      "Shape of T (150,)\n",
      "Shape of W (150,)\n",
      "Shape of np.diag(W*T) (150, 150)\n",
      "Shape of A (143, 150)\n",
      "Shape of B (143, 150)\n",
      "Shape of T (150,)\n",
      "Shape of W (150,)\n",
      "Shape of np.diag(W*T) (150, 150)\n"
     ]
    },
    {
     "data": {
      "text/plain": [
       "[7.623025531190928,\n",
       " 7.361509722052515,\n",
       " 7.14299773530943,\n",
       " 6.971534409688772,\n",
       " 6.850653364781381,\n",
       " 6.783059423548,\n",
       " 6.770348800649281,\n",
       " 6.812828688701924,\n",
       " 6.909481219369783,\n",
       " 7.058081242102878]"
      ]
     },
     "execution_count": 43,
     "metadata": {},
     "output_type": "execute_result"
    }
   ],
   "source": [
    "num_years = 2\n",
    "rmse = []\n",
    "for alpha in [0.1, 0.2, 0.3, 0.4, 0.5, 0.6, 0.7, 0.8, 0.9, 1.0]:\n",
    "    C_2_2019 = exponential_smoothing_recursive(factors[0][0:num_years], alpha = alpha)\n",
    "    forecast_2_2019 = get_slice(factors[1], factors[2], C_2_2019, weights)\n",
    "    rmse.append(RMSE(slice_2019, forecast_2_2019))\n",
    "    \n",
    "rmse"
   ]
  },
  {
   "cell_type": "code",
   "execution_count": 44,
   "metadata": {},
   "outputs": [
    {
     "name": "stdout",
     "output_type": "stream",
     "text": [
      "Shape of A (143, 150)\n",
      "Shape of B (143, 150)\n",
      "Shape of T (150,)\n",
      "Shape of W (150,)\n",
      "Shape of np.diag(W*T) (150, 150)\n",
      "Shape of A (143, 150)\n",
      "Shape of B (143, 150)\n",
      "Shape of T (150,)\n",
      "Shape of W (150,)\n",
      "Shape of np.diag(W*T) (150, 150)\n",
      "Shape of A (143, 150)\n",
      "Shape of B (143, 150)\n",
      "Shape of T (150,)\n",
      "Shape of W (150,)\n",
      "Shape of np.diag(W*T) (150, 150)\n",
      "Shape of A (143, 150)\n",
      "Shape of B (143, 150)\n",
      "Shape of T (150,)\n",
      "Shape of W (150,)\n",
      "Shape of np.diag(W*T) (150, 150)\n",
      "Shape of A (143, 150)\n",
      "Shape of B (143, 150)\n",
      "Shape of T (150,)\n",
      "Shape of W (150,)\n",
      "Shape of np.diag(W*T) (150, 150)\n",
      "Shape of A (143, 150)\n",
      "Shape of B (143, 150)\n",
      "Shape of T (150,)\n",
      "Shape of W (150,)\n",
      "Shape of np.diag(W*T) (150, 150)\n",
      "Shape of A (143, 150)\n",
      "Shape of B (143, 150)\n",
      "Shape of T (150,)\n",
      "Shape of W (150,)\n",
      "Shape of np.diag(W*T) (150, 150)\n",
      "Shape of A (143, 150)\n",
      "Shape of B (143, 150)\n",
      "Shape of T (150,)\n",
      "Shape of W (150,)\n",
      "Shape of np.diag(W*T) (150, 150)\n",
      "Shape of A (143, 150)\n",
      "Shape of B (143, 150)\n",
      "Shape of T (150,)\n",
      "Shape of W (150,)\n",
      "Shape of np.diag(W*T) (150, 150)\n",
      "Shape of A (143, 150)\n",
      "Shape of B (143, 150)\n",
      "Shape of T (150,)\n",
      "Shape of W (150,)\n",
      "Shape of np.diag(W*T) (150, 150)\n"
     ]
    },
    {
     "data": {
      "text/plain": [
       "[5.780328855597892,\n",
       " 4.717522033512287,\n",
       " 4.213490822019018,\n",
       " 3.9720804652145167,\n",
       " 3.8617856536043393,\n",
       " 3.8268002305384714,\n",
       " 3.838049932307209,\n",
       " 3.876712383369916,\n",
       " 3.930305180139127,\n",
       " 3.991582426186814]"
      ]
     },
     "execution_count": 44,
     "metadata": {},
     "output_type": "execute_result"
    }
   ],
   "source": [
    "num_years = 7\n",
    "rmse = []\n",
    "for alpha in [0.1, 0.2, 0.3, 0.4, 0.5, 0.6, 0.7, 0.8, 0.9, 1.0]:\n",
    "    C = exponential_smoothing_recursive(factors[0][0:num_years], alpha = alpha)\n",
    "    forecast = get_slice(factors[1], factors[2], C, weights)\n",
    "    rmse.append(RMSE(slice_2019, forecast))\n",
    "    \n",
    "rmse"
   ]
  },
  {
   "cell_type": "code",
   "execution_count": 52,
   "metadata": {
    "ExecuteTime": {
     "end_time": "2022-04-16T20:10:30.281674Z",
     "start_time": "2022-04-16T20:10:30.262711Z"
    },
    "scrolled": true
   },
   "outputs": [],
   "source": [
    "# based on paper\n",
    "# factor matrix C\n",
    "# predict same col in next time slice C(K+1)\n",
    "# takes in factors produced by parafac and years to forecast (default is 1) \n",
    "# returns list of forecasted vectors, last n in list is the forecasted n years\n",
    "\n",
    "# Looks like you are obtaining the forecasts f1, f2, f3, etc using the temporal fronts t1, t2, t3\n",
    "# and then smoothing the forecasts i.e. f_n+1\n",
    "# The correct approach here is to smooth the temporal fronts i.e. get t_n+1 and then\n",
    "# use it to generate the f_n+1.\n",
    "def exponential_smoothing(factors, weights, forecast = 1):\n",
    "    num_slices = len(factors[0])  # Temporal factors\n",
    "    alpha = 0.5\n",
    "    \n",
    "    sl = get_slice(factors[1], factors[2], factors[0][0], weights)  # slice_0\n",
    "    forecasts = [sl]\n",
    "    \n",
    "    for i in range(0, num_slices + forecast):\n",
    "        # get slice\n",
    "        s_t = forecasts[i]\n",
    "        s_t1 = np.zeros((s_t.shape[0], s_t.shape[1]))\n",
    "        \n",
    "        past_c_k_r = []\n",
    "        for k in range(0, s_t.shape[0]):\n",
    "            \n",
    "            for r in range(0, s_t.shape[1]):\n",
    "                c_k_r = s_t[k][r]\n",
    "                next_c_k_r = 0\n",
    "                           \n",
    "                for num in range(0, k):\n",
    "                    smooth = alpha * ((1-alpha) ** num)\n",
    "                    next_c_k_r += smooth * past_c_k_r[-num]\n",
    "                \n",
    "                past_c_k_r.append(next_c_k_r)\n",
    "                    \n",
    "                s_t1[k,r] = next_c_k_r\n",
    "                \n",
    "        forecasts.append(s_t1)\n",
    "        \n",
    "    return forecasts\n",
    "         \n",
    "        \n",
    "        "
   ]
  },
  {
   "cell_type": "code",
   "execution_count": 53,
   "metadata": {
    "ExecuteTime": {
     "end_time": "2022-04-16T22:09:17.812912Z",
     "start_time": "2022-04-16T22:09:17.793947Z"
    }
   },
   "outputs": [
    {
     "name": "stdout",
     "output_type": "stream",
     "text": [
      "Shape of A (143, 150)\n",
      "Shape of B (143, 150)\n",
      "Shape of T (150,)\n",
      "Shape of W (150,)\n",
      "Shape of np.diag(W*T) (150, 150)\n",
      "[[0. 0. 0. ... 0. 0. 0.]\n",
      " [0. 0. 0. ... 0. 0. 0.]\n",
      " [0. 0. 0. ... 0. 0. 0.]\n",
      " ...\n",
      " [0. 0. 0. ... 0. 0. 0.]\n",
      " [0. 0. 0. ... 0. 0. 0.]\n",
      " [0. 0. 0. ... 0. 0. 0.]]\n"
     ]
    }
   ],
   "source": [
    "# testing expo smoothing\n",
    "forecasts = exponential_smoothing(factors, weights)\n",
    "print(forecasts[-1])"
   ]
  },
  {
   "cell_type": "code",
   "execution_count": 54,
   "metadata": {
    "ExecuteTime": {
     "end_time": "2022-04-16T19:56:42.307964Z",
     "start_time": "2022-04-16T19:56:42.289961Z"
    }
   },
   "outputs": [
    {
     "data": {
      "text/plain": [
       "array([[0., 0., 0., ..., 0., 0., 0.],\n",
       "       [0., 0., 0., ..., 0., 0., 0.],\n",
       "       [0., 0., 0., ..., 0., 0., 0.],\n",
       "       ...,\n",
       "       [0., 0., 0., ..., 0., 0., 0.],\n",
       "       [0., 0., 0., ..., 0., 0., 0.],\n",
       "       [0., 0., 0., ..., 0., 0., 0.]])"
      ]
     },
     "execution_count": 54,
     "metadata": {},
     "output_type": "execute_result"
    }
   ],
   "source": [
    "forecasts[2]\n"
   ]
  },
  {
   "cell_type": "code",
   "execution_count": 230,
   "metadata": {
    "ExecuteTime": {
     "end_time": "2022-04-16T19:57:11.805002Z",
     "start_time": "2022-04-16T19:57:11.784998Z"
    }
   },
   "outputs": [
    {
     "data": {
      "text/plain": [
       "array([ 6.08449941, 17.9035443 , 12.39185072, ..., 16.69321177,\n",
       "        9.42843118, 16.63586833])"
      ]
     },
     "execution_count": 230,
     "metadata": {},
     "output_type": "execute_result"
    }
   ],
   "source": []
  },
  {
   "cell_type": "code",
   "execution_count": null,
   "metadata": {
    "ExecuteTime": {
     "end_time": "2022-04-15T16:46:44.680613Z",
     "start_time": "2022-04-15T16:46:44.655613Z"
    }
   },
   "outputs": [],
   "source": []
  },
  {
   "cell_type": "code",
   "execution_count": null,
   "metadata": {
    "ExecuteTime": {
     "end_time": "2022-04-15T18:30:32.863836Z",
     "start_time": "2022-04-15T18:30:32.811313Z"
    }
   },
   "outputs": [],
   "source": []
  },
  {
   "cell_type": "code",
   "execution_count": null,
   "metadata": {
    "ExecuteTime": {
     "end_time": "2022-04-15T18:30:34.516483Z",
     "start_time": "2022-04-15T18:30:34.472057Z"
    },
    "scrolled": false
   },
   "outputs": [],
   "source": []
  },
  {
   "cell_type": "code",
   "execution_count": 106,
   "metadata": {
    "ExecuteTime": {
     "end_time": "2022-04-15T18:51:12.809476Z",
     "start_time": "2022-04-15T18:51:12.767615Z"
    }
   },
   "outputs": [],
   "source": []
  },
  {
   "cell_type": "code",
   "execution_count": null,
   "metadata": {
    "ExecuteTime": {
     "end_time": "2022-04-16T14:51:38.135348Z",
     "start_time": "2022-04-16T14:51:33.806576Z"
    }
   },
   "outputs": [],
   "source": []
  },
  {
   "cell_type": "code",
   "execution_count": null,
   "metadata": {},
   "outputs": [],
   "source": []
  },
  {
   "cell_type": "code",
   "execution_count": null,
   "metadata": {},
   "outputs": [],
   "source": []
  },
  {
   "cell_type": "code",
   "execution_count": null,
   "metadata": {},
   "outputs": [],
   "source": []
  },
  {
   "cell_type": "code",
   "execution_count": null,
   "metadata": {},
   "outputs": [],
   "source": []
  },
  {
   "cell_type": "code",
   "execution_count": null,
   "metadata": {},
   "outputs": [],
   "source": []
  },
  {
   "cell_type": "code",
   "execution_count": null,
   "metadata": {},
   "outputs": [],
   "source": []
  }
 ],
 "metadata": {
  "kernelspec": {
   "display_name": "Python 3",
   "language": "python",
   "name": "python3"
  },
  "language_info": {
   "codemirror_mode": {
    "name": "ipython",
    "version": 3
   },
   "file_extension": ".py",
   "mimetype": "text/x-python",
   "name": "python",
   "nbconvert_exporter": "python",
   "pygments_lexer": "ipython3",
   "version": "3.8.10"
  },
  "latex_envs": {
   "LaTeX_envs_menu_present": true,
   "autoclose": false,
   "autocomplete": true,
   "bibliofile": "biblio.bib",
   "cite_by": "apalike",
   "current_citInitial": 1,
   "eqLabelWithNumbers": true,
   "eqNumInitial": 1,
   "hotkeys": {
    "equation": "Ctrl-E",
    "itemize": "Ctrl-I"
   },
   "labels_anchors": false,
   "latex_user_defs": false,
   "report_style_numbering": false,
   "user_envs_cfg": false
  }
 },
 "nbformat": 4,
 "nbformat_minor": 5
}
